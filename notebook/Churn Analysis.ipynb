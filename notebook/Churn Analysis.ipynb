{
 "cells": [
  {
   "cell_type": "markdown",
   "id": "c8785645-a102-47da-b423-15a5d99d575a",
   "metadata": {},
   "source": [
    "# <a> Classificação </a>"
   ]
  },
  {
   "cell_type": "markdown",
   "id": "ea91bed0-40da-463e-9d82-02ce982b9447",
   "metadata": {},
   "source": [
    "Problemas relacionados à classificação sempre estiveram presentes num contexto financeiro e empresarial. Classificar transações bancárias como fraudulentas ou não, ou até mesmo prever o sentido (positivo ou negativo) da variação do preço de determinado ativo são apenas dois dos diversos casos em que tal abordagem é extremamente útil.\n",
    "\n",
    "O que caracteriza os casos acima como problemas de classificação é o fato da variável dependente ser discreta. Em cada uma das situações descritas há apenas duas classes, mas este não é um fator limitante para os problemas de classificação, existindo, também, a possibilidade de prever uma variável discreta num contexto multiclasse. "
   ]
  },
  {
   "cell_type": "markdown",
   "id": "7754b613-f851-4641-9c76-bb9b4bdc9999",
   "metadata": {},
   "source": [
    "# <a> Visão Geral - Previsão de Churn no Setor de Telecomunicações </a>"
   ]
  },
  {
   "cell_type": "markdown",
   "id": "b4b07537-be04-4668-8c98-4eeb7399b50d",
   "metadata": {},
   "source": [
    "A previsão de churn, em termos empresariais, refere-se à capacidade de uma organização antecipar e prever quais clientes estão em risco de deixar de utilizar os produtos ou serviços oferecidos pela empresa. O termo \"churn\" é usado para descrever a perda de clientes ou a taxa de cancelamento. Essa previsão é fundamental para as estratégias de retenção de clientes, pois permite que a empresa identifique os fatores que levam os clientes a saírem e tome medidas proativas para mitigar esse risco.\n",
    "\n",
    "É nesse sentido que a previsão de churn pode gerar valor numa empresa: \n",
    " * Incremento na receita por meio de uma maior retenção de clientes\n",
    " * Redução de custo de aquisição de novos clientes\n",
    " * Melhoria da satisfação do cliente por meio de maior atenção para os indicativos de churn\n",
    "\n",
    "A previsão de churn se enquadra num problema de classificação pois é necessário que se tenham as informações acerca do estado do cliente: se deixou os serviços da empresa, ou não. Em virtude deste mesmo fato, também é nítido que o problema analisado se ajusta ao aprendizado de máquina supervisionado.\n",
    "\n",
    "O presente projeto trata da previsão de churn numa empresa de telecomunicações. A base de dados utilizada pode ser obtida no [Kaggle](https://www.kaggle.com/blastchar/telco-customer-churn) e se trata de uma empresa telefônica fictícia com dados demográficos e de serviços contratados pelos clientes com a informação se estes saíram ou não da empresa."
   ]
  },
  {
   "cell_type": "markdown",
   "id": "fe1bd34b-72b2-4398-98e4-e7857ffbd3f2",
   "metadata": {},
   "source": [
    "# <a> Objetivos </a>"
   ]
  },
  {
   "cell_type": "markdown",
   "id": "fcf916a8-7368-4283-9d90-8a44d8f5ca65",
   "metadata": {},
   "source": [
    "Este trabalho conta com dois principais objetivos: \n",
    "1) Prever quais clientes são mais propensos a deixar os serviços da empresa de telefonia.\n",
    "2) Extrapolar os resultados da base de dados utilizada e demonstrar como a previsão de churn tem alta capacidade de gerar valor em diversos segmentos."
   ]
  },
  {
   "cell_type": "markdown",
   "id": "f7d7dbbb-21fb-49c0-8269-cfc9ff0639e8",
   "metadata": {},
   "source": [
    "Este projeto foi construído durante a formação da \"Let's Data\" - Jornada Cientista de Dados - https://www.letsdata.ai"
   ]
  },
  {
   "cell_type": "code",
   "execution_count": 1,
   "id": "93008092-7b24-4cc8-9644-720f3548345d",
   "metadata": {},
   "outputs": [],
   "source": [
    "# Importando bibliotecas necessárias \n",
    "import pandas as pd\n",
    "import numpy as np\n",
    "import seaborn as sns\n",
    "from matplotlib import pyplot as plt\n",
    "import os\n",
    "from scipy.stats import chi2_contingency\n",
    "import prince\n",
    "import warnings\n",
    "warnings.filterwarnings(\"ignore\")\n",
    "\n",
    "# Configurando pandas para mostrar todas as linhas e colunas\n",
    "pd.set_option('display.max_rows', None)\n",
    "pd.set_option('display.max_columns', None)\n",
    "\n",
    "# Configuração do pandas para não mostrar notação científica para números\n",
    "pd.set_option('display.float_format', lambda x: '%.2f' % x)"
   ]
  },
  {
   "cell_type": "code",
   "execution_count": 2,
   "id": "f551ccf7-d518-48c2-8e70-8df4f2075620",
   "metadata": {},
   "outputs": [
    {
     "data": {
      "text/html": [
       "<div>\n",
       "<style scoped>\n",
       "    .dataframe tbody tr th:only-of-type {\n",
       "        vertical-align: middle;\n",
       "    }\n",
       "\n",
       "    .dataframe tbody tr th {\n",
       "        vertical-align: top;\n",
       "    }\n",
       "\n",
       "    .dataframe thead th {\n",
       "        text-align: right;\n",
       "    }\n",
       "</style>\n",
       "<table border=\"1\" class=\"dataframe\">\n",
       "  <thead>\n",
       "    <tr style=\"text-align: right;\">\n",
       "      <th></th>\n",
       "      <th>id</th>\n",
       "      <th>gender</th>\n",
       "      <th>SeniorCitizen</th>\n",
       "      <th>Partner</th>\n",
       "      <th>Dependents</th>\n",
       "      <th>tenure</th>\n",
       "      <th>PhoneService</th>\n",
       "      <th>MultipleLines</th>\n",
       "      <th>InternetService</th>\n",
       "      <th>OnlineSecurity</th>\n",
       "      <th>OnlineBackup</th>\n",
       "      <th>DeviceProtection</th>\n",
       "      <th>TechSupport</th>\n",
       "      <th>StreamingTV</th>\n",
       "      <th>StreamingMovies</th>\n",
       "      <th>Contract</th>\n",
       "      <th>PaperlessBilling</th>\n",
       "      <th>PaymentMethod</th>\n",
       "      <th>MonthlyCharges</th>\n",
       "      <th>TotalCharges</th>\n",
       "      <th>Churn</th>\n",
       "    </tr>\n",
       "  </thead>\n",
       "  <tbody>\n",
       "    <tr>\n",
       "      <th>0</th>\n",
       "      <td>4030</td>\n",
       "      <td>Female</td>\n",
       "      <td>0</td>\n",
       "      <td>No</td>\n",
       "      <td>No</td>\n",
       "      <td>56.00</td>\n",
       "      <td>No</td>\n",
       "      <td>No phone service</td>\n",
       "      <td>DSL</td>\n",
       "      <td>Yes</td>\n",
       "      <td>Yes</td>\n",
       "      <td>Yes</td>\n",
       "      <td>Yes</td>\n",
       "      <td>No</td>\n",
       "      <td>No</td>\n",
       "      <td>Two year</td>\n",
       "      <td>No</td>\n",
       "      <td>NaN</td>\n",
       "      <td>45.05</td>\n",
       "      <td>2560.1</td>\n",
       "      <td>0</td>\n",
       "    </tr>\n",
       "    <tr>\n",
       "      <th>1</th>\n",
       "      <td>6731</td>\n",
       "      <td>Male</td>\n",
       "      <td>0</td>\n",
       "      <td>Yes</td>\n",
       "      <td>Yes</td>\n",
       "      <td>NaN</td>\n",
       "      <td>Yes</td>\n",
       "      <td>No</td>\n",
       "      <td>No</td>\n",
       "      <td>No internet service</td>\n",
       "      <td>No internet service</td>\n",
       "      <td>No internet service</td>\n",
       "      <td>No internet service</td>\n",
       "      <td>No internet service</td>\n",
       "      <td>No internet service</td>\n",
       "      <td>One year</td>\n",
       "      <td>No</td>\n",
       "      <td>Mailed check</td>\n",
       "      <td>19.65</td>\n",
       "      <td>332.65</td>\n",
       "      <td>0</td>\n",
       "    </tr>\n",
       "    <tr>\n",
       "      <th>2</th>\n",
       "      <td>6479</td>\n",
       "      <td>Female</td>\n",
       "      <td>0</td>\n",
       "      <td>Yes</td>\n",
       "      <td>No</td>\n",
       "      <td>60.00</td>\n",
       "      <td>Yes</td>\n",
       "      <td>Yes</td>\n",
       "      <td>Fiber optic</td>\n",
       "      <td>No</td>\n",
       "      <td>Yes</td>\n",
       "      <td>Yes</td>\n",
       "      <td>Yes</td>\n",
       "      <td>Yes</td>\n",
       "      <td>Yes</td>\n",
       "      <td>Two year</td>\n",
       "      <td>Yes</td>\n",
       "      <td>Credit card (automatic)</td>\n",
       "      <td>110.80</td>\n",
       "      <td>6640.7</td>\n",
       "      <td>0</td>\n",
       "    </tr>\n",
       "    <tr>\n",
       "      <th>3</th>\n",
       "      <td>6861</td>\n",
       "      <td>Female</td>\n",
       "      <td>0</td>\n",
       "      <td>No</td>\n",
       "      <td>No</td>\n",
       "      <td>37.00</td>\n",
       "      <td>Yes</td>\n",
       "      <td>Yes</td>\n",
       "      <td>Fiber optic</td>\n",
       "      <td>No</td>\n",
       "      <td>Yes</td>\n",
       "      <td>Yes</td>\n",
       "      <td>No</td>\n",
       "      <td>Yes</td>\n",
       "      <td>Yes</td>\n",
       "      <td>Month-to-month</td>\n",
       "      <td>Yes</td>\n",
       "      <td>Bank transfer (automatic)</td>\n",
       "      <td>101.90</td>\n",
       "      <td>3545.35</td>\n",
       "      <td>1</td>\n",
       "    </tr>\n",
       "    <tr>\n",
       "      <th>4</th>\n",
       "      <td>3266</td>\n",
       "      <td>Male</td>\n",
       "      <td>0</td>\n",
       "      <td>Yes</td>\n",
       "      <td>Yes</td>\n",
       "      <td>29.00</td>\n",
       "      <td>Yes</td>\n",
       "      <td>No</td>\n",
       "      <td>Fiber optic</td>\n",
       "      <td>No</td>\n",
       "      <td>No</td>\n",
       "      <td>No</td>\n",
       "      <td>No</td>\n",
       "      <td>No</td>\n",
       "      <td>No</td>\n",
       "      <td>Month-to-month</td>\n",
       "      <td>Yes</td>\n",
       "      <td>Electronic check</td>\n",
       "      <td>70.75</td>\n",
       "      <td>1974.8</td>\n",
       "      <td>1</td>\n",
       "    </tr>\n",
       "  </tbody>\n",
       "</table>\n",
       "</div>"
      ],
      "text/plain": [
       "     id  gender  SeniorCitizen Partner Dependents  tenure PhoneService  \\\n",
       "0  4030  Female              0      No         No   56.00           No   \n",
       "1  6731    Male              0     Yes        Yes     NaN          Yes   \n",
       "2  6479  Female              0     Yes         No   60.00          Yes   \n",
       "3  6861  Female              0      No         No   37.00          Yes   \n",
       "4  3266    Male              0     Yes        Yes   29.00          Yes   \n",
       "\n",
       "      MultipleLines InternetService       OnlineSecurity         OnlineBackup  \\\n",
       "0  No phone service             DSL                  Yes                  Yes   \n",
       "1                No              No  No internet service  No internet service   \n",
       "2               Yes     Fiber optic                   No                  Yes   \n",
       "3               Yes     Fiber optic                   No                  Yes   \n",
       "4                No     Fiber optic                   No                   No   \n",
       "\n",
       "      DeviceProtection          TechSupport          StreamingTV  \\\n",
       "0                  Yes                  Yes                   No   \n",
       "1  No internet service  No internet service  No internet service   \n",
       "2                  Yes                  Yes                  Yes   \n",
       "3                  Yes                   No                  Yes   \n",
       "4                   No                   No                   No   \n",
       "\n",
       "       StreamingMovies        Contract PaperlessBilling  \\\n",
       "0                   No        Two year               No   \n",
       "1  No internet service        One year               No   \n",
       "2                  Yes        Two year              Yes   \n",
       "3                  Yes  Month-to-month              Yes   \n",
       "4                   No  Month-to-month              Yes   \n",
       "\n",
       "               PaymentMethod  MonthlyCharges TotalCharges  Churn  \n",
       "0                        NaN           45.05       2560.1      0  \n",
       "1               Mailed check           19.65       332.65      0  \n",
       "2    Credit card (automatic)          110.80       6640.7      0  \n",
       "3  Bank transfer (automatic)          101.90      3545.35      1  \n",
       "4           Electronic check           70.75       1974.8      1  "
      ]
     },
     "execution_count": 2,
     "metadata": {},
     "output_type": "execute_result"
    }
   ],
   "source": [
    "# Lendo os dados\n",
    "df_customers = pd.read_csv(\"./data/raw data/train.csv\")\n",
    "df_customers.head()"
   ]
  },
  {
   "cell_type": "code",
   "execution_count": 3,
   "id": "1816935e-05cf-4174-9de9-edff77d8df49",
   "metadata": {},
   "outputs": [
    {
     "data": {
      "text/plain": [
       "Index(['id', 'gender', 'SeniorCitizen', 'Partner', 'Dependents', 'tenure',\n",
       "       'PhoneService', 'MultipleLines', 'InternetService', 'OnlineSecurity',\n",
       "       'OnlineBackup', 'DeviceProtection', 'TechSupport', 'StreamingTV',\n",
       "       'StreamingMovies', 'Contract', 'PaperlessBilling', 'PaymentMethod',\n",
       "       'MonthlyCharges', 'TotalCharges', 'Churn'],\n",
       "      dtype='object')"
      ]
     },
     "execution_count": 3,
     "metadata": {},
     "output_type": "execute_result"
    }
   ],
   "source": [
    "# Visualizando as colunas do dataframe\n",
    "df_customers.columns"
   ]
  },
  {
   "cell_type": "markdown",
   "id": "a7eafede-eff7-4187-9e4c-0ddcda5e35da",
   "metadata": {},
   "source": [
    "Cada linha representa uma instância de dados, que nesse caso corresponde a um cliente. Dessa forma, todos os ID's são únicos."
   ]
  },
  {
   "cell_type": "code",
   "execution_count": 4,
   "id": "dcef1c90-a1a0-437b-98d2-21e9261fb689",
   "metadata": {},
   "outputs": [
    {
     "data": {
      "text/plain": [
       "True"
      ]
     },
     "execution_count": 4,
     "metadata": {},
     "output_type": "execute_result"
    }
   ],
   "source": [
    "# Verificando a afirmativa acima\n",
    "df_customers['id'].is_unique"
   ]
  },
  {
   "cell_type": "markdown",
   "id": "9ddc34b3-a7ce-4d9f-b43d-3bd674c4680e",
   "metadata": {},
   "source": [
    "## <a> Dicionário de Dados </a>"
   ]
  },
  {
   "attachments": {
    "62ff2c45-064a-4a36-9d78-10590afaf03a.png": {
     "image/png": "[encoded data removed]"
    }
   },
   "cell_type": "markdown",
   "id": "13ee5f36-2398-4f98-ad06-01652878f8e2",
   "metadata": {},
   "source": [
    "![image.png](attachment:62ff2c45-064a-4a36-9d78-10590afaf03a.png)"
   ]
  },
  {
   "cell_type": "markdown",
   "id": "f570f0d8-a0ae-4aa2-9de0-6e5fdfc2d7c0",
   "metadata": {},
   "source": [
    "## <a> Manipulação de Dados Inicial </a>"
   ]
  },
  {
   "cell_type": "code",
   "execution_count": 5,
   "id": "dba66b4b-b70d-4efc-8f09-2c6ade00db87",
   "metadata": {},
   "outputs": [
    {
     "data": {
      "text/html": [
       "<div>\n",
       "<style scoped>\n",
       "    .dataframe tbody tr th:only-of-type {\n",
       "        vertical-align: middle;\n",
       "    }\n",
       "\n",
       "    .dataframe tbody tr th {\n",
       "        vertical-align: top;\n",
       "    }\n",
       "\n",
       "    .dataframe thead th {\n",
       "        text-align: right;\n",
       "    }\n",
       "</style>\n",
       "<table border=\"1\" class=\"dataframe\">\n",
       "  <thead>\n",
       "    <tr style=\"text-align: right;\">\n",
       "      <th></th>\n",
       "      <th>id</th>\n",
       "      <th>gender</th>\n",
       "      <th>SeniorCitizen</th>\n",
       "      <th>Partner</th>\n",
       "      <th>Dependents</th>\n",
       "      <th>tenure</th>\n",
       "      <th>PhoneService</th>\n",
       "      <th>MultipleLines</th>\n",
       "      <th>InternetService</th>\n",
       "      <th>OnlineSecurity</th>\n",
       "      <th>OnlineBackup</th>\n",
       "      <th>DeviceProtection</th>\n",
       "      <th>TechSupport</th>\n",
       "      <th>StreamingTV</th>\n",
       "      <th>StreamingMovies</th>\n",
       "      <th>Contract</th>\n",
       "      <th>PaperlessBilling</th>\n",
       "      <th>PaymentMethod</th>\n",
       "      <th>MonthlyCharges</th>\n",
       "      <th>TotalCharges</th>\n",
       "      <th>Churn</th>\n",
       "    </tr>\n",
       "  </thead>\n",
       "  <tbody>\n",
       "    <tr>\n",
       "      <th>0</th>\n",
       "      <td>4030</td>\n",
       "      <td>Female</td>\n",
       "      <td>0</td>\n",
       "      <td>No</td>\n",
       "      <td>No</td>\n",
       "      <td>56.00</td>\n",
       "      <td>No</td>\n",
       "      <td>No phone service</td>\n",
       "      <td>DSL</td>\n",
       "      <td>Yes</td>\n",
       "      <td>Yes</td>\n",
       "      <td>Yes</td>\n",
       "      <td>Yes</td>\n",
       "      <td>No</td>\n",
       "      <td>No</td>\n",
       "      <td>Two year</td>\n",
       "      <td>No</td>\n",
       "      <td>NaN</td>\n",
       "      <td>45.05</td>\n",
       "      <td>2560.1</td>\n",
       "      <td>0</td>\n",
       "    </tr>\n",
       "    <tr>\n",
       "      <th>1</th>\n",
       "      <td>6731</td>\n",
       "      <td>Male</td>\n",
       "      <td>0</td>\n",
       "      <td>Yes</td>\n",
       "      <td>Yes</td>\n",
       "      <td>NaN</td>\n",
       "      <td>Yes</td>\n",
       "      <td>No</td>\n",
       "      <td>No</td>\n",
       "      <td>No internet service</td>\n",
       "      <td>No internet service</td>\n",
       "      <td>No internet service</td>\n",
       "      <td>No internet service</td>\n",
       "      <td>No internet service</td>\n",
       "      <td>No internet service</td>\n",
       "      <td>One year</td>\n",
       "      <td>No</td>\n",
       "      <td>Mailed check</td>\n",
       "      <td>19.65</td>\n",
       "      <td>332.65</td>\n",
       "      <td>0</td>\n",
       "    </tr>\n",
       "    <tr>\n",
       "      <th>2</th>\n",
       "      <td>6479</td>\n",
       "      <td>Female</td>\n",
       "      <td>0</td>\n",
       "      <td>Yes</td>\n",
       "      <td>No</td>\n",
       "      <td>60.00</td>\n",
       "      <td>Yes</td>\n",
       "      <td>Yes</td>\n",
       "      <td>Fiber optic</td>\n",
       "      <td>No</td>\n",
       "      <td>Yes</td>\n",
       "      <td>Yes</td>\n",
       "      <td>Yes</td>\n",
       "      <td>Yes</td>\n",
       "      <td>Yes</td>\n",
       "      <td>Two year</td>\n",
       "      <td>Yes</td>\n",
       "      <td>Credit card (automatic)</td>\n",
       "      <td>110.80</td>\n",
       "      <td>6640.7</td>\n",
       "      <td>0</td>\n",
       "    </tr>\n",
       "    <tr>\n",
       "      <th>3</th>\n",
       "      <td>6861</td>\n",
       "      <td>Female</td>\n",
       "      <td>0</td>\n",
       "      <td>No</td>\n",
       "      <td>No</td>\n",
       "      <td>37.00</td>\n",
       "      <td>Yes</td>\n",
       "      <td>Yes</td>\n",
       "      <td>Fiber optic</td>\n",
       "      <td>No</td>\n",
       "      <td>Yes</td>\n",
       "      <td>Yes</td>\n",
       "      <td>No</td>\n",
       "      <td>Yes</td>\n",
       "      <td>Yes</td>\n",
       "      <td>Month-to-month</td>\n",
       "      <td>Yes</td>\n",
       "      <td>Bank transfer (automatic)</td>\n",
       "      <td>101.90</td>\n",
       "      <td>3545.35</td>\n",
       "      <td>1</td>\n",
       "    </tr>\n",
       "    <tr>\n",
       "      <th>4</th>\n",
       "      <td>3266</td>\n",
       "      <td>Male</td>\n",
       "      <td>0</td>\n",
       "      <td>Yes</td>\n",
       "      <td>Yes</td>\n",
       "      <td>29.00</td>\n",
       "      <td>Yes</td>\n",
       "      <td>No</td>\n",
       "      <td>Fiber optic</td>\n",
       "      <td>No</td>\n",
       "      <td>No</td>\n",
       "      <td>No</td>\n",
       "      <td>No</td>\n",
       "      <td>No</td>\n",
       "      <td>No</td>\n",
       "      <td>Month-to-month</td>\n",
       "      <td>Yes</td>\n",
       "      <td>Electronic check</td>\n",
       "      <td>70.75</td>\n",
       "      <td>1974.8</td>\n",
       "      <td>1</td>\n",
       "    </tr>\n",
       "  </tbody>\n",
       "</table>\n",
       "</div>"
      ],
      "text/plain": [
       "     id  gender  SeniorCitizen Partner Dependents  tenure PhoneService  \\\n",
       "0  4030  Female              0      No         No   56.00           No   \n",
       "1  6731    Male              0     Yes        Yes     NaN          Yes   \n",
       "2  6479  Female              0     Yes         No   60.00          Yes   \n",
       "3  6861  Female              0      No         No   37.00          Yes   \n",
       "4  3266    Male              0     Yes        Yes   29.00          Yes   \n",
       "\n",
       "      MultipleLines InternetService       OnlineSecurity         OnlineBackup  \\\n",
       "0  No phone service             DSL                  Yes                  Yes   \n",
       "1                No              No  No internet service  No internet service   \n",
       "2               Yes     Fiber optic                   No                  Yes   \n",
       "3               Yes     Fiber optic                   No                  Yes   \n",
       "4                No     Fiber optic                   No                   No   \n",
       "\n",
       "      DeviceProtection          TechSupport          StreamingTV  \\\n",
       "0                  Yes                  Yes                   No   \n",
       "1  No internet service  No internet service  No internet service   \n",
       "2                  Yes                  Yes                  Yes   \n",
       "3                  Yes                   No                  Yes   \n",
       "4                   No                   No                   No   \n",
       "\n",
       "       StreamingMovies        Contract PaperlessBilling  \\\n",
       "0                   No        Two year               No   \n",
       "1  No internet service        One year               No   \n",
       "2                  Yes        Two year              Yes   \n",
       "3                  Yes  Month-to-month              Yes   \n",
       "4                   No  Month-to-month              Yes   \n",
       "\n",
       "               PaymentMethod  MonthlyCharges TotalCharges  Churn  \n",
       "0                        NaN           45.05       2560.1      0  \n",
       "1               Mailed check           19.65       332.65      0  \n",
       "2    Credit card (automatic)          110.80       6640.7      0  \n",
       "3  Bank transfer (automatic)          101.90      3545.35      1  \n",
       "4           Electronic check           70.75       1974.8      1  "
      ]
     },
     "execution_count": 5,
     "metadata": {},
     "output_type": "execute_result"
    }
   ],
   "source": [
    "# Visualizando os dados (coluna id pode ser utilizada como índice)\n",
    "df_customers.head()"
   ]
  },
  {
   "cell_type": "code",
   "execution_count": 6,
   "id": "3a676c07-b005-4e7f-831c-7c07362a4dd1",
   "metadata": {},
   "outputs": [
    {
     "data": {
      "text/html": [
       "<div>\n",
       "<style scoped>\n",
       "    .dataframe tbody tr th:only-of-type {\n",
       "        vertical-align: middle;\n",
       "    }\n",
       "\n",
       "    .dataframe tbody tr th {\n",
       "        vertical-align: top;\n",
       "    }\n",
       "\n",
       "    .dataframe thead th {\n",
       "        text-align: right;\n",
       "    }\n",
       "</style>\n",
       "<table border=\"1\" class=\"dataframe\">\n",
       "  <thead>\n",
       "    <tr style=\"text-align: right;\">\n",
       "      <th></th>\n",
       "      <th>gender</th>\n",
       "      <th>SeniorCitizen</th>\n",
       "      <th>Partner</th>\n",
       "      <th>Dependents</th>\n",
       "      <th>tenure</th>\n",
       "      <th>PhoneService</th>\n",
       "      <th>MultipleLines</th>\n",
       "      <th>InternetService</th>\n",
       "      <th>OnlineSecurity</th>\n",
       "      <th>OnlineBackup</th>\n",
       "      <th>DeviceProtection</th>\n",
       "      <th>TechSupport</th>\n",
       "      <th>StreamingTV</th>\n",
       "      <th>StreamingMovies</th>\n",
       "      <th>Contract</th>\n",
       "      <th>PaperlessBilling</th>\n",
       "      <th>PaymentMethod</th>\n",
       "      <th>MonthlyCharges</th>\n",
       "      <th>TotalCharges</th>\n",
       "      <th>Churn</th>\n",
       "    </tr>\n",
       "    <tr>\n",
       "      <th>id</th>\n",
       "      <th></th>\n",
       "      <th></th>\n",
       "      <th></th>\n",
       "      <th></th>\n",
       "      <th></th>\n",
       "      <th></th>\n",
       "      <th></th>\n",
       "      <th></th>\n",
       "      <th></th>\n",
       "      <th></th>\n",
       "      <th></th>\n",
       "      <th></th>\n",
       "      <th></th>\n",
       "      <th></th>\n",
       "      <th></th>\n",
       "      <th></th>\n",
       "      <th></th>\n",
       "      <th></th>\n",
       "      <th></th>\n",
       "      <th></th>\n",
       "    </tr>\n",
       "  </thead>\n",
       "  <tbody>\n",
       "    <tr>\n",
       "      <th>4030</th>\n",
       "      <td>Female</td>\n",
       "      <td>0</td>\n",
       "      <td>No</td>\n",
       "      <td>No</td>\n",
       "      <td>56.00</td>\n",
       "      <td>No</td>\n",
       "      <td>No phone service</td>\n",
       "      <td>DSL</td>\n",
       "      <td>Yes</td>\n",
       "      <td>Yes</td>\n",
       "      <td>Yes</td>\n",
       "      <td>Yes</td>\n",
       "      <td>No</td>\n",
       "      <td>No</td>\n",
       "      <td>Two year</td>\n",
       "      <td>No</td>\n",
       "      <td>NaN</td>\n",
       "      <td>45.05</td>\n",
       "      <td>2560.1</td>\n",
       "      <td>0</td>\n",
       "    </tr>\n",
       "    <tr>\n",
       "      <th>6731</th>\n",
       "      <td>Male</td>\n",
       "      <td>0</td>\n",
       "      <td>Yes</td>\n",
       "      <td>Yes</td>\n",
       "      <td>NaN</td>\n",
       "      <td>Yes</td>\n",
       "      <td>No</td>\n",
       "      <td>No</td>\n",
       "      <td>No internet service</td>\n",
       "      <td>No internet service</td>\n",
       "      <td>No internet service</td>\n",
       "      <td>No internet service</td>\n",
       "      <td>No internet service</td>\n",
       "      <td>No internet service</td>\n",
       "      <td>One year</td>\n",
       "      <td>No</td>\n",
       "      <td>Mailed check</td>\n",
       "      <td>19.65</td>\n",
       "      <td>332.65</td>\n",
       "      <td>0</td>\n",
       "    </tr>\n",
       "    <tr>\n",
       "      <th>6479</th>\n",
       "      <td>Female</td>\n",
       "      <td>0</td>\n",
       "      <td>Yes</td>\n",
       "      <td>No</td>\n",
       "      <td>60.00</td>\n",
       "      <td>Yes</td>\n",
       "      <td>Yes</td>\n",
       "      <td>Fiber optic</td>\n",
       "      <td>No</td>\n",
       "      <td>Yes</td>\n",
       "      <td>Yes</td>\n",
       "      <td>Yes</td>\n",
       "      <td>Yes</td>\n",
       "      <td>Yes</td>\n",
       "      <td>Two year</td>\n",
       "      <td>Yes</td>\n",
       "      <td>Credit card (automatic)</td>\n",
       "      <td>110.80</td>\n",
       "      <td>6640.7</td>\n",
       "      <td>0</td>\n",
       "    </tr>\n",
       "    <tr>\n",
       "      <th>6861</th>\n",
       "      <td>Female</td>\n",
       "      <td>0</td>\n",
       "      <td>No</td>\n",
       "      <td>No</td>\n",
       "      <td>37.00</td>\n",
       "      <td>Yes</td>\n",
       "      <td>Yes</td>\n",
       "      <td>Fiber optic</td>\n",
       "      <td>No</td>\n",
       "      <td>Yes</td>\n",
       "      <td>Yes</td>\n",
       "      <td>No</td>\n",
       "      <td>Yes</td>\n",
       "      <td>Yes</td>\n",
       "      <td>Month-to-month</td>\n",
       "      <td>Yes</td>\n",
       "      <td>Bank transfer (automatic)</td>\n",
       "      <td>101.90</td>\n",
       "      <td>3545.35</td>\n",
       "      <td>1</td>\n",
       "    </tr>\n",
       "    <tr>\n",
       "      <th>3266</th>\n",
       "      <td>Male</td>\n",
       "      <td>0</td>\n",
       "      <td>Yes</td>\n",
       "      <td>Yes</td>\n",
       "      <td>29.00</td>\n",
       "      <td>Yes</td>\n",
       "      <td>No</td>\n",
       "      <td>Fiber optic</td>\n",
       "      <td>No</td>\n",
       "      <td>No</td>\n",
       "      <td>No</td>\n",
       "      <td>No</td>\n",
       "      <td>No</td>\n",
       "      <td>No</td>\n",
       "      <td>Month-to-month</td>\n",
       "      <td>Yes</td>\n",
       "      <td>Electronic check</td>\n",
       "      <td>70.75</td>\n",
       "      <td>1974.8</td>\n",
       "      <td>1</td>\n",
       "    </tr>\n",
       "  </tbody>\n",
       "</table>\n",
       "</div>"
      ],
      "text/plain": [
       "      gender  SeniorCitizen Partner Dependents  tenure PhoneService  \\\n",
       "id                                                                    \n",
       "4030  Female              0      No         No   56.00           No   \n",
       "6731    Male              0     Yes        Yes     NaN          Yes   \n",
       "6479  Female              0     Yes         No   60.00          Yes   \n",
       "6861  Female              0      No         No   37.00          Yes   \n",
       "3266    Male              0     Yes        Yes   29.00          Yes   \n",
       "\n",
       "         MultipleLines InternetService       OnlineSecurity  \\\n",
       "id                                                            \n",
       "4030  No phone service             DSL                  Yes   \n",
       "6731                No              No  No internet service   \n",
       "6479               Yes     Fiber optic                   No   \n",
       "6861               Yes     Fiber optic                   No   \n",
       "3266                No     Fiber optic                   No   \n",
       "\n",
       "             OnlineBackup     DeviceProtection          TechSupport  \\\n",
       "id                                                                    \n",
       "4030                  Yes                  Yes                  Yes   \n",
       "6731  No internet service  No internet service  No internet service   \n",
       "6479                  Yes                  Yes                  Yes   \n",
       "6861                  Yes                  Yes                   No   \n",
       "3266                   No                   No                   No   \n",
       "\n",
       "              StreamingTV      StreamingMovies        Contract  \\\n",
       "id                                                               \n",
       "4030                   No                   No        Two year   \n",
       "6731  No internet service  No internet service        One year   \n",
       "6479                  Yes                  Yes        Two year   \n",
       "6861                  Yes                  Yes  Month-to-month   \n",
       "3266                   No                   No  Month-to-month   \n",
       "\n",
       "     PaperlessBilling              PaymentMethod  MonthlyCharges TotalCharges  \\\n",
       "id                                                                              \n",
       "4030               No                        NaN           45.05       2560.1   \n",
       "6731               No               Mailed check           19.65       332.65   \n",
       "6479              Yes    Credit card (automatic)          110.80       6640.7   \n",
       "6861              Yes  Bank transfer (automatic)          101.90      3545.35   \n",
       "3266              Yes           Electronic check           70.75       1974.8   \n",
       "\n",
       "      Churn  \n",
       "id           \n",
       "4030      0  \n",
       "6731      0  \n",
       "6479      0  \n",
       "6861      1  \n",
       "3266      1  "
      ]
     },
     "execution_count": 6,
     "metadata": {},
     "output_type": "execute_result"
    }
   ],
   "source": [
    "# Setando a coluna 'id' como índice do DataFrame\n",
    "df_customers = df_customers.set_index('id')\n",
    "df_customers.head()"
   ]
  },
  {
   "cell_type": "code",
   "execution_count": 7,
   "id": "32ead9a9-2b5f-481f-989b-8bc8d76170dd",
   "metadata": {},
   "outputs": [],
   "source": [
    "# Criando função para mostrar dimensões, tipos de coluna e demais informações do DataFrame\n",
    "def informacao(dataframe):\n",
    "    print(f\"As dimensões do DataFrame são: {(dataframe.shape[0])} linhas e {(dataframe.shape[1])} colunas\")\n",
    "    print(\"\\n\")\n",
    "    print(f\"As colunas do DataFrame e seus tipos são:\\n\\n{dataframe.dtypes}\")\n",
    "    print(\"\\n\")\n",
    "    print(\"Demais informações sobre o DataFrame: \\n\")\n",
    "    dataframe.info()"
   ]
  },
  {
   "cell_type": "code",
   "execution_count": 8,
   "id": "4b88b997-7b40-4e0b-87f3-a07803b3fb68",
   "metadata": {},
   "outputs": [
    {
     "name": "stdout",
     "output_type": "stream",
     "text": [
      "As dimensões do DataFrame são: 5634 linhas e 20 colunas\n",
      "\n",
      "\n",
      "As colunas do DataFrame e seus tipos são:\n",
      "\n",
      "gender               object\n",
      "SeniorCitizen         int64\n",
      "Partner              object\n",
      "Dependents           object\n",
      "tenure              float64\n",
      "PhoneService         object\n",
      "MultipleLines        object\n",
      "InternetService      object\n",
      "OnlineSecurity       object\n",
      "OnlineBackup         object\n",
      "DeviceProtection     object\n",
      "TechSupport          object\n",
      "StreamingTV          object\n",
      "StreamingMovies      object\n",
      "Contract             object\n",
      "PaperlessBilling     object\n",
      "PaymentMethod        object\n",
      "MonthlyCharges      float64\n",
      "TotalCharges         object\n",
      "Churn                 int64\n",
      "dtype: object\n",
      "\n",
      "\n",
      "Demais informações sobre o DataFrame: \n",
      "\n",
      "<class 'pandas.core.frame.DataFrame'>\n",
      "Index: 5634 entries, 4030 to 103\n",
      "Data columns (total 20 columns):\n",
      " #   Column            Non-Null Count  Dtype  \n",
      "---  ------            --------------  -----  \n",
      " 0   gender            5634 non-null   object \n",
      " 1   SeniorCitizen     5634 non-null   int64  \n",
      " 2   Partner           5634 non-null   object \n",
      " 3   Dependents        5416 non-null   object \n",
      " 4   tenure            5173 non-null   float64\n",
      " 5   PhoneService      5634 non-null   object \n",
      " 6   MultipleLines     5634 non-null   object \n",
      " 7   InternetService   5634 non-null   object \n",
      " 8   OnlineSecurity    5634 non-null   object \n",
      " 9   OnlineBackup      5634 non-null   object \n",
      " 10  DeviceProtection  5634 non-null   object \n",
      " 11  TechSupport       5634 non-null   object \n",
      " 12  StreamingTV       5634 non-null   object \n",
      " 13  StreamingMovies   5634 non-null   object \n",
      " 14  Contract          5634 non-null   object \n",
      " 15  PaperlessBilling  5634 non-null   object \n",
      " 16  PaymentMethod     5535 non-null   object \n",
      " 17  MonthlyCharges    5634 non-null   float64\n",
      " 18  TotalCharges      5634 non-null   object \n",
      " 19  Churn             5634 non-null   int64  \n",
      "dtypes: float64(2), int64(2), object(16)\n",
      "memory usage: 924.3+ KB\n"
     ]
    }
   ],
   "source": [
    "# Chamando a função\n",
    "informacao(df_customers)"
   ]
  },
  {
   "cell_type": "code",
   "execution_count": 9,
   "id": "2a538741-d8fd-49b4-a24d-28f72dfcf607",
   "metadata": {},
   "outputs": [
    {
     "data": {
      "text/plain": [
       "dtype('O')"
      ]
     },
     "execution_count": 9,
     "metadata": {},
     "output_type": "execute_result"
    }
   ],
   "source": [
    "# A feature 'TotalCharges' possui tipo 'object', mas deveria possuir tipo 'float'\n",
    "df_customers['TotalCharges'].dtype"
   ]
  },
  {
   "cell_type": "code",
   "execution_count": 10,
   "id": "ac18c0f0-90b3-493d-8758-b0a6c44097ed",
   "metadata": {},
   "outputs": [],
   "source": [
    "# Criando função para checar valores das features\n",
    "def valores(feature):\n",
    "    return df_customers[feature].value_counts()"
   ]
  },
  {
   "cell_type": "code",
   "execution_count": 11,
   "id": "c3d7c005-b182-4789-a7e3-50d44c94606a",
   "metadata": {},
   "outputs": [
    {
     "data": {
      "text/plain": [
       "TotalCharges\n",
       "20.2     8\n",
       "         8\n",
       "19.55    7\n",
       "19.75    6\n",
       "19.9     6\n",
       "19.45    6\n",
       "19.65    6\n",
       "20.05    6\n",
       "20.25    6\n",
       "45.3     5\n",
       "20.15    5\n",
       "44.4     4\n",
       "69.6     4\n",
       "20.3     4\n",
       "50.15    4\n",
       "19.3     4\n",
       "44       4\n",
       "20.45    4\n",
       "19.2     4\n",
       "69.65    4\n",
       "Name: count, dtype: int64"
      ]
     },
     "execution_count": 11,
     "metadata": {},
     "output_type": "execute_result"
    }
   ],
   "source": [
    "# Chamando a função (20 primeiras saídas)\n",
    "valores('TotalCharges').head(20)"
   ]
  },
  {
   "cell_type": "markdown",
   "id": "7b27d879-9203-4f88-9dc7-e73a739c4832",
   "metadata": {},
   "source": [
    "Há alguns valores em branco, essa pode ser a causa dessa feature estar com tipo 'object'. A fim de tratar este problema, utilizaremos expressões regulares."
   ]
  },
  {
   "cell_type": "code",
   "execution_count": 12,
   "id": "875d3a85-62e6-4e9f-9686-9a9f04822c40",
   "metadata": {},
   "outputs": [],
   "source": [
    "# Atualizando a feature 'TotalCharges' para que os valores com espaços sejam substituídos por um nome 'vazio', tal qual a string \"\".\n",
    "# \\s significa qualquer caractere de espaço, enquanto \\s+ significa um ou mais espaços\n",
    "df_customers['TotalCharges'] = df_customers['TotalCharges'].replace(\"\\s+\", \"\", regex = True)"
   ]
  },
  {
   "cell_type": "code",
   "execution_count": 13,
   "id": "67c17f2c-214a-4033-81bc-9b05c0dfab4d",
   "metadata": {},
   "outputs": [
    {
     "data": {
      "text/plain": [
       "TotalCharges\n",
       "20.2     8\n",
       "         8\n",
       "19.55    7\n",
       "19.75    6\n",
       "19.9     6\n",
       "19.45    6\n",
       "19.65    6\n",
       "20.05    6\n",
       "20.25    6\n",
       "45.3     5\n",
       "20.15    5\n",
       "44.4     4\n",
       "69.6     4\n",
       "20.3     4\n",
       "50.15    4\n",
       "19.3     4\n",
       "44       4\n",
       "20.45    4\n",
       "19.2     4\n",
       "69.65    4\n",
       "Name: count, dtype: int64"
      ]
     },
     "execution_count": 13,
     "metadata": {},
     "output_type": "execute_result"
    }
   ],
   "source": [
    "# Chamando a função novamente\n",
    "valores('TotalCharges').head(20)"
   ]
  },
  {
   "cell_type": "code",
   "execution_count": 14,
   "id": "58312663-f1d0-4d84-a97a-fd6ae37e6ad8",
   "metadata": {},
   "outputs": [
    {
     "data": {
      "text/plain": [
       "dtype('O')"
      ]
     },
     "execution_count": 14,
     "metadata": {},
     "output_type": "execute_result"
    }
   ],
   "source": [
    "# Verificando novamente o tipo da feature\n",
    "df_customers['TotalCharges'].dtype"
   ]
  },
  {
   "cell_type": "markdown",
   "id": "190e1a7f-430a-441f-a8a5-c6115c7119f4",
   "metadata": {},
   "source": [
    "Os valores continuam ali, mas foram substituídos por uma string vazia \"\". No entanto, ainda é necessário converter tais valores para 'float'.\n",
    "\n",
    "Como os valores que queremos converter são de strings vazias (\"\") para float, o método 'astype()' apresentará erros. Sendo assim, utilizaremos o método 'to_numeric()'."
   ]
  },
  {
   "cell_type": "code",
   "execution_count": 15,
   "id": "a8f4056c-e610-4207-ba95-630675eccd09",
   "metadata": {},
   "outputs": [
    {
     "data": {
      "text/html": [
       "<div>\n",
       "<style scoped>\n",
       "    .dataframe tbody tr th:only-of-type {\n",
       "        vertical-align: middle;\n",
       "    }\n",
       "\n",
       "    .dataframe tbody tr th {\n",
       "        vertical-align: top;\n",
       "    }\n",
       "\n",
       "    .dataframe thead th {\n",
       "        text-align: right;\n",
       "    }\n",
       "</style>\n",
       "<table border=\"1\" class=\"dataframe\">\n",
       "  <thead>\n",
       "    <tr style=\"text-align: right;\">\n",
       "      <th></th>\n",
       "      <th>gender</th>\n",
       "      <th>SeniorCitizen</th>\n",
       "      <th>Partner</th>\n",
       "      <th>Dependents</th>\n",
       "      <th>tenure</th>\n",
       "      <th>PhoneService</th>\n",
       "      <th>MultipleLines</th>\n",
       "      <th>InternetService</th>\n",
       "      <th>OnlineSecurity</th>\n",
       "      <th>OnlineBackup</th>\n",
       "      <th>DeviceProtection</th>\n",
       "      <th>TechSupport</th>\n",
       "      <th>StreamingTV</th>\n",
       "      <th>StreamingMovies</th>\n",
       "      <th>Contract</th>\n",
       "      <th>PaperlessBilling</th>\n",
       "      <th>PaymentMethod</th>\n",
       "      <th>MonthlyCharges</th>\n",
       "      <th>TotalCharges</th>\n",
       "      <th>Churn</th>\n",
       "    </tr>\n",
       "    <tr>\n",
       "      <th>id</th>\n",
       "      <th></th>\n",
       "      <th></th>\n",
       "      <th></th>\n",
       "      <th></th>\n",
       "      <th></th>\n",
       "      <th></th>\n",
       "      <th></th>\n",
       "      <th></th>\n",
       "      <th></th>\n",
       "      <th></th>\n",
       "      <th></th>\n",
       "      <th></th>\n",
       "      <th></th>\n",
       "      <th></th>\n",
       "      <th></th>\n",
       "      <th></th>\n",
       "      <th></th>\n",
       "      <th></th>\n",
       "      <th></th>\n",
       "      <th></th>\n",
       "    </tr>\n",
       "  </thead>\n",
       "  <tbody>\n",
       "    <tr>\n",
       "      <th>6755</th>\n",
       "      <td>Male</td>\n",
       "      <td>0</td>\n",
       "      <td>No</td>\n",
       "      <td>Yes</td>\n",
       "      <td>0.00</td>\n",
       "      <td>Yes</td>\n",
       "      <td>Yes</td>\n",
       "      <td>DSL</td>\n",
       "      <td>Yes</td>\n",
       "      <td>Yes</td>\n",
       "      <td>No</td>\n",
       "      <td>Yes</td>\n",
       "      <td>No</td>\n",
       "      <td>No</td>\n",
       "      <td>Two year</td>\n",
       "      <td>Yes</td>\n",
       "      <td>Bank transfer (automatic)</td>\n",
       "      <td>61.90</td>\n",
       "      <td></td>\n",
       "      <td>0</td>\n",
       "    </tr>\n",
       "    <tr>\n",
       "      <th>5219</th>\n",
       "      <td>Male</td>\n",
       "      <td>0</td>\n",
       "      <td>Yes</td>\n",
       "      <td>Yes</td>\n",
       "      <td>0.00</td>\n",
       "      <td>Yes</td>\n",
       "      <td>No</td>\n",
       "      <td>No</td>\n",
       "      <td>No internet service</td>\n",
       "      <td>No internet service</td>\n",
       "      <td>No internet service</td>\n",
       "      <td>No internet service</td>\n",
       "      <td>No internet service</td>\n",
       "      <td>No internet service</td>\n",
       "      <td>One year</td>\n",
       "      <td>Yes</td>\n",
       "      <td>Mailed check</td>\n",
       "      <td>19.70</td>\n",
       "      <td></td>\n",
       "      <td>0</td>\n",
       "    </tr>\n",
       "    <tr>\n",
       "      <th>6671</th>\n",
       "      <td>Female</td>\n",
       "      <td>0</td>\n",
       "      <td>Yes</td>\n",
       "      <td>Yes</td>\n",
       "      <td>0.00</td>\n",
       "      <td>Yes</td>\n",
       "      <td>Yes</td>\n",
       "      <td>DSL</td>\n",
       "      <td>No</td>\n",
       "      <td>Yes</td>\n",
       "      <td>Yes</td>\n",
       "      <td>Yes</td>\n",
       "      <td>Yes</td>\n",
       "      <td>No</td>\n",
       "      <td>Two year</td>\n",
       "      <td>No</td>\n",
       "      <td>Mailed check</td>\n",
       "      <td>73.35</td>\n",
       "      <td></td>\n",
       "      <td>0</td>\n",
       "    </tr>\n",
       "    <tr>\n",
       "      <th>937</th>\n",
       "      <td>Female</td>\n",
       "      <td>0</td>\n",
       "      <td>Yes</td>\n",
       "      <td>Yes</td>\n",
       "      <td>0.00</td>\n",
       "      <td>Yes</td>\n",
       "      <td>No</td>\n",
       "      <td>DSL</td>\n",
       "      <td>Yes</td>\n",
       "      <td>Yes</td>\n",
       "      <td>Yes</td>\n",
       "      <td>No</td>\n",
       "      <td>Yes</td>\n",
       "      <td>Yes</td>\n",
       "      <td>Two year</td>\n",
       "      <td>No</td>\n",
       "      <td>Mailed check</td>\n",
       "      <td>80.85</td>\n",
       "      <td></td>\n",
       "      <td>0</td>\n",
       "    </tr>\n",
       "    <tr>\n",
       "      <th>3827</th>\n",
       "      <td>Male</td>\n",
       "      <td>0</td>\n",
       "      <td>Yes</td>\n",
       "      <td>Yes</td>\n",
       "      <td>0.00</td>\n",
       "      <td>Yes</td>\n",
       "      <td>Yes</td>\n",
       "      <td>No</td>\n",
       "      <td>No internet service</td>\n",
       "      <td>No internet service</td>\n",
       "      <td>No internet service</td>\n",
       "      <td>No internet service</td>\n",
       "      <td>No internet service</td>\n",
       "      <td>No internet service</td>\n",
       "      <td>Two year</td>\n",
       "      <td>No</td>\n",
       "      <td>Mailed check</td>\n",
       "      <td>25.35</td>\n",
       "      <td></td>\n",
       "      <td>0</td>\n",
       "    </tr>\n",
       "    <tr>\n",
       "      <th>1083</th>\n",
       "      <td>Male</td>\n",
       "      <td>0</td>\n",
       "      <td>Yes</td>\n",
       "      <td>Yes</td>\n",
       "      <td>0.00</td>\n",
       "      <td>Yes</td>\n",
       "      <td>Yes</td>\n",
       "      <td>No</td>\n",
       "      <td>No internet service</td>\n",
       "      <td>No internet service</td>\n",
       "      <td>No internet service</td>\n",
       "      <td>No internet service</td>\n",
       "      <td>No internet service</td>\n",
       "      <td>No internet service</td>\n",
       "      <td>Two year</td>\n",
       "      <td>No</td>\n",
       "      <td>Mailed check</td>\n",
       "      <td>25.75</td>\n",
       "      <td></td>\n",
       "      <td>0</td>\n",
       "    </tr>\n",
       "    <tr>\n",
       "      <th>3332</th>\n",
       "      <td>Male</td>\n",
       "      <td>0</td>\n",
       "      <td>Yes</td>\n",
       "      <td>Yes</td>\n",
       "      <td>0.00</td>\n",
       "      <td>Yes</td>\n",
       "      <td>No</td>\n",
       "      <td>No</td>\n",
       "      <td>No internet service</td>\n",
       "      <td>No internet service</td>\n",
       "      <td>No internet service</td>\n",
       "      <td>No internet service</td>\n",
       "      <td>No internet service</td>\n",
       "      <td>No internet service</td>\n",
       "      <td>Two year</td>\n",
       "      <td>No</td>\n",
       "      <td>Mailed check</td>\n",
       "      <td>19.85</td>\n",
       "      <td></td>\n",
       "      <td>0</td>\n",
       "    </tr>\n",
       "    <tr>\n",
       "      <th>1341</th>\n",
       "      <td>Female</td>\n",
       "      <td>0</td>\n",
       "      <td>Yes</td>\n",
       "      <td>Yes</td>\n",
       "      <td>0.00</td>\n",
       "      <td>No</td>\n",
       "      <td>No phone service</td>\n",
       "      <td>DSL</td>\n",
       "      <td>Yes</td>\n",
       "      <td>Yes</td>\n",
       "      <td>Yes</td>\n",
       "      <td>Yes</td>\n",
       "      <td>Yes</td>\n",
       "      <td>No</td>\n",
       "      <td>Two year</td>\n",
       "      <td>No</td>\n",
       "      <td>Credit card (automatic)</td>\n",
       "      <td>56.05</td>\n",
       "      <td></td>\n",
       "      <td>0</td>\n",
       "    </tr>\n",
       "  </tbody>\n",
       "</table>\n",
       "</div>"
      ],
      "text/plain": [
       "      gender  SeniorCitizen Partner Dependents  tenure PhoneService  \\\n",
       "id                                                                    \n",
       "6755    Male              0      No        Yes    0.00          Yes   \n",
       "5219    Male              0     Yes        Yes    0.00          Yes   \n",
       "6671  Female              0     Yes        Yes    0.00          Yes   \n",
       "937   Female              0     Yes        Yes    0.00          Yes   \n",
       "3827    Male              0     Yes        Yes    0.00          Yes   \n",
       "1083    Male              0     Yes        Yes    0.00          Yes   \n",
       "3332    Male              0     Yes        Yes    0.00          Yes   \n",
       "1341  Female              0     Yes        Yes    0.00           No   \n",
       "\n",
       "         MultipleLines InternetService       OnlineSecurity  \\\n",
       "id                                                            \n",
       "6755               Yes             DSL                  Yes   \n",
       "5219                No              No  No internet service   \n",
       "6671               Yes             DSL                   No   \n",
       "937                 No             DSL                  Yes   \n",
       "3827               Yes              No  No internet service   \n",
       "1083               Yes              No  No internet service   \n",
       "3332                No              No  No internet service   \n",
       "1341  No phone service             DSL                  Yes   \n",
       "\n",
       "             OnlineBackup     DeviceProtection          TechSupport  \\\n",
       "id                                                                    \n",
       "6755                  Yes                   No                  Yes   \n",
       "5219  No internet service  No internet service  No internet service   \n",
       "6671                  Yes                  Yes                  Yes   \n",
       "937                   Yes                  Yes                   No   \n",
       "3827  No internet service  No internet service  No internet service   \n",
       "1083  No internet service  No internet service  No internet service   \n",
       "3332  No internet service  No internet service  No internet service   \n",
       "1341                  Yes                  Yes                  Yes   \n",
       "\n",
       "              StreamingTV      StreamingMovies  Contract PaperlessBilling  \\\n",
       "id                                                                          \n",
       "6755                   No                   No  Two year              Yes   \n",
       "5219  No internet service  No internet service  One year              Yes   \n",
       "6671                  Yes                   No  Two year               No   \n",
       "937                   Yes                  Yes  Two year               No   \n",
       "3827  No internet service  No internet service  Two year               No   \n",
       "1083  No internet service  No internet service  Two year               No   \n",
       "3332  No internet service  No internet service  Two year               No   \n",
       "1341                  Yes                   No  Two year               No   \n",
       "\n",
       "                  PaymentMethod  MonthlyCharges TotalCharges  Churn  \n",
       "id                                                                   \n",
       "6755  Bank transfer (automatic)           61.90                   0  \n",
       "5219               Mailed check           19.70                   0  \n",
       "6671               Mailed check           73.35                   0  \n",
       "937                Mailed check           80.85                   0  \n",
       "3827               Mailed check           25.35                   0  \n",
       "1083               Mailed check           25.75                   0  \n",
       "3332               Mailed check           19.85                   0  \n",
       "1341    Credit card (automatic)           56.05                   0  "
      ]
     },
     "execution_count": 15,
     "metadata": {},
     "output_type": "execute_result"
    }
   ],
   "source": [
    "# Filtrando as linhas em que a feature 'TotalCharges' é uma string vazia e não pode ser convertida para float\n",
    "df_customers.loc[df_customers['TotalCharges'] == \"\", :]"
   ]
  },
  {
   "cell_type": "code",
   "execution_count": 16,
   "id": "b1192e0d-afc3-4ab1-9255-c43f0caa8f4b",
   "metadata": {},
   "outputs": [
    {
     "data": {
      "text/plain": [
       "id\n",
       "4030   2560.10\n",
       "6731    332.65\n",
       "6479   6640.70\n",
       "6861   3545.35\n",
       "3266   1974.80\n",
       "6368   3442.80\n",
       "5830   1848.80\n",
       "4476     61.05\n",
       "1508   1008.70\n",
       "2921   6155.40\n",
       "3145    110.15\n",
       "333    4422.95\n",
       "2140    458.10\n",
       "3427     69.80\n",
       "3379   6033.10\n",
       "3163   1394.55\n",
       "6471    345.50\n",
       "2350   6565.85\n",
       "3756    318.90\n",
       "305    3141.70\n",
       "Name: TotalCharges, dtype: float64"
      ]
     },
     "execution_count": 16,
     "metadata": {},
     "output_type": "execute_result"
    }
   ],
   "source": [
    "# É interessante utilizar o método 'to_numeric()' pois podemos utilizar o parâmetro 'errors' como 'coerce' a fim de forçar a barra pra converter as\n",
    "# strings vazias em float\n",
    "pd.to_numeric(df_customers['TotalCharges'], errors = 'coerce').head(20)"
   ]
  },
  {
   "cell_type": "code",
   "execution_count": 17,
   "id": "8bd90f53-4b5b-4366-bbcc-2ac258b2fd0b",
   "metadata": {},
   "outputs": [
    {
     "data": {
      "text/plain": [
       "id\n",
       "6755   NaN\n",
       "5219   NaN\n",
       "6671   NaN\n",
       "937    NaN\n",
       "3827   NaN\n",
       "1083   NaN\n",
       "3332   NaN\n",
       "1341   NaN\n",
       "Name: TotalCharges, dtype: float64"
      ]
     },
     "execution_count": 17,
     "metadata": {},
     "output_type": "execute_result"
    }
   ],
   "source": [
    "# Selecionando os índices de onde o valor de 'TotalCharges' é uma string vazia \n",
    "indice_totalcharges_vazio = df_customers.loc[df_customers['TotalCharges'] == \"\", :].index\n",
    "indice_totalcharges_vazio\n",
    "\n",
    "# Visualizando como o método 'to_numeric()' converteria as linhas em que o valor de 'TotalCharges' era uma string vazia\n",
    "pd.to_numeric(df_customers['TotalCharges'], errors = 'coerce')[indice_totalcharges_vazio]"
   ]
  },
  {
   "cell_type": "markdown",
   "id": "1a415666-0744-4f81-8698-c34bef88cc69",
   "metadata": {},
   "source": [
    "Já tendo verificado como as mudanças ficariam, é hora de converter, de fato, a feature 'TotalCharges' para float"
   ]
  },
  {
   "cell_type": "code",
   "execution_count": 18,
   "id": "856e4f49-61bd-4211-99cf-9146c083dbc2",
   "metadata": {},
   "outputs": [
    {
     "data": {
      "text/html": [
       "<div>\n",
       "<style scoped>\n",
       "    .dataframe tbody tr th:only-of-type {\n",
       "        vertical-align: middle;\n",
       "    }\n",
       "\n",
       "    .dataframe tbody tr th {\n",
       "        vertical-align: top;\n",
       "    }\n",
       "\n",
       "    .dataframe thead th {\n",
       "        text-align: right;\n",
       "    }\n",
       "</style>\n",
       "<table border=\"1\" class=\"dataframe\">\n",
       "  <thead>\n",
       "    <tr style=\"text-align: right;\">\n",
       "      <th></th>\n",
       "      <th>gender</th>\n",
       "      <th>SeniorCitizen</th>\n",
       "      <th>Partner</th>\n",
       "      <th>Dependents</th>\n",
       "      <th>tenure</th>\n",
       "      <th>PhoneService</th>\n",
       "      <th>MultipleLines</th>\n",
       "      <th>InternetService</th>\n",
       "      <th>OnlineSecurity</th>\n",
       "      <th>OnlineBackup</th>\n",
       "      <th>DeviceProtection</th>\n",
       "      <th>TechSupport</th>\n",
       "      <th>StreamingTV</th>\n",
       "      <th>StreamingMovies</th>\n",
       "      <th>Contract</th>\n",
       "      <th>PaperlessBilling</th>\n",
       "      <th>PaymentMethod</th>\n",
       "      <th>MonthlyCharges</th>\n",
       "      <th>TotalCharges</th>\n",
       "      <th>Churn</th>\n",
       "    </tr>\n",
       "    <tr>\n",
       "      <th>id</th>\n",
       "      <th></th>\n",
       "      <th></th>\n",
       "      <th></th>\n",
       "      <th></th>\n",
       "      <th></th>\n",
       "      <th></th>\n",
       "      <th></th>\n",
       "      <th></th>\n",
       "      <th></th>\n",
       "      <th></th>\n",
       "      <th></th>\n",
       "      <th></th>\n",
       "      <th></th>\n",
       "      <th></th>\n",
       "      <th></th>\n",
       "      <th></th>\n",
       "      <th></th>\n",
       "      <th></th>\n",
       "      <th></th>\n",
       "      <th></th>\n",
       "    </tr>\n",
       "  </thead>\n",
       "  <tbody>\n",
       "  </tbody>\n",
       "</table>\n",
       "</div>"
      ],
      "text/plain": [
       "Empty DataFrame\n",
       "Columns: [gender, SeniorCitizen, Partner, Dependents, tenure, PhoneService, MultipleLines, InternetService, OnlineSecurity, OnlineBackup, DeviceProtection, TechSupport, StreamingTV, StreamingMovies, Contract, PaperlessBilling, PaymentMethod, MonthlyCharges, TotalCharges, Churn]\n",
       "Index: []"
      ]
     },
     "execution_count": 18,
     "metadata": {},
     "output_type": "execute_result"
    }
   ],
   "source": [
    "# Convertendo para 'NaN' (Not a number)\n",
    "df_customers['TotalCharges'] = pd.to_numeric(df_customers['TotalCharges'], errors = 'coerce')\n",
    "\n",
    "# Visualizando se há alguma linha em que a string vazia permanece na feature 'TotalCharges'\n",
    "df_customers.loc[df_customers['TotalCharges'] == \"\", :]"
   ]
  },
  {
   "cell_type": "code",
   "execution_count": 19,
   "id": "14e2c004-5222-409c-9202-3851219e5ef1",
   "metadata": {},
   "outputs": [
    {
     "data": {
      "text/plain": [
       "TotalCharges\n",
       "20.20    8\n",
       "19.55    7\n",
       "20.25    6\n",
       "19.65    6\n",
       "19.90    6\n",
       "19.45    6\n",
       "20.05    6\n",
       "19.75    6\n",
       "45.30    5\n",
       "20.15    5\n",
       "44.40    4\n",
       "20.30    4\n",
       "50.15    4\n",
       "19.30    4\n",
       "44.00    4\n",
       "69.60    4\n",
       "20.45    4\n",
       "19.20    4\n",
       "69.65    4\n",
       "74.35    3\n",
       "Name: count, dtype: int64"
      ]
     },
     "execution_count": 19,
     "metadata": {},
     "output_type": "execute_result"
    }
   ],
   "source": [
    "# Chamando a função mais uma vez\n",
    "valores('TotalCharges').head(20)"
   ]
  },
  {
   "cell_type": "code",
   "execution_count": 20,
   "id": "6eb29725-dbb5-4bca-b80b-bcc9ab17ba3d",
   "metadata": {},
   "outputs": [
    {
     "data": {
      "text/plain": [
       "gender               object\n",
       "SeniorCitizen         int64\n",
       "Partner              object\n",
       "Dependents           object\n",
       "tenure              float64\n",
       "PhoneService         object\n",
       "MultipleLines        object\n",
       "InternetService      object\n",
       "OnlineSecurity       object\n",
       "OnlineBackup         object\n",
       "DeviceProtection     object\n",
       "TechSupport          object\n",
       "StreamingTV          object\n",
       "StreamingMovies      object\n",
       "Contract             object\n",
       "PaperlessBilling     object\n",
       "PaymentMethod        object\n",
       "MonthlyCharges      float64\n",
       "TotalCharges        float64\n",
       "Churn                 int64\n",
       "dtype: object"
      ]
     },
     "execution_count": 20,
     "metadata": {},
     "output_type": "execute_result"
    }
   ],
   "source": [
    "# Verificando o tipo de todas as features novamente. 'TotalCharges' está como 'float' \n",
    "df_customers.dtypes"
   ]
  },
  {
   "cell_type": "markdown",
   "id": "c5c59f65-940c-46d4-b07a-9a0605348b5d",
   "metadata": {},
   "source": [
    "## <a> Análise Exploratória de Dados </a>"
   ]
  },
  {
   "cell_type": "markdown",
   "id": "510a1cd8-2c07-4f23-a718-63a39c0e0a20",
   "metadata": {},
   "source": [
    "Algumas perguntas podem ser respondidas por meio de uma análise exploratória bem construída. Além disso, é a partir desta que é possível escolher os melhores modelos para aplicar aos dados.\n",
    "\n",
    "Durante essa seção, serão mostradas medidas de tendência central, distribuições e mais."
   ]
  },
  {
   "cell_type": "code",
   "execution_count": 21,
   "id": "100343a3-4f46-4b0e-b724-6cf2374095b2",
   "metadata": {},
   "outputs": [
    {
     "data": {
      "text/html": [
       "<div>\n",
       "<style scoped>\n",
       "    .dataframe tbody tr th:only-of-type {\n",
       "        vertical-align: middle;\n",
       "    }\n",
       "\n",
       "    .dataframe tbody tr th {\n",
       "        vertical-align: top;\n",
       "    }\n",
       "\n",
       "    .dataframe thead th {\n",
       "        text-align: right;\n",
       "    }\n",
       "</style>\n",
       "<table border=\"1\" class=\"dataframe\">\n",
       "  <thead>\n",
       "    <tr style=\"text-align: right;\">\n",
       "      <th></th>\n",
       "      <th>SeniorCitizen</th>\n",
       "      <th>tenure</th>\n",
       "      <th>MonthlyCharges</th>\n",
       "      <th>TotalCharges</th>\n",
       "      <th>Churn</th>\n",
       "    </tr>\n",
       "  </thead>\n",
       "  <tbody>\n",
       "    <tr>\n",
       "      <th>count</th>\n",
       "      <td>5634.00</td>\n",
       "      <td>5173.00</td>\n",
       "      <td>5634.00</td>\n",
       "      <td>5626.00</td>\n",
       "      <td>5634.00</td>\n",
       "    </tr>\n",
       "    <tr>\n",
       "      <th>mean</th>\n",
       "      <td>0.16</td>\n",
       "      <td>32.33</td>\n",
       "      <td>64.63</td>\n",
       "      <td>2273.51</td>\n",
       "      <td>0.27</td>\n",
       "    </tr>\n",
       "    <tr>\n",
       "      <th>std</th>\n",
       "      <td>0.37</td>\n",
       "      <td>24.46</td>\n",
       "      <td>30.02</td>\n",
       "      <td>2258.38</td>\n",
       "      <td>0.44</td>\n",
       "    </tr>\n",
       "    <tr>\n",
       "      <th>min</th>\n",
       "      <td>0.00</td>\n",
       "      <td>0.00</td>\n",
       "      <td>18.25</td>\n",
       "      <td>18.80</td>\n",
       "      <td>0.00</td>\n",
       "    </tr>\n",
       "    <tr>\n",
       "      <th>25%</th>\n",
       "      <td>0.00</td>\n",
       "      <td>9.00</td>\n",
       "      <td>35.46</td>\n",
       "      <td>401.59</td>\n",
       "      <td>0.00</td>\n",
       "    </tr>\n",
       "    <tr>\n",
       "      <th>50%</th>\n",
       "      <td>0.00</td>\n",
       "      <td>29.00</td>\n",
       "      <td>70.25</td>\n",
       "      <td>1396.12</td>\n",
       "      <td>0.00</td>\n",
       "    </tr>\n",
       "    <tr>\n",
       "      <th>75%</th>\n",
       "      <td>0.00</td>\n",
       "      <td>55.00</td>\n",
       "      <td>89.80</td>\n",
       "      <td>3764.29</td>\n",
       "      <td>1.00</td>\n",
       "    </tr>\n",
       "    <tr>\n",
       "      <th>max</th>\n",
       "      <td>1.00</td>\n",
       "      <td>72.00</td>\n",
       "      <td>118.75</td>\n",
       "      <td>8684.80</td>\n",
       "      <td>1.00</td>\n",
       "    </tr>\n",
       "  </tbody>\n",
       "</table>\n",
       "</div>"
      ],
      "text/plain": [
       "       SeniorCitizen  tenure  MonthlyCharges  TotalCharges   Churn\n",
       "count        5634.00 5173.00         5634.00       5626.00 5634.00\n",
       "mean            0.16   32.33           64.63       2273.51    0.27\n",
       "std             0.37   24.46           30.02       2258.38    0.44\n",
       "min             0.00    0.00           18.25         18.80    0.00\n",
       "25%             0.00    9.00           35.46        401.59    0.00\n",
       "50%             0.00   29.00           70.25       1396.12    0.00\n",
       "75%             0.00   55.00           89.80       3764.29    1.00\n",
       "max             1.00   72.00          118.75       8684.80    1.00"
      ]
     },
     "execution_count": 21,
     "metadata": {},
     "output_type": "execute_result"
    }
   ],
   "source": [
    "# Analisando algumas estatísticas descritivas\n",
    "df_customers.describe()"
   ]
  },
  {
   "cell_type": "markdown",
   "id": "1bcfe2bc-5861-4db3-846c-8249d75643c8",
   "metadata": {},
   "source": [
    "Desconsiderando as variáveis 'SeniorCitizen' e 'Churn', que são discretas, é possível perceber que:\n",
    "* A média de tempo que os clientes permanecem na empresa é de 32.33 meses\n",
    "* O tempo máximo de permanência na empresa foi de 72 meses\n",
    "* Apenas 25% dos clientes gastam mais de 89.90 dólares por mês\n",
    "* A média de gastos por mês é de 64.63 dólares"
   ]
  },
  {
   "cell_type": "markdown",
   "id": "0dd8dd47-3dca-43e8-a228-25213804a58f",
   "metadata": {},
   "source": [
    "Para conhecer a distribuição dos dados de forma mais clara, é importante utilizar a análise gráfica"
   ]
  },
  {
   "cell_type": "markdown",
   "id": "e67b0d96-adf8-4fe4-854b-6fb0aacd1a76",
   "metadata": {},
   "source": [
    "### <a> Distribuições </a> "
   ]
  },
  {
   "cell_type": "code",
   "execution_count": 22,
   "id": "a56b135d-12fa-474b-9291-c094fc178f5d",
   "metadata": {},
   "outputs": [],
   "source": [
    "# Criando função para visualização gráfica\n",
    "def histograma(dados, var, legenda):\n",
    "    '''\n",
    "    Utiliza-se dos argumentos 'dados' (referente ao DataFrame),\n",
    "    'var' (referente a feature do DataFrame) e 'legenda' (referente a legenda do eixo x e ao título, nessa ordem)\n",
    "    para criar um histograma a fim de facilitar a análise gráfica da distribuição\n",
    "    '''\n",
    "    \n",
    "    sns.set_style(\"white\") # Setando estilo do seaborn \n",
    "    plt.figure(figsize=(8,4)) # Definindo tamanho do objeto figure\n",
    "    sns.histplot(data = dados, x = f'{var}', color = 'midnightblue') # Plotando o gráfico\n",
    "    sns.despine(bottom = True, left = True) # Retirando bordas\n",
    "    plt.ylabel(\"Quantidade\", color = 'grey', fontsize = 10, labelpad = 15) # Colocando legenda \n",
    "    plt.tick_params(axis = 'y', labelsize = 9, color = 'grey') # e ajustando eixo y\n",
    "    plt.xlabel(f\"{legenda[0]}\", color = 'grey', fontsize = 10, labelpad = 15) # Colocando legenda \n",
    "    plt.tick_params(axis = 'x', labelsize = 9, color = 'grey') # e ajustando o eixo x\n",
    "    \n",
    "    # Colocando titulo\n",
    "    plt.title(f\"{legenda[1]}\", color = 'k', pad = 20, fontsize = 15, fontweight = 'bold')\n",
    "    \n",
    "    # Mostrando \n",
    "    plt.show()"
   ]
  },
  {
   "cell_type": "code",
   "execution_count": 23,
   "id": "5b53f8a5-3e23-4885-9fdf-51c2217ebd20",
   "metadata": {},
   "outputs": [
    {
     "data": {
      "image/png": "[encoded data removed]",
      "text/plain": [
       "<Figure size 800x400 with 1 Axes>"
      ]
     },
     "metadata": {},
     "output_type": "display_data"
    }
   ],
   "source": [
    "# Observando a distribuição da variável 'tenure' referente ao tempo de permanência dos clientes na empresa\n",
    "histograma(df_customers, 'tenure', ('Tempo (em meses)', 'Permanência de Clientes na Empresa'))"
   ]
  },
  {
   "cell_type": "markdown",
   "id": "9fe90c6e-6edd-4e55-8c45-f448cad4627f",
   "metadata": {},
   "source": [
    "Aqui existem dois cenários:\n",
    "1) Primeiramente, é interessante notar que há muitos valores próximos de 0. Isso não significa necessariamente que os clientes estão ficando pouco tempo na empresa, uma vez que este fenômeno pode ocorrer devido a uma possível entrada de muitos clientes na organização. Levando em consideração que a base de dados utilizada representa uma Cross-Section (um recorte no tempo), deve-se ter em mente tais considerações.\n",
    "2) Existem muitos valores considerados como o tempo de permanência máximo, que, como foi mostrado, corresponde a 72 meses (6 anos). Isso não significa que este é, de fato, o tempo máximo de permanência na empresa, já que existe a possibilidade da coleta dos dados utilizados ter começado há 6 anos e os clientes mais antigos estarem todos representados na última faixa (bin) do histograma, quando, na verdade, deveriam estar distribuídos entre outras faixas de tempo de permanência (de 72 meses pra cima).\n",
    "\n",
    "Em razão disso, é importante checar os valores mais profundamente"
   ]
  },
  {
   "cell_type": "code",
   "execution_count": 24,
   "id": "1800540e-95ee-4ab8-9699-b0d9aef973c3",
   "metadata": {},
   "outputs": [
    {
     "data": {
      "text/plain": [
       "992"
      ]
     },
     "execution_count": 24,
     "metadata": {},
     "output_type": "execute_result"
    }
   ],
   "source": [
    "# Analisando quantidade de clientes com permanência menor ou igual a 5 meses \n",
    "len(df_customers.loc[df_customers['tenure'] <= 5])"
   ]
  },
  {
   "cell_type": "code",
   "execution_count": 25,
   "id": "268937c2-b5f6-4527-988f-eb4800769dc6",
   "metadata": {},
   "outputs": [
    {
     "name": "stdout",
     "output_type": "stream",
     "text": [
      "17.61% dos clientes estão na empresa há 5 meses ou menos\n"
     ]
    }
   ],
   "source": [
    "# Calculando percentual dos clientes com permanência menor ou igual a 5 meses\n",
    "percentual = (len(df_customers.loc[df_customers['tenure'] <= 5])/df_customers.shape[0]) * 100\n",
    "\n",
    "# Mostrando\n",
    "print(f\"{percentual:.2f}% dos clientes estão na empresa há 5 meses ou menos\")"
   ]
  },
  {
   "cell_type": "markdown",
   "id": "bd143aa8-77b9-4bd9-9996-1e7104afea7f",
   "metadata": {},
   "source": [
    "Uma grande parcela de clientes está na empresa há pouco tempo, o que pode ser, de fato, um indicativo de crescimento "
   ]
  },
  {
   "cell_type": "markdown",
   "id": "f31ac399-7c48-42a7-95c9-7480727cd5b5",
   "metadata": {},
   "source": [
    "A fim de examinar o cenário 2 descrito acima, é possível dividir o total de consumo dos clientes (durante toda permanência na empresa) pelas despesas mensais, estimando, dessa forma, o tempo que estão na organização de telecomunicações"
   ]
  },
  {
   "cell_type": "code",
   "execution_count": 26,
   "id": "cfbe7baf-0a3b-4001-98aa-d1c811f9e304",
   "metadata": {},
   "outputs": [
    {
     "data": {
      "text/html": [
       "<div>\n",
       "<style scoped>\n",
       "    .dataframe tbody tr th:only-of-type {\n",
       "        vertical-align: middle;\n",
       "    }\n",
       "\n",
       "    .dataframe tbody tr th {\n",
       "        vertical-align: top;\n",
       "    }\n",
       "\n",
       "    .dataframe thead th {\n",
       "        text-align: right;\n",
       "    }\n",
       "</style>\n",
       "<table border=\"1\" class=\"dataframe\">\n",
       "  <thead>\n",
       "    <tr style=\"text-align: right;\">\n",
       "      <th></th>\n",
       "      <th>meses</th>\n",
       "    </tr>\n",
       "    <tr>\n",
       "      <th>id</th>\n",
       "      <th></th>\n",
       "    </tr>\n",
       "  </thead>\n",
       "  <tbody>\n",
       "    <tr>\n",
       "      <th>4030</th>\n",
       "      <td>56.83</td>\n",
       "    </tr>\n",
       "    <tr>\n",
       "      <th>6731</th>\n",
       "      <td>16.93</td>\n",
       "    </tr>\n",
       "    <tr>\n",
       "      <th>6479</th>\n",
       "      <td>59.93</td>\n",
       "    </tr>\n",
       "    <tr>\n",
       "      <th>6861</th>\n",
       "      <td>34.79</td>\n",
       "    </tr>\n",
       "    <tr>\n",
       "      <th>3266</th>\n",
       "      <td>27.91</td>\n",
       "    </tr>\n",
       "  </tbody>\n",
       "</table>\n",
       "</div>"
      ],
      "text/plain": [
       "      meses\n",
       "id         \n",
       "4030  56.83\n",
       "6731  16.93\n",
       "6479  59.93\n",
       "6861  34.79\n",
       "3266  27.91"
      ]
     },
     "execution_count": 26,
     "metadata": {},
     "output_type": "execute_result"
    }
   ],
   "source": [
    "# Calculando a divisão dos gastos totais pelos gastos mensais\n",
    "divisao = df_customers['TotalCharges']/df_customers['MonthlyCharges']\n",
    "\n",
    "# Transformando em um Pandas DataFrame\n",
    "df = pd.DataFrame(divisao, columns=['meses'])\n",
    "\n",
    "# Visualizando\n",
    "df.head()"
   ]
  },
  {
   "cell_type": "code",
   "execution_count": 84,
   "id": "443fa0de-b047-4218-96f5-182b7a148627",
   "metadata": {},
   "outputs": [
    {
     "name": "stdout",
     "output_type": "stream",
     "text": [
      "De acordo com a estimativa calculada, 3.51% dos clientes estão na empresa há mais de 6 anos\n"
     ]
    }
   ],
   "source": [
    "# Calculando quantos clientes estão na empresa há mais de 6 anos\n",
    "len(df.loc[df['meses'] > 72])\n",
    "\n",
    "# Calculando percentual \n",
    "p = ((len(df.loc[df['meses'] > 72])/df.shape[0])*100)\n",
    "print(f\"De acordo com a estimativa calculada, {p:.2f}% dos clientes estão na empresa há mais de 6 anos\")"
   ]
  },
  {
   "cell_type": "code",
   "execution_count": 28,
   "id": "5f6ec320-95a9-4ce8-9828-a1f2ddda9f8b",
   "metadata": {},
   "outputs": [
    {
     "data": {
      "text/html": [
       "<div>\n",
       "<style scoped>\n",
       "    .dataframe tbody tr th:only-of-type {\n",
       "        vertical-align: middle;\n",
       "    }\n",
       "\n",
       "    .dataframe tbody tr th {\n",
       "        vertical-align: top;\n",
       "    }\n",
       "\n",
       "    .dataframe thead th {\n",
       "        text-align: right;\n",
       "    }\n",
       "</style>\n",
       "<table border=\"1\" class=\"dataframe\">\n",
       "  <thead>\n",
       "    <tr style=\"text-align: right;\">\n",
       "      <th></th>\n",
       "      <th>SeniorCitizen</th>\n",
       "      <th>tenure</th>\n",
       "      <th>MonthlyCharges</th>\n",
       "      <th>TotalCharges</th>\n",
       "      <th>Churn</th>\n",
       "    </tr>\n",
       "  </thead>\n",
       "  <tbody>\n",
       "    <tr>\n",
       "      <th>count</th>\n",
       "      <td>5634.00</td>\n",
       "      <td>5173.00</td>\n",
       "      <td>5634.00</td>\n",
       "      <td>5626.00</td>\n",
       "      <td>5634.00</td>\n",
       "    </tr>\n",
       "    <tr>\n",
       "      <th>mean</th>\n",
       "      <td>0.16</td>\n",
       "      <td>32.33</td>\n",
       "      <td>64.63</td>\n",
       "      <td>2273.51</td>\n",
       "      <td>0.27</td>\n",
       "    </tr>\n",
       "    <tr>\n",
       "      <th>std</th>\n",
       "      <td>0.37</td>\n",
       "      <td>24.46</td>\n",
       "      <td>30.02</td>\n",
       "      <td>2258.38</td>\n",
       "      <td>0.44</td>\n",
       "    </tr>\n",
       "    <tr>\n",
       "      <th>min</th>\n",
       "      <td>0.00</td>\n",
       "      <td>0.00</td>\n",
       "      <td>18.25</td>\n",
       "      <td>18.80</td>\n",
       "      <td>0.00</td>\n",
       "    </tr>\n",
       "    <tr>\n",
       "      <th>0%</th>\n",
       "      <td>0.00</td>\n",
       "      <td>0.00</td>\n",
       "      <td>18.25</td>\n",
       "      <td>18.80</td>\n",
       "      <td>0.00</td>\n",
       "    </tr>\n",
       "    <tr>\n",
       "      <th>10%</th>\n",
       "      <td>0.00</td>\n",
       "      <td>2.00</td>\n",
       "      <td>20.05</td>\n",
       "      <td>85.50</td>\n",
       "      <td>0.00</td>\n",
       "    </tr>\n",
       "    <tr>\n",
       "      <th>20%</th>\n",
       "      <td>0.00</td>\n",
       "      <td>6.00</td>\n",
       "      <td>25.10</td>\n",
       "      <td>267.00</td>\n",
       "      <td>0.00</td>\n",
       "    </tr>\n",
       "    <tr>\n",
       "      <th>30%</th>\n",
       "      <td>0.00</td>\n",
       "      <td>12.00</td>\n",
       "      <td>45.80</td>\n",
       "      <td>550.98</td>\n",
       "      <td>0.00</td>\n",
       "    </tr>\n",
       "    <tr>\n",
       "      <th>40%</th>\n",
       "      <td>0.00</td>\n",
       "      <td>20.00</td>\n",
       "      <td>58.60</td>\n",
       "      <td>939.80</td>\n",
       "      <td>0.00</td>\n",
       "    </tr>\n",
       "    <tr>\n",
       "      <th>50%</th>\n",
       "      <td>0.00</td>\n",
       "      <td>29.00</td>\n",
       "      <td>70.25</td>\n",
       "      <td>1396.12</td>\n",
       "      <td>0.00</td>\n",
       "    </tr>\n",
       "    <tr>\n",
       "      <th>60%</th>\n",
       "      <td>0.00</td>\n",
       "      <td>39.00</td>\n",
       "      <td>78.90</td>\n",
       "      <td>2065.40</td>\n",
       "      <td>0.00</td>\n",
       "    </tr>\n",
       "    <tr>\n",
       "      <th>70%</th>\n",
       "      <td>0.00</td>\n",
       "      <td>50.00</td>\n",
       "      <td>85.40</td>\n",
       "      <td>3100.22</td>\n",
       "      <td>0.00</td>\n",
       "    </tr>\n",
       "    <tr>\n",
       "      <th>80%</th>\n",
       "      <td>0.00</td>\n",
       "      <td>60.00</td>\n",
       "      <td>94.10</td>\n",
       "      <td>4445.30</td>\n",
       "      <td>1.00</td>\n",
       "    </tr>\n",
       "    <tr>\n",
       "      <th>90%</th>\n",
       "      <td>1.00</td>\n",
       "      <td>69.00</td>\n",
       "      <td>102.10</td>\n",
       "      <td>5975.60</td>\n",
       "      <td>1.00</td>\n",
       "    </tr>\n",
       "    <tr>\n",
       "      <th>100%</th>\n",
       "      <td>1.00</td>\n",
       "      <td>72.00</td>\n",
       "      <td>118.75</td>\n",
       "      <td>8684.80</td>\n",
       "      <td>1.00</td>\n",
       "    </tr>\n",
       "    <tr>\n",
       "      <th>max</th>\n",
       "      <td>1.00</td>\n",
       "      <td>72.00</td>\n",
       "      <td>118.75</td>\n",
       "      <td>8684.80</td>\n",
       "      <td>1.00</td>\n",
       "    </tr>\n",
       "  </tbody>\n",
       "</table>\n",
       "</div>"
      ],
      "text/plain": [
       "       SeniorCitizen  tenure  MonthlyCharges  TotalCharges   Churn\n",
       "count        5634.00 5173.00         5634.00       5626.00 5634.00\n",
       "mean            0.16   32.33           64.63       2273.51    0.27\n",
       "std             0.37   24.46           30.02       2258.38    0.44\n",
       "min             0.00    0.00           18.25         18.80    0.00\n",
       "0%              0.00    0.00           18.25         18.80    0.00\n",
       "10%             0.00    2.00           20.05         85.50    0.00\n",
       "20%             0.00    6.00           25.10        267.00    0.00\n",
       "30%             0.00   12.00           45.80        550.98    0.00\n",
       "40%             0.00   20.00           58.60        939.80    0.00\n",
       "50%             0.00   29.00           70.25       1396.12    0.00\n",
       "60%             0.00   39.00           78.90       2065.40    0.00\n",
       "70%             0.00   50.00           85.40       3100.22    0.00\n",
       "80%             0.00   60.00           94.10       4445.30    1.00\n",
       "90%             1.00   69.00          102.10       5975.60    1.00\n",
       "100%            1.00   72.00          118.75       8684.80    1.00\n",
       "max             1.00   72.00          118.75       8684.80    1.00"
      ]
     },
     "execution_count": 28,
     "metadata": {},
     "output_type": "execute_result"
    }
   ],
   "source": [
    "# Visualizando as estatísticas descritivas com maior profundidade\n",
    "df_customers.describe(percentiles = np.linspace(0,1,11))"
   ]
  },
  {
   "cell_type": "markdown",
   "id": "4d5719df-c536-4c15-8f3d-d14083c861ee",
   "metadata": {},
   "source": [
    "De fato é possível observar que:\n",
    "* 30% dos clientes estão na empresa há 1 ano ou menos\n",
    "* Apenas 20% dos clientes estão na empresa há 5 anos ou mais"
   ]
  },
  {
   "cell_type": "markdown",
   "id": "b4cf1f1a-f37e-42eb-8e23-4e937ade9c0d",
   "metadata": {},
   "source": [
    "Agora, serão analisadas as depesas mensais dos clientes"
   ]
  },
  {
   "cell_type": "code",
   "execution_count": 29,
   "id": "fb866f3b-bc47-49e8-93af-1969e42cc5ba",
   "metadata": {},
   "outputs": [
    {
     "data": {
      "image/png": "[encoded data removed]",
      "text/plain": [
       "<Figure size 800x400 with 1 Axes>"
      ]
     },
     "metadata": {},
     "output_type": "display_data"
    }
   ],
   "source": [
    "# Observando a distribuição da variável 'MonthlyCharges'\n",
    "histograma(df_customers, 'MonthlyCharges', (\"Despesas (em dólares)\", \"Despesa Mensal nos Serviços da Empresa\"))"
   ]
  },
  {
   "cell_type": "markdown",
   "id": "b365221a-2beb-4ec4-b009-2924b60efd42",
   "metadata": {},
   "source": [
    "Como fica claro a partir da visualização do histograma, os dados revelam que a maioria dos clientes gasta de 20 a 25 dólares por mês, o que pode ser reflexo de um determinado perfil de consumidor (que possui poucos serviços ativos na empresa)"
   ]
  },
  {
   "cell_type": "markdown",
   "id": "9f584aca-2162-4683-9ffd-ac9ef4e4e223",
   "metadata": {},
   "source": [
    "Agora, analisando as depesas totais, temos:"
   ]
  },
  {
   "cell_type": "code",
   "execution_count": 30,
   "id": "fccc42bc-4f9c-4a37-9fab-83b787d23376",
   "metadata": {},
   "outputs": [
    {
     "data": {
      "image/png": "[encoded data removed]",
      "text/plain": [
       "<Figure size 800x400 with 1 Axes>"
      ]
     },
     "metadata": {},
     "output_type": "display_data"
    }
   ],
   "source": [
    "# Observando a distribuição da variável 'TotalCharges'\n",
    "histograma(df_customers, 'TotalCharges', (\"Despesas (em dólares)\", \"Despesa Total nos Serviços da Empresa\"))"
   ]
  },
  {
   "cell_type": "markdown",
   "id": "44377eb5-a4ad-4190-8c22-70c6b201cae5",
   "metadata": {},
   "source": [
    "De forma similar às despesas mensais, é possível observar que há uma grande parcela de clientes com despesas totais relativamente baixas. No entanto, este pode ser um indicativo dos clientes que estão há pouco tempo na empresa.\n",
    "\n",
    "Além disso, também é nítido que há poucos clientes com despesas totais altas. Levando em consideração que as despesas totais aumentam com o tempo de permanência, a estimativa calculada, de que menos de 4% dos clientes estão na empresa há mais de 6 anos, ajuda a compreender esse aspecto da distribuição."
   ]
  },
  {
   "cell_type": "markdown",
   "id": "f33e5c4d-e784-4be9-9f4f-c89d9dd426a7",
   "metadata": {},
   "source": [
    "### <a> Testes Qui-quadrado e Análise de Correspondência </a> "
   ]
  },
  {
   "cell_type": "markdown",
   "id": "44d3087a-f644-4156-9a7a-41c3d57c8971",
   "metadata": {},
   "source": [
    "Nesta subetapa da Análise Exploratória de Dados, serão aplicados vários testes qui-quadrado a fim de indentificar se algumas variáveis categóricas estão associadas ao Churn ou não. Caso o teste revele associação do par de variáveis, também serão aplicadas técnicas de análise de correspondência (ANACOR) com o objetivo de identificar quais categorias da variável de entrada estão associadas ao churn (variável de saída). "
   ]
  },
  {
   "cell_type": "markdown",
   "id": "f7edc593-1c36-4002-b7ab-08404814fa21",
   "metadata": {},
   "source": [
    "Definindo funções para facilitar a análise:"
   ]
  },
  {
   "cell_type": "code",
   "execution_count": 31,
   "id": "b7866130-c85c-4337-963e-8529af496fd4",
   "metadata": {},
   "outputs": [],
   "source": [
    "# Criando função para calcular taxa de churn por meio da tabela de contingência\n",
    "def taxa_churn(dados, var1, var2):\n",
    "    '''\n",
    "    Cria uma tabela de contingência por meio dos argumentos:\n",
    "    dados: DataFrame resumido com apenas informações da variável de entrada e da variável de saída\n",
    "    var1: Variável de entrada \n",
    "    var2: Variável de saída (Churn, neste caso)\n",
    "    Após isso, são adicionados os percentuais referentes ao Churn (variável de saída) e as categorias de var1\n",
    "    Retorna a tabela de contingência com os percentuais\n",
    "    '''\n",
    "    # Criando tabela\n",
    "    tabela = pd.crosstab(dados[var1], dados[var2])\n",
    "\n",
    "    # Adicionando percentual\n",
    "    if tabela.shape[0] == 2:\n",
    "        tabela['Percentual'] = ((tabela[1][0]/(tabela[1][0] + tabela[0][0])) * 100), ((tabela[1][1]/(tabela[1][1] + tabela[0][1])) * 100 )\n",
    "    elif tabela.shape[0] == 3:\n",
    "        tabela['Percentual'] = ((tabela[1][0]/(tabela[1][0] + tabela[0][0])) * 100,\n",
    "        (tabela[1][1]/(tabela[1][1] + tabela[0][1])) * 100, (tabela[1][2]/(tabela[1][2] + tabela[0][2])) * 100)\n",
    "    elif tabela.shape[0] == 4:\n",
    "        tabela['Percentual'] = ((tabela[1][0]/(tabela[1][0] + tabela[0][0])) * 100,\n",
    "                                 (tabela[1][1]/(tabela[1][1] + tabela[0][1])) * 100,\n",
    "                                 (tabela[1][2]/(tabela[1][2] + tabela[0][2])) * 100,\n",
    "                                 ((tabela[1][3]/(tabela[1][3] + tabela[0][3])) * 100))\n",
    "        \n",
    "    return tabela"
   ]
  },
  {
   "cell_type": "code",
   "execution_count": 32,
   "id": "8bacc230-ccaf-4a71-b26d-d5cb7b13edb2",
   "metadata": {},
   "outputs": [],
   "source": [
    "# Criando função para mostrar Taxa de Churn por grupos\n",
    "def barplot(dados, legenda):\n",
    "    '''\n",
    "    Cria um gráfico de barras contendo a taxa de Churn de acordo \n",
    "    com as classes da variável categórica por meio dos argumentos:\n",
    "    dados: Tabela de contingência criada pela função taxa_churn\n",
    "    legenda: Tupla de strings relacionadas, nessa ordem, a:\n",
    "    1) Legenda para o eixo x\n",
    "    2) Título do Gráfico\n",
    "    '''\n",
    "    # Definindo cores para a paleta\n",
    "    color = ['#800080', '#FFFF00'] \n",
    "    \n",
    "    # Setando estilo do seaborn \n",
    "    sns.set_style(\"white\") \n",
    "    \n",
    "    # Definindo tamanho do objeto figure\n",
    "    plt.figure(figsize=(8,6)) \n",
    "    \n",
    "    # Plotando gráfico\n",
    "    sns.barplot(data = dados, x = dados.index, y = dados['Percentual'], palette = color)\n",
    "    sns.despine(bottom = True, left = True) # Retirando bordas\n",
    "    plt.ylabel(\"Taxa de Churn (%)\", color = 'grey', fontsize = 10, labelpad = 15) # Colocando legenda \n",
    "    plt.tick_params(axis = 'y', labelsize = 9, color = 'grey') # e ajustando eixo y\n",
    "    plt.xlabel(f\"{legenda[0]}\", color = 'grey', fontsize = 10, labelpad = 15) # Colocando legenda \n",
    "    plt.tick_params(axis = 'x', labelsize = 9, color = 'grey') # e ajustando o eixo x\n",
    "    plt.title(f\"{legenda[1]}\", color = 'k', pad = 20, fontsize = 15, fontweight = 'bold') # Colocando título\n",
    "    \n",
    "    # Mostrnado\n",
    "    plt.show()"
   ]
  },
  {
   "cell_type": "code",
   "execution_count": 33,
   "id": "8cdb8182-bc0c-4d01-8e1a-15ba883aa3a9",
   "metadata": {},
   "outputs": [],
   "source": [
    "# Criando função para cálculo do teste qui-quadrado\n",
    "def qui_quadrado(dados, var1, var2):\n",
    "    '''\n",
    "    Calcula a estatística de teste, do teste qui-quadrado para independência, \n",
    "    e o p-valor associado a ela por meio dos seguintes argumentos:\n",
    "    dados: DataFrame resumido com apenas informações da variável de entrada e da variável de saída\n",
    "    var1: Variável de entrada \n",
    "    var2: Variável de saída (Churn)\n",
    "    '''\n",
    "    tabela_contingencia = pd.crosstab(dados[var1], dados[var2])\n",
    "    chi2, p_value, graus_lib, tabela_conting = chi2_contingency(tabela_contingencia)\n",
    "    print(f\"A estatística de teste calculada foi: {chi2}\")\n",
    "    print(f\"O p-valor calculado foi: {p_value}\")"
   ]
  },
  {
   "cell_type": "code",
   "execution_count": 34,
   "id": "7581f691-c411-4d7a-9a40-d58ff20c2a36",
   "metadata": {},
   "outputs": [],
   "source": [
    "# Criando função para análise de correspondência ANACOR\n",
    "def anacor(dados, var, n_components):\n",
    "    '''\n",
    "    Mostra a análise de correspondência por meio de um gráfico a partir dos seguintes parâmetros:\n",
    "    dados: DataFrame resumido com apenas informações da variável de entrada e da variável de saída (Churn)\n",
    "    var: Regere-se a variável de entrada\n",
    "    n_components: Refere-se ao número de componentes no gráfico\n",
    "    '''\n",
    "    # Criando tabela de contingência\n",
    "    tab = pd.crosstab(dados[var], dados['Churn'])\n",
    "    # Criando objeto para Análise de Correlação \n",
    "    ca = prince.CA(n_components=n_components)\n",
    "    # Ajustando o objeto com os dados \n",
    "    ca = ca.fit(tab)\n",
    "    # Mostrando o plot com informações sobre a Análise de Correlação\n",
    "    ca.plot_coordinates(tab)\n",
    "    plt.show()"
   ]
  },
  {
   "cell_type": "markdown",
   "id": "efe6fe48-40e2-4c30-bc6c-b9c2cfbcdee9",
   "metadata": {},
   "source": [
    "#### <a> Churn e Sexo </a> "
   ]
  },
  {
   "cell_type": "code",
   "execution_count": 35,
   "id": "3a429734-d924-49dc-955b-4315acc67f8f",
   "metadata": {},
   "outputs": [],
   "source": [
    "# Criando novo DataFrame com apenas informações de sexo e churn\n",
    "churn_sexo = df_customers.loc[:,['gender', 'Churn']]"
   ]
  },
  {
   "cell_type": "code",
   "execution_count": 36,
   "id": "8d93ca16-5a55-4764-9c25-3ff986ac6585",
   "metadata": {},
   "outputs": [
    {
     "data": {
      "text/html": [
       "<div>\n",
       "<style scoped>\n",
       "    .dataframe tbody tr th:only-of-type {\n",
       "        vertical-align: middle;\n",
       "    }\n",
       "\n",
       "    .dataframe tbody tr th {\n",
       "        vertical-align: top;\n",
       "    }\n",
       "\n",
       "    .dataframe thead th {\n",
       "        text-align: right;\n",
       "    }\n",
       "</style>\n",
       "<table border=\"1\" class=\"dataframe\">\n",
       "  <thead>\n",
       "    <tr style=\"text-align: right;\">\n",
       "      <th>Churn</th>\n",
       "      <th>0</th>\n",
       "      <th>1</th>\n",
       "      <th>Percentual</th>\n",
       "    </tr>\n",
       "    <tr>\n",
       "      <th>gender</th>\n",
       "      <th></th>\n",
       "      <th></th>\n",
       "      <th></th>\n",
       "    </tr>\n",
       "  </thead>\n",
       "  <tbody>\n",
       "    <tr>\n",
       "      <th>Female</th>\n",
       "      <td>2045</td>\n",
       "      <td>740</td>\n",
       "      <td>26.57</td>\n",
       "    </tr>\n",
       "    <tr>\n",
       "      <th>Male</th>\n",
       "      <td>2094</td>\n",
       "      <td>755</td>\n",
       "      <td>26.50</td>\n",
       "    </tr>\n",
       "  </tbody>\n",
       "</table>\n",
       "</div>"
      ],
      "text/plain": [
       "Churn      0    1  Percentual\n",
       "gender                       \n",
       "Female  2045  740       26.57\n",
       "Male    2094  755       26.50"
      ]
     },
     "execution_count": 36,
     "metadata": {},
     "output_type": "execute_result"
    }
   ],
   "source": [
    "# Utilizando a função taxa_churn para calcular a tabela de contingência e os percentuais\n",
    "taxa_sexo = taxa_churn(churn_sexo, 'gender', 'Churn')\n",
    "taxa_sexo"
   ]
  },
  {
   "cell_type": "code",
   "execution_count": 37,
   "id": "4b92101d-4e66-4514-9ec1-937e83aed860",
   "metadata": {},
   "outputs": [
    {
     "name": "stdout",
     "output_type": "stream",
     "text": [
      "26.57% das mulheres saíram da empresa\n",
      "26.50% dos homens saíram da empresa\n"
     ]
    }
   ],
   "source": [
    "# Resultados\n",
    "print(f\"{taxa_sexo['Percentual'][0]:.2f}% das mulheres saíram da empresa\")\n",
    "print(f\"{taxa_sexo['Percentual'][1]:.2f}% dos homens saíram da empresa\")"
   ]
  },
  {
   "cell_type": "code",
   "execution_count": 38,
   "id": "4ffb4e4e-94fb-4230-bc03-ad4283d1f610",
   "metadata": {},
   "outputs": [
    {
     "data": {
      "image/png": "[encoded data removed]",
      "text/plain": [
       "<Figure size 800x600 with 1 Axes>"
      ]
     },
     "metadata": {},
     "output_type": "display_data"
    }
   ],
   "source": [
    "# Utilizando a função barplot para visualizar a taxa de churn por sexo\n",
    "barplot(taxa_sexo, ('Sexo', 'Taxa de Churn por Sexo'))"
   ]
  },
  {
   "cell_type": "markdown",
   "id": "a89c26af-5d86-4357-9679-b4cf5be73603",
   "metadata": {},
   "source": [
    "A quantidade de Churn entre os sexos é bem parecida. Apesar disso, ainda é interessante utilizar o teste qui-quadrado a fim de observar se as variáveis são ou não associadas."
   ]
  },
  {
   "cell_type": "code",
   "execution_count": 39,
   "id": "c1c3fc91-a551-455f-8c9d-34a581d1d8ec",
   "metadata": {},
   "outputs": [
    {
     "name": "stdout",
     "output_type": "stream",
     "text": [
      "A estatística de teste calculada foi: 0.0008792143067695747\n",
      "O p-valor calculado foi: 0.9763449538995617\n"
     ]
    }
   ],
   "source": [
    "# Calculando o teste qui-quadrado para independência de variáveis\n",
    "qui_quadrado(churn_sexo, 'gender', 'Churn')"
   ]
  },
  {
   "cell_type": "markdown",
   "id": "0cd1de0a-021e-4250-99f1-5f3b7c1d8d03",
   "metadata": {},
   "source": [
    "Levando em consideração as hipóteses do teste quii-quadrado para independência:\n",
    "\n",
    "H0: Não há relações significativas entre as variáveis \n",
    "\n",
    "H1: Há relações significativas entre as variáveis \n",
    "\n",
    "E tendo como base o cálculo do p-valor, é possível identificar que, para um nível de significância de 5%, não há evidências suficientes (de acordo com os dados) para rejeitar a hipótese nula. Dessa forma, o teste indica que as variáveis sexo e churn são independentes."
   ]
  },
  {
   "cell_type": "markdown",
   "id": "0a39fea0-7794-489a-9f65-ca3a1bfd5af4",
   "metadata": {},
   "source": [
    "#### <a> Churn e Dependentes </a> "
   ]
  },
  {
   "cell_type": "code",
   "execution_count": 40,
   "id": "14b0bd46-08df-4174-b006-82205c7d464c",
   "metadata": {},
   "outputs": [],
   "source": [
    "# Criando novo DataFrame com apenas informações de Dependents e churn\n",
    "churn_dependents = df_customers.loc[:,['Dependents', 'Churn']]"
   ]
  },
  {
   "cell_type": "code",
   "execution_count": 41,
   "id": "300b59ee-aed5-4293-9ce7-e7d36b731f79",
   "metadata": {},
   "outputs": [
    {
     "data": {
      "text/html": [
       "<div>\n",
       "<style scoped>\n",
       "    .dataframe tbody tr th:only-of-type {\n",
       "        vertical-align: middle;\n",
       "    }\n",
       "\n",
       "    .dataframe tbody tr th {\n",
       "        vertical-align: top;\n",
       "    }\n",
       "\n",
       "    .dataframe thead th {\n",
       "        text-align: right;\n",
       "    }\n",
       "</style>\n",
       "<table border=\"1\" class=\"dataframe\">\n",
       "  <thead>\n",
       "    <tr style=\"text-align: right;\">\n",
       "      <th>Churn</th>\n",
       "      <th>0</th>\n",
       "      <th>1</th>\n",
       "      <th>Percentual</th>\n",
       "    </tr>\n",
       "    <tr>\n",
       "      <th>Dependents</th>\n",
       "      <th></th>\n",
       "      <th></th>\n",
       "      <th></th>\n",
       "    </tr>\n",
       "  </thead>\n",
       "  <tbody>\n",
       "    <tr>\n",
       "      <th>No</th>\n",
       "      <td>2615</td>\n",
       "      <td>1178</td>\n",
       "      <td>31.06</td>\n",
       "    </tr>\n",
       "    <tr>\n",
       "      <th>Yes</th>\n",
       "      <td>1376</td>\n",
       "      <td>247</td>\n",
       "      <td>15.22</td>\n",
       "    </tr>\n",
       "  </tbody>\n",
       "</table>\n",
       "</div>"
      ],
      "text/plain": [
       "Churn          0     1  Percentual\n",
       "Dependents                        \n",
       "No          2615  1178       31.06\n",
       "Yes         1376   247       15.22"
      ]
     },
     "execution_count": 41,
     "metadata": {},
     "output_type": "execute_result"
    }
   ],
   "source": [
    "# Usando a função que calcula a taxa de churn\n",
    "taxa_dependentes = taxa_churn(churn_dependents, 'Dependents', 'Churn')\n",
    "taxa_dependentes"
   ]
  },
  {
   "cell_type": "code",
   "execution_count": 42,
   "id": "e3958aab-2213-469f-bd90-7ef7c4585cd3",
   "metadata": {},
   "outputs": [
    {
     "name": "stdout",
     "output_type": "stream",
     "text": [
      "31.06% dos clientes que não possuem dependentes saíram da empresa\n",
      "15.22% dos clientes que possuem dependentes saíram da empresa\n"
     ]
    }
   ],
   "source": [
    "# Resultados\n",
    "print(f\"{taxa_dependentes['Percentual'][0]:.2f}% dos clientes que não possuem dependentes saíram da empresa\")\n",
    "print(f\"{taxa_dependentes['Percentual'][1]:.2f}% dos clientes que possuem dependentes saíram da empresa\")"
   ]
  },
  {
   "cell_type": "code",
   "execution_count": 43,
   "id": "6d53f8ae-ec96-44ab-8b02-312d34cae8b1",
   "metadata": {},
   "outputs": [
    {
     "data": {
      "image/png": "[encoded data removed]",
      "text/plain": [
       "<Figure size 800x600 with 1 Axes>"
      ]
     },
     "metadata": {},
     "output_type": "display_data"
    }
   ],
   "source": [
    "# Utilizando a função barplot para mostrar as taxas de churn por clientes que possuem dependentes\n",
    "barplot(taxa_dependentes, ('Possuem Dependentes', 'Taxa de Churn por Dependentes'))"
   ]
  },
  {
   "cell_type": "markdown",
   "id": "a79af565-cd5e-42e5-ba90-07b2f31b0dd9",
   "metadata": {},
   "source": [
    "Os clientes que não possuem dependentes tem taxa de churn superior, o que pode ser um indicativo de que deveria haver algum incentivo para estes consumidores a fim de retê-los na empresa.\n",
    "\n",
    "No entanto, para tomar qualquer decisão é necessário testar se essas variáveis ('Dependents' e 'Churn') estão associadas. Para isso, utilizamos o teste qui-quadrado para independência:"
   ]
  },
  {
   "cell_type": "code",
   "execution_count": 44,
   "id": "ebe1ccd6-dff0-4ee0-a21f-6d6d20a4236d",
   "metadata": {},
   "outputs": [
    {
     "name": "stdout",
     "output_type": "stream",
     "text": [
      "A estatística de teste calculada foi: 146.24959511579357\n",
      "O p-valor calculado foi: 1.1449228963616061e-33\n"
     ]
    }
   ],
   "source": [
    "# Cálculo do teste qui-quadrado\n",
    "qui_quadrado(churn_dependents, 'Dependents', 'Churn')"
   ]
  },
  {
   "cell_type": "markdown",
   "id": "75820a57-47ee-4d22-8867-e41b16e68ba4",
   "metadata": {},
   "source": [
    "Foi possível observar, pelo cálculo do p-valor, que, a um nível de 5% de significância, as duas variáveis ('Dependents'e 'Churn') não são independentes. Isso pode reforçar a narrativa de que, de fato, o grupo de clientes que não possui dependentes é mais propenso a deixar os serviços da empresa. Com base nisso, é válido destacar que estes consumidores devem ser incentivados a ficar na empresa por meio de bonificações e/ou promoções.\n",
    "\n",
    "Apesar dessas considerações baseadas em estatística descritiva, é necessário ir além e realizar uma análise de correspondência a fim de verificar se os clientes que não possuem dependentes realmente são mais propensos a deixar os serviços da empresa."
   ]
  },
  {
   "cell_type": "code",
   "execution_count": 45,
   "id": "f6e6eab7-d06d-492f-9e97-bd507f59cb39",
   "metadata": {},
   "outputs": [
    {
     "data": {
      "image/png": "[encoded data removed]",
      "text/plain": [
       "<Figure size 600x600 with 1 Axes>"
      ]
     },
     "metadata": {},
     "output_type": "display_data"
    }
   ],
   "source": [
    "# Chamando a função de análise de correspondência\n",
    "anacor(churn_dependents, 'Dependents', 2)"
   ]
  },
  {
   "cell_type": "markdown",
   "id": "64afd201-6e4e-4bbb-85d8-860fd2c645ae",
   "metadata": {},
   "source": [
    "Como é possível observar, a análise de correspondência também aponta que os indivíduos sem dependentes são mais propensos a saírem da empresa."
   ]
  },
  {
   "cell_type": "markdown",
   "id": "ab31f927-8f48-41e5-be0a-7c9592f5866f",
   "metadata": {},
   "source": [
    "#### <a> Churn e MultipleLines </a> "
   ]
  },
  {
   "cell_type": "code",
   "execution_count": 46,
   "id": "8d846f9f-4f28-4ca0-a3e3-19d81691aa1d",
   "metadata": {},
   "outputs": [],
   "source": [
    "# Criando DataFrame com informações de apenas 'MultipleLines' e 'Churn' \n",
    "churn_mult_lines = df_customers.loc[:, ['MultipleLines', 'Churn']]"
   ]
  },
  {
   "cell_type": "code",
   "execution_count": 47,
   "id": "b38a449a-f5e4-4106-a739-9231d2ed917c",
   "metadata": {},
   "outputs": [
    {
     "data": {
      "text/html": [
       "<div>\n",
       "<style scoped>\n",
       "    .dataframe tbody tr th:only-of-type {\n",
       "        vertical-align: middle;\n",
       "    }\n",
       "\n",
       "    .dataframe tbody tr th {\n",
       "        vertical-align: top;\n",
       "    }\n",
       "\n",
       "    .dataframe thead th {\n",
       "        text-align: right;\n",
       "    }\n",
       "</style>\n",
       "<table border=\"1\" class=\"dataframe\">\n",
       "  <thead>\n",
       "    <tr style=\"text-align: right;\">\n",
       "      <th>Churn</th>\n",
       "      <th>0</th>\n",
       "      <th>1</th>\n",
       "      <th>Percentual</th>\n",
       "    </tr>\n",
       "    <tr>\n",
       "      <th>MultipleLines</th>\n",
       "      <th></th>\n",
       "      <th></th>\n",
       "      <th></th>\n",
       "    </tr>\n",
       "  </thead>\n",
       "  <tbody>\n",
       "    <tr>\n",
       "      <th>No</th>\n",
       "      <td>2011</td>\n",
       "      <td>681</td>\n",
       "      <td>25.30</td>\n",
       "    </tr>\n",
       "    <tr>\n",
       "      <th>No phone service</th>\n",
       "      <td>420</td>\n",
       "      <td>132</td>\n",
       "      <td>23.91</td>\n",
       "    </tr>\n",
       "    <tr>\n",
       "      <th>Yes</th>\n",
       "      <td>1708</td>\n",
       "      <td>682</td>\n",
       "      <td>28.54</td>\n",
       "    </tr>\n",
       "  </tbody>\n",
       "</table>\n",
       "</div>"
      ],
      "text/plain": [
       "Churn                0    1  Percentual\n",
       "MultipleLines                          \n",
       "No                2011  681       25.30\n",
       "No phone service   420  132       23.91\n",
       "Yes               1708  682       28.54"
      ]
     },
     "execution_count": 47,
     "metadata": {},
     "output_type": "execute_result"
    }
   ],
   "source": [
    "# Calculando a taxa de churn\n",
    "taxa_multiple_lines = taxa_churn(churn_mult_lines, 'MultipleLines', 'Churn')\n",
    "taxa_multiple_lines"
   ]
  },
  {
   "cell_type": "code",
   "execution_count": 48,
   "id": "4dec8d7a-5392-4ada-9653-add918c66b99",
   "metadata": {},
   "outputs": [
    {
     "name": "stdout",
     "output_type": "stream",
     "text": [
      "25.30% dos clientes que não possuem múltiplas linhas saíram da empresa\n",
      "23.91% dos clientes que não possuem serviços de telefone saíram da empresa\n",
      "28.54% dos clientes que possuem múltiplas linhas saíram da empresa\n"
     ]
    }
   ],
   "source": [
    "# Resultados\n",
    "print(f\"{taxa_multiple_lines['Percentual'][0]:.2f}% dos clientes que não possuem múltiplas linhas saíram da empresa\")\n",
    "print(f\"{taxa_multiple_lines['Percentual'][1]:.2f}% dos clientes que não possuem serviços de telefone saíram da empresa\")\n",
    "print(f\"{taxa_multiple_lines['Percentual'][2]:.2f}% dos clientes que possuem múltiplas linhas saíram da empresa\")"
   ]
  },
  {
   "cell_type": "code",
   "execution_count": 49,
   "id": "a72c2663-0fed-4711-8f83-382a2b66d328",
   "metadata": {},
   "outputs": [
    {
     "data": {
      "image/png": "[encoded data removed]",
      "text/plain": [
       "<Figure size 800x600 with 1 Axes>"
      ]
     },
     "metadata": {},
     "output_type": "display_data"
    }
   ],
   "source": [
    "# Visualizando a taxa de churn por grupos associados a 'MultipleLines'\n",
    "barplot(taxa_multiple_lines, ('Grupos de MultipleLines (Não possuem, Não possuem serviço de telefone, Possuem)', 'Taxa de Churn por MultipleLines'))"
   ]
  },
  {
   "cell_type": "markdown",
   "id": "6a9cac7a-1ea1-4423-9eee-96c13a7c2aae",
   "metadata": {},
   "source": [
    "Os grupos não apresentam diferenças substanciais em termos de taxa de churn. No entanto, ainda é necessário utilizar o teste qui-quadrado a fim de investigar a relação entre a variável 'MultipleLines' e a variável 'Churn'."
   ]
  },
  {
   "cell_type": "code",
   "execution_count": 50,
   "id": "c9926d47-1856-40c3-8a87-1a71d223d0ef",
   "metadata": {},
   "outputs": [
    {
     "name": "stdout",
     "output_type": "stream",
     "text": [
      "A estatística de teste calculada foi: 8.96933931231846\n",
      "O p-valor calculado foi: 0.011280613386450603\n"
     ]
    }
   ],
   "source": [
    "# Cálculo do teste qui-quadrado\n",
    "qui_quadrado(churn_mult_lines, 'MultipleLines', 'Churn')"
   ]
  },
  {
   "cell_type": "markdown",
   "id": "9ff8b53d-2b46-45df-8bb9-636c2dfe9c38",
   "metadata": {},
   "source": [
    "De acordo com o teste qui-quadrado, percebe-se que até mesmo a um nível de significância de 2% é possível rejeitar a hipótese nula. Dessa forma, depreende-se que a variável 'MultipleLines' está associada ao Churn."
   ]
  },
  {
   "cell_type": "code",
   "execution_count": 51,
   "id": "e2b8c12d-5ec7-419a-8388-2a7f15549a58",
   "metadata": {},
   "outputs": [
    {
     "data": {
      "image/png": "[encoded data removed]",
      "text/plain": [
       "<Figure size 600x600 with 1 Axes>"
      ]
     },
     "metadata": {},
     "output_type": "display_data"
    }
   ],
   "source": [
    "# Chamando a função anacor \n",
    "anacor(churn_mult_lines, 'MultipleLines', 2)"
   ]
  },
  {
   "cell_type": "markdown",
   "id": "d504e6b8-bf5a-4f83-a406-b14a69770455",
   "metadata": {},
   "source": [
    "De fato, quem possui múltiplas linhas telefônicas é estatisticamente mais propenso a sair da empresa. Em contrapatida, quem não utiliza serviço telefônico ou não possui mais de uma linha telefônica não são propensos ao churn."
   ]
  },
  {
   "cell_type": "markdown",
   "id": "da0f5029-eb9e-434b-89ca-6cd34431a5e4",
   "metadata": {},
   "source": [
    "#### <a> Churn e InternetService </a> "
   ]
  },
  {
   "cell_type": "code",
   "execution_count": 52,
   "id": "07b05765-32e4-4a58-80d1-5ed1bb38e97b",
   "metadata": {},
   "outputs": [],
   "source": [
    "# Criando DataFrame com informações de apenas InternetService e 'Churn' \n",
    "churn_internet = df_customers.loc[:, ['InternetService', 'Churn']]"
   ]
  },
  {
   "cell_type": "code",
   "execution_count": 53,
   "id": "b865ccde-b4e3-4c43-b4e9-8a21355ea79d",
   "metadata": {},
   "outputs": [
    {
     "data": {
      "text/html": [
       "<div>\n",
       "<style scoped>\n",
       "    .dataframe tbody tr th:only-of-type {\n",
       "        vertical-align: middle;\n",
       "    }\n",
       "\n",
       "    .dataframe tbody tr th {\n",
       "        vertical-align: top;\n",
       "    }\n",
       "\n",
       "    .dataframe thead th {\n",
       "        text-align: right;\n",
       "    }\n",
       "</style>\n",
       "<table border=\"1\" class=\"dataframe\">\n",
       "  <thead>\n",
       "    <tr style=\"text-align: right;\">\n",
       "      <th>Churn</th>\n",
       "      <th>0</th>\n",
       "      <th>1</th>\n",
       "      <th>Percentual</th>\n",
       "    </tr>\n",
       "    <tr>\n",
       "      <th>InternetService</th>\n",
       "      <th></th>\n",
       "      <th></th>\n",
       "      <th></th>\n",
       "    </tr>\n",
       "  </thead>\n",
       "  <tbody>\n",
       "    <tr>\n",
       "      <th>DSL</th>\n",
       "      <td>1600</td>\n",
       "      <td>359</td>\n",
       "      <td>18.33</td>\n",
       "    </tr>\n",
       "    <tr>\n",
       "      <th>Fiber optic</th>\n",
       "      <td>1402</td>\n",
       "      <td>1049</td>\n",
       "      <td>42.80</td>\n",
       "    </tr>\n",
       "    <tr>\n",
       "      <th>No</th>\n",
       "      <td>1137</td>\n",
       "      <td>87</td>\n",
       "      <td>7.11</td>\n",
       "    </tr>\n",
       "  </tbody>\n",
       "</table>\n",
       "</div>"
      ],
      "text/plain": [
       "Churn               0     1  Percentual\n",
       "InternetService                        \n",
       "DSL              1600   359       18.33\n",
       "Fiber optic      1402  1049       42.80\n",
       "No               1137    87        7.11"
      ]
     },
     "execution_count": 53,
     "metadata": {},
     "output_type": "execute_result"
    }
   ],
   "source": [
    "# Calculando a taxa de churn relacionada a InternetService\n",
    "taxa_internet = taxa_churn(churn_internet, 'InternetService', 'Churn')\n",
    "taxa_internet"
   ]
  },
  {
   "cell_type": "code",
   "execution_count": 54,
   "id": "1547dd34-6b6e-4631-8253-a6a3905a7503",
   "metadata": {},
   "outputs": [
    {
     "name": "stdout",
     "output_type": "stream",
     "text": [
      "18.33% dos clientes que possuem serviços de internet do tipo DSL saíram da empresa\n",
      "42.80% dos clientes que possuem serviços de internet do tipo fibra óptica saíram da empresa\n",
      "7.11% dos clientes que não possuem serviços de internet saíram da empresa\n"
     ]
    }
   ],
   "source": [
    "# Resultados\n",
    "print(f\"{taxa_internet['Percentual'][0]:.2f}% dos clientes que possuem serviços de internet do tipo DSL saíram da empresa\")\n",
    "print(f\"{taxa_internet['Percentual'][1]:.2f}% dos clientes que possuem serviços de internet do tipo fibra óptica saíram da empresa\")\n",
    "print(f\"{taxa_internet['Percentual'][2]:.2f}% dos clientes que não possuem serviços de internet saíram da empresa\")"
   ]
  },
  {
   "cell_type": "code",
   "execution_count": 55,
   "id": "52bdd4f1-8ba5-4bef-8a55-afc289f6d91b",
   "metadata": {},
   "outputs": [
    {
     "data": {
      "image/png": "[encoded data removed]",
      "text/plain": [
       "<Figure size 800x600 with 1 Axes>"
      ]
     },
     "metadata": {},
     "output_type": "display_data"
    }
   ],
   "source": [
    "# Visualizando a taxa de churn por grupos associados ao serviço de internet\n",
    "barplot(taxa_internet, ('Grupos de Serviço de Internet', 'Taxa de Churn por Serviços de Internet'))"
   ]
  },
  {
   "cell_type": "markdown",
   "id": "c6fe5480-6f6d-43e2-a213-b1c269f93508",
   "metadata": {},
   "source": [
    "Obs: \n",
    "\n",
    "'DSL' se refere à Digital Subscriber Line\n",
    "\n",
    "'Fiber optic' se refere à fibra óptica \n",
    "\n",
    "'No' se refere a clientes que não possuem serviços de internet com a empresa"
   ]
  },
  {
   "cell_type": "markdown",
   "id": "b8e2b74b-df79-4f1e-9e4b-f9d5285a7716",
   "metadata": {},
   "source": [
    "É nítido que a maior taxa de churn se dá entre os clientes que possuem acesso à internet por meio de fibra óptica. Isso pode ser um indicativo de que a qualidade desses serviços não tem agradado os clientes."
   ]
  },
  {
   "cell_type": "code",
   "execution_count": 56,
   "id": "38077e67-de6a-4f44-9e6c-b92a5fa2a879",
   "metadata": {},
   "outputs": [
    {
     "name": "stdout",
     "output_type": "stream",
     "text": [
      "A estatística de teste calculada foi: 637.2699343866905\n",
      "O p-valor calculado foi: 4.155200710126833e-139\n"
     ]
    }
   ],
   "source": [
    "# Cálculo do teste qui-quadrado para independência de variáveis\n",
    "qui_quadrado(churn_internet, 'InternetService', 'Churn')"
   ]
  },
  {
   "cell_type": "markdown",
   "id": "96c5a16d-f095-4b21-bf61-ccb50e2b1c5e",
   "metadata": {},
   "source": [
    "O p-valor calculado permite rejeitar a hipótese nula a 5% de significância. Dessa forma, conclui-se que as variáveis 'InternetService' e 'Churn' não são independentes."
   ]
  },
  {
   "cell_type": "code",
   "execution_count": 57,
   "id": "7ae5b6dc-2b5c-41a0-850e-432e278f6016",
   "metadata": {},
   "outputs": [
    {
     "data": {
      "image/png": "[encoded data removed]",
      "text/plain": [
       "<Figure size 600x600 with 1 Axes>"
      ]
     },
     "metadata": {},
     "output_type": "display_data"
    }
   ],
   "source": [
    "# Chamando a função anacor para identificar relações \n",
    "anacor(churn_internet, 'InternetService', 2)"
   ]
  },
  {
   "cell_type": "markdown",
   "id": "8c753ca3-4f7e-450b-8c10-920b0c35b3e7",
   "metadata": {},
   "source": [
    "Como o gráfico de coordenadas principais sugere, há uma associação entre a categoria Fibra Óptica da variável 'InternetService' e a categoria 1 da variável 'Churn'. Isso significa que, de fato, clientes que tem acesso à internet por meio de fibra óptica são mais propensos a saírem da empresa. Uma possível razão desse fato pode ser o comprometimento da qualidade dos serviços de fibra óptica. No entanto, para um diagnóstico mais preciso, são necessárias investigações mais profundas nesse sentido."
   ]
  },
  {
   "cell_type": "markdown",
   "id": "904e7d33-8668-4e62-a4d9-b4a551b2e292",
   "metadata": {},
   "source": [
    "#### <a> Churn e PhoneService </a> "
   ]
  },
  {
   "cell_type": "code",
   "execution_count": 58,
   "id": "eafae979-f477-4059-9d65-039f1e5283ab",
   "metadata": {},
   "outputs": [],
   "source": [
    "# Criando DataFrame apenas com informações de Churn e PhoneService\n",
    "churn_phone = df_customers.loc[:, ['PhoneService', 'Churn']]"
   ]
  },
  {
   "cell_type": "code",
   "execution_count": 59,
   "id": "c43903e3-a741-48ad-982b-27a0c25421ea",
   "metadata": {},
   "outputs": [
    {
     "data": {
      "text/html": [
       "<div>\n",
       "<style scoped>\n",
       "    .dataframe tbody tr th:only-of-type {\n",
       "        vertical-align: middle;\n",
       "    }\n",
       "\n",
       "    .dataframe tbody tr th {\n",
       "        vertical-align: top;\n",
       "    }\n",
       "\n",
       "    .dataframe thead th {\n",
       "        text-align: right;\n",
       "    }\n",
       "</style>\n",
       "<table border=\"1\" class=\"dataframe\">\n",
       "  <thead>\n",
       "    <tr style=\"text-align: right;\">\n",
       "      <th>Churn</th>\n",
       "      <th>0</th>\n",
       "      <th>1</th>\n",
       "      <th>Percentual</th>\n",
       "    </tr>\n",
       "    <tr>\n",
       "      <th>PhoneService</th>\n",
       "      <th></th>\n",
       "      <th></th>\n",
       "      <th></th>\n",
       "    </tr>\n",
       "  </thead>\n",
       "  <tbody>\n",
       "    <tr>\n",
       "      <th>No</th>\n",
       "      <td>420</td>\n",
       "      <td>132</td>\n",
       "      <td>23.91</td>\n",
       "    </tr>\n",
       "    <tr>\n",
       "      <th>Yes</th>\n",
       "      <td>3719</td>\n",
       "      <td>1363</td>\n",
       "      <td>26.82</td>\n",
       "    </tr>\n",
       "  </tbody>\n",
       "</table>\n",
       "</div>"
      ],
      "text/plain": [
       "Churn            0     1  Percentual\n",
       "PhoneService                        \n",
       "No             420   132       23.91\n",
       "Yes           3719  1363       26.82"
      ]
     },
     "execution_count": 59,
     "metadata": {},
     "output_type": "execute_result"
    }
   ],
   "source": [
    "# Utilizando a função taxa_churn para calcular os percentuais de churn de acordo com as classes de 'PhoneService'\n",
    "taxa_phone = taxa_churn(churn_phone, 'PhoneService', 'Churn')\n",
    "taxa_phone"
   ]
  },
  {
   "cell_type": "code",
   "execution_count": 60,
   "id": "4016f285-1714-4d7f-ab3c-1b4998d24b30",
   "metadata": {},
   "outputs": [
    {
     "name": "stdout",
     "output_type": "stream",
     "text": [
      "23.91% dos clientes que não possuem serviços telefônicos saíram da empresa\n",
      "26.82% dos clientes que possuem serviços telefônicos saíram da empresa\n"
     ]
    }
   ],
   "source": [
    "# Resultados\n",
    "print(f\"{taxa_phone['Percentual'][0]:.2f}% dos clientes que não possuem serviços telefônicos saíram da empresa\")\n",
    "print(f\"{taxa_phone['Percentual'][1]:.2f}% dos clientes que possuem serviços telefônicos saíram da empresa\")"
   ]
  },
  {
   "cell_type": "code",
   "execution_count": 61,
   "id": "9e341c05-3ed3-4267-9bca-eed377e3f206",
   "metadata": {},
   "outputs": [
    {
     "data": {
      "image/png": "[encoded data removed]",
      "text/plain": [
       "<Figure size 800x600 with 1 Axes>"
      ]
     },
     "metadata": {},
     "output_type": "display_data"
    }
   ],
   "source": [
    "# Utilizando a função barplot para plotar as taxas\n",
    "barplot(taxa_phone, ('Possuem Serviços de Telefone', 'Taxas de Churn por Grupos de Serviço Telefônico'))"
   ]
  },
  {
   "cell_type": "markdown",
   "id": "5d723dff-767e-4e10-9c70-9cb37a01a5b3",
   "metadata": {},
   "source": [
    "As taxas de churn entre os grupos são bem similares. Evidentemente o teste qui-quadrado é útil para identificar se essas variáveis estão (ou não) associadas."
   ]
  },
  {
   "cell_type": "code",
   "execution_count": 62,
   "id": "97940763-476e-4dc4-9b72-688fa4be0eb5",
   "metadata": {},
   "outputs": [
    {
     "name": "stdout",
     "output_type": "stream",
     "text": [
      "A estatística de teste calculada foi: 2.0120656590236914\n",
      "O p-valor calculado foi: 0.156052715302386\n"
     ]
    }
   ],
   "source": [
    "# Utilizando a função qui_quadrado para independência\n",
    "qui_quadrado(churn_phone, 'PhoneService', 'Churn')"
   ]
  },
  {
   "cell_type": "markdown",
   "id": "fbb329e7-fa64-4ccd-a3c1-0dcb6e009bad",
   "metadata": {},
   "source": [
    "De acordo com o p-valor calculado, a um nível de 16% de significância seria possível rejeitar a hipótese nula. No entanto, como o nível de significância que foi adotado neste trabalho é de 5%, a hipótese nula não pode ser rejeitada. Dessa forma, conclui-se que as variáveis 'PhoneService' e 'Churn' são, de fato, independentes."
   ]
  },
  {
   "cell_type": "markdown",
   "id": "1981f3e0-ff2e-4b1e-9c46-2f61b588bbae",
   "metadata": {},
   "source": [
    "#### <a> Analisando Desbalanceamento de Classes </a> "
   ]
  },
  {
   "cell_type": "code",
   "execution_count": 63,
   "id": "d3a06c3c-63b0-4111-b83c-8d680bdbcdf4",
   "metadata": {},
   "outputs": [],
   "source": [
    "# Criando função para visualização de countplot\n",
    "def countplot(dados, legenda):\n",
    "    '''\n",
    "    Cria um countplot contendo a quantidade de vezes em que \n",
    "    houve/não houve churn por meio dos argumentos:\n",
    "    dados: DataFrame original\n",
    "    legenda: Tupla de strings relacionadas, nessa ordem, a:\n",
    "    1) Legenda para o eixo x\n",
    "    2) Título do Gráfico\n",
    "    '''\n",
    "    # Definindo cores para a paleta\n",
    "    color = ['#800080', '#FFFF00'] \n",
    "    \n",
    "    # Setando estilo do seaborn \n",
    "    sns.set_style(\"white\") \n",
    "    \n",
    "    # Definindo tamanho do objeto figure\n",
    "    plt.figure(figsize=(8,6)) \n",
    "    \n",
    "    # Plotando gráfico\n",
    "    sns.countplot(data = dados, x = dados['Churn'], palette = color)\n",
    "    sns.despine(bottom = True, left = True) # Retirando bordas\n",
    "    plt.ylabel(\"[]\", color = 'grey', fontsize = 0, labelpad = 15) # Tirando legenda do eixo y\n",
    "    plt.tick_params(axis = 'y', labelsize = 9, color = 'grey') # e ajustando eixo y\n",
    "    plt.xlabel(f\"{legenda[0]}\", color = 'grey', fontsize = 10, labelpad = 15) # Colocando legenda \n",
    "    plt.tick_params(axis = 'x', labelsize = 9, color = 'grey') # e ajustando o eixo x\n",
    "    plt.title(f\"{legenda[1]}\", color = 'k', pad = 20, fontsize = 15, fontweight = 'bold') # Colocando título\n",
    "    \n",
    "    # Mostrnado\n",
    "    plt.show()"
   ]
  },
  {
   "cell_type": "code",
   "execution_count": 64,
   "id": "aec05e8d-9727-419e-aeb6-adcea84604f4",
   "metadata": {},
   "outputs": [
    {
     "data": {
      "image/png": "[encoded data removed]",
      "text/plain": [
       "<Figure size 800x600 with 1 Axes>"
      ]
     },
     "metadata": {},
     "output_type": "display_data"
    }
   ],
   "source": [
    "# Utilizando a função para verificar se as classes estão desbalanceadas\n",
    "countplot(df_customers, (\"Churn (0: Saiu da Empresa, 1: Não Saiu da Empresa)\", \"Quantidade de Churn\"))"
   ]
  },
  {
   "cell_type": "markdown",
   "id": "f71066f7-cb80-41b7-9a9d-ca92efa81085",
   "metadata": {},
   "source": [
    "Há um nítido desbalanceamento de classes. Os clientes que saíram representam menos da metade dos clientes que permaneceram na empresa. Esse fato é importante para escolher a melhor métrica de avaliação do modelo preditivo a ser construído. "
   ]
  },
  {
   "cell_type": "code",
   "execution_count": 65,
   "id": "1d99e553-5f7b-46bd-acac-3e6ff7c210ca",
   "metadata": {},
   "outputs": [
    {
     "name": "stdout",
     "output_type": "stream",
     "text": [
      "4139 clientes permaneceram na empresa\n",
      "1495 clientes saíram da empresa\n"
     ]
    }
   ],
   "source": [
    "# Verificando os números de quem ficou/saiu\n",
    "print(f\"{len(df_customers.loc[df_customers['Churn'] == 0])} clientes permaneceram na empresa\")\n",
    "print(f\"{len(df_customers.loc[df_customers['Churn'] == 1])} clientes saíram da empresa\")"
   ]
  },
  {
   "cell_type": "code",
   "execution_count": 66,
   "id": "c4ab46a6-f91f-40a2-b475-424b506bb234",
   "metadata": {},
   "outputs": [
    {
     "data": {
      "text/plain": [
       "73.46467873624422"
      ]
     },
     "execution_count": 66,
     "metadata": {},
     "output_type": "execute_result"
    }
   ],
   "source": [
    "# Calculando o percentual de clientes que permaneceram na empresa\n",
    "(len(df_customers.loc[df_customers['Churn'] == 0])/df_customers.shape[0]) * 100"
   ]
  },
  {
   "cell_type": "markdown",
   "id": "b2bd9397-44bb-41ad-ae4c-9d7f97013f9e",
   "metadata": {},
   "source": [
    "Como o percentual de clientes que saíram da empresa é de 73.46%, o modelo que será construído deve ultrapassar esse valor em termos de acurácia para que seja gerado valor para empresa. "
   ]
  },
  {
   "cell_type": "markdown",
   "id": "130b908b-8f85-46ca-8471-2a9d8713f479",
   "metadata": {},
   "source": [
    "### <a> Conclusões da Análise Exploratória de Dados </a> "
   ]
  },
  {
   "cell_type": "markdown",
   "id": "47081da0-f427-476a-8ef9-55a47b3d071b",
   "metadata": {},
   "source": [
    "Ao longo de toda essa etapa, algumas constatações puderam ser feitas. Dentre elas, destacam-se:\n",
    "\n",
    "1) A presença de muitos clientes novos na empresa.\n",
    "2) O baixo nível de despesas mensais da maioria dos clientes\n",
    "\n",
    "Com base apenas na análise exploratória, é possível sugerir que a empresa observe o perfil do cliente propenso ao churn e alinhe suas estratégias com base nisso. Nesse sentido, a análise do teste qui-quadrado e a análise de associação de categorias (ANACOR) foi extremamente útil. Com as duas técnicas, foi possível identificar que o cliente propenso ao churn:\n",
    "\n",
    "- Não possui dependentes\n",
    "\n",
    "- Possui múltiplas linhas telefônicas\n",
    "\n",
    "- Possui acesso à internet por meio de fibra óptica\n",
    "\n",
    "Levando esse perfil em consideração, é importante que a empresa possa acompanhar de perto a situação de cada grupo descrito. Sendo assim, é interessante adotar medidas que garantam a satisfação destes clientes.\n",
    "\n",
    "* Em relação aos clientes que não possuem dependentes, é válido considerar benefícios nos serviços, como descontos ou promoções especiais.\n",
    "\n",
    "* Já no que diz respeito aos clientes com múltiplas linhas telefônicas, é possível oferecer planos de fidelidade ou descontos a partir da contratação de um número específico de linhas telefônicas.\n",
    "\n",
    "* Além disso, para os clientes que utilizam fibra óptica é apropriado utilizar de questionários para verificar a qualidade do serviço. Após isso, tendo o diagnóstico em mãos, é importante trabalhar na contínua melhoria dos pontos negativos levantados pelos clientes.\n",
    "\n",
    "Um dos pilares da análise de correspondência (após o uso do teste qui-quadrado) consiste na capacidade de alocação de recursos de forma mais eficiente. Isso ocorre já que, por meio da identificação de associações (estatisticamente significantes) com o churn, é possível aplicar recursos onde, de fato, há necessidade. Dessa forma, é possível gerar valor para a organização no que diz respeito ao mapeamento preciso dos problemas que ela enfrenta."
   ]
  }
 ],
 "metadata": {
  "kernelspec": {
   "display_name": "Python 3 (ipykernel)",
   "language": "python",
   "name": "python3"
  },
  "language_info": {
   "codemirror_mode": {
    "name": "ipython",
    "version": 3
   },
   "file_extension": ".py",
   "mimetype": "text/x-python",
   "name": "python",
   "nbconvert_exporter": "python",
   "pygments_lexer": "ipython3",
   "version": "3.11.4"
  }
 },
 "nbformat": 4,
 "nbformat_minor": 5
}
