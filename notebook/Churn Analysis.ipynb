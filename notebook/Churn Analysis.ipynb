{
 "cells": [
  {
   "cell_type": "markdown",
   "id": "c8785645-a102-47da-b423-15a5d99d575a",
   "metadata": {},
   "source": [
    "# <a> Classificação </a>"
   ]
  },
  {
   "cell_type": "markdown",
   "id": "ea91bed0-40da-463e-9d82-02ce982b9447",
   "metadata": {},
   "source": [
    "Problemas relacionados à classificação sempre estiveram presentes num contexto financeiro e empresarial. Classificar transações bancárias como fraudulentas ou não, ou até mesmo prever o sentido (positivo ou negativo) da variação do preço de determinado ativo são apenas dois dos diversos casos em que tal abordagem é extremamente útil.\n",
    "\n",
    "O que caracteriza os casos acima como problemas de classificação é o fato da variável dependente ser discreta. Em cada uma das situações descritas há apenas duas classes, mas este não é um fator limitante para os problemas de classificação, existindo, também, a possibilidade de prever uma variável discreta num contexto multiclasse. "
   ]
  },
  {
   "cell_type": "markdown",
   "id": "7754b613-f851-4641-9c76-bb9b4bdc9999",
   "metadata": {},
   "source": [
    "# <a> Visão Geral - Previsão de Churn no Setor de Telecomunicações </a>"
   ]
  },
  {
   "cell_type": "markdown",
   "id": "b4b07537-be04-4668-8c98-4eeb7399b50d",
   "metadata": {},
   "source": [
    "A previsão de churn, em termos empresariais, refere-se à capacidade de uma organização antecipar e prever quais clientes estão em risco de deixar de utilizar os produtos ou serviços oferecidos pela empresa. O termo \"churn\" é usado para descrever a perda de clientes ou a taxa de cancelamento. Essa previsão é fundamental para as estratégias de retenção de clientes, pois permite que a empresa identifique os fatores que levam os clientes a saírem e tome medidas proativas para mitigar esse risco.\n",
    "\n",
    "É nesse sentido que a previsão de churn pode gerar valor numa empresa: \n",
    " * Incremento na receita por meio de uma maior retenção de clientes\n",
    " * Redução de custo de aquisição de novos clientes\n",
    " * Melhoria da satisfação do cliente por meio de maior atenção para os indicativos de churn\n",
    "\n",
    "A previsão de churn se enquadra num problema de classificação pois é necessário que se tenham as informações acerca do estado do cliente: se deixou os serviços da empresa, ou não. Em virtude deste mesmo fato, também é nítido que o problema analisado se ajusta ao aprendizado de máquina supervisionado.\n",
    "\n",
    "O presente projeto trata da previsão de churn numa empresa de telecomunicações. A base de dados utilizada pode ser obtida no [Kaggle](https://www.kaggle.com/blastchar/telco-customer-churn) e se trata de uma empresa telefônica fictícia com dados demográficos e de serviços contratados pelos clientes com a informação se estes saíram ou não da empresa."
   ]
  },
  {
   "cell_type": "markdown",
   "id": "fe1bd34b-72b2-4398-98e4-e7857ffbd3f2",
   "metadata": {},
   "source": [
    "# <a> Objetivos </a>"
   ]
  },
  {
   "cell_type": "markdown",
   "id": "fcf916a8-7368-4283-9d90-8a44d8f5ca65",
   "metadata": {},
   "source": [
    "Este trabalho conta com dois principais objetivos: \n",
    "1) Prever quais clientes são mais propensos a deixar os serviços da empresa de telefonia.\n",
    "2) Extrapolar os resultados da base de dados utilizada e demonstrar como a previsão de churn tem alta capacidade de gerar valor em diversos segmentos."
   ]
  },
  {
   "cell_type": "markdown",
   "id": "f7d7dbbb-21fb-49c0-8269-cfc9ff0639e8",
   "metadata": {},
   "source": [
    "Este projeto foi construído durante a formação da \"Let's Data\" - Jornada Cientista de Dados - https://www.letsdata.ai"
   ]
  },
  {
   "cell_type": "code",
   "execution_count": 1,
   "id": "93008092-7b24-4cc8-9644-720f3548345d",
   "metadata": {},
   "outputs": [],
   "source": [
    "# Importando bibliotecas necessárias \n",
    "import pandas as pd\n",
    "import numpy as np\n",
    "import seaborn as sns\n",
    "from matplotlib import pyplot as plt\n",
    "import os\n",
    "from scipy.stats import chi2_contingency\n",
    "import warnings\n",
    "warnings.filterwarnings(\"ignore\")\n",
    "\n",
    "# Configurando pandas para mostrar todas as linhas e colunas\n",
    "pd.set_option('display.max_rows', None)\n",
    "pd.set_option('display.max_columns', None)\n",
    "\n",
    "# Configuração do pandas para não mostrar notação científica para números\n",
    "pd.set_option('display.float_format', lambda x: '%.2f' % x)"
   ]
  },
  {
   "cell_type": "code",
   "execution_count": 2,
   "id": "f551ccf7-d518-48c2-8e70-8df4f2075620",
   "metadata": {},
   "outputs": [
    {
     "data": {
      "text/html": [
       "<div>\n",
       "<style scoped>\n",
       "    .dataframe tbody tr th:only-of-type {\n",
       "        vertical-align: middle;\n",
       "    }\n",
       "\n",
       "    .dataframe tbody tr th {\n",
       "        vertical-align: top;\n",
       "    }\n",
       "\n",
       "    .dataframe thead th {\n",
       "        text-align: right;\n",
       "    }\n",
       "</style>\n",
       "<table border=\"1\" class=\"dataframe\">\n",
       "  <thead>\n",
       "    <tr style=\"text-align: right;\">\n",
       "      <th></th>\n",
       "      <th>id</th>\n",
       "      <th>gender</th>\n",
       "      <th>SeniorCitizen</th>\n",
       "      <th>Partner</th>\n",
       "      <th>Dependents</th>\n",
       "      <th>tenure</th>\n",
       "      <th>PhoneService</th>\n",
       "      <th>MultipleLines</th>\n",
       "      <th>InternetService</th>\n",
       "      <th>OnlineSecurity</th>\n",
       "      <th>OnlineBackup</th>\n",
       "      <th>DeviceProtection</th>\n",
       "      <th>TechSupport</th>\n",
       "      <th>StreamingTV</th>\n",
       "      <th>StreamingMovies</th>\n",
       "      <th>Contract</th>\n",
       "      <th>PaperlessBilling</th>\n",
       "      <th>PaymentMethod</th>\n",
       "      <th>MonthlyCharges</th>\n",
       "      <th>TotalCharges</th>\n",
       "      <th>Churn</th>\n",
       "    </tr>\n",
       "  </thead>\n",
       "  <tbody>\n",
       "    <tr>\n",
       "      <th>0</th>\n",
       "      <td>4030</td>\n",
       "      <td>Female</td>\n",
       "      <td>0</td>\n",
       "      <td>No</td>\n",
       "      <td>No</td>\n",
       "      <td>56.00</td>\n",
       "      <td>No</td>\n",
       "      <td>No phone service</td>\n",
       "      <td>DSL</td>\n",
       "      <td>Yes</td>\n",
       "      <td>Yes</td>\n",
       "      <td>Yes</td>\n",
       "      <td>Yes</td>\n",
       "      <td>No</td>\n",
       "      <td>No</td>\n",
       "      <td>Two year</td>\n",
       "      <td>No</td>\n",
       "      <td>NaN</td>\n",
       "      <td>45.05</td>\n",
       "      <td>2560.1</td>\n",
       "      <td>0</td>\n",
       "    </tr>\n",
       "    <tr>\n",
       "      <th>1</th>\n",
       "      <td>6731</td>\n",
       "      <td>Male</td>\n",
       "      <td>0</td>\n",
       "      <td>Yes</td>\n",
       "      <td>Yes</td>\n",
       "      <td>NaN</td>\n",
       "      <td>Yes</td>\n",
       "      <td>No</td>\n",
       "      <td>No</td>\n",
       "      <td>No internet service</td>\n",
       "      <td>No internet service</td>\n",
       "      <td>No internet service</td>\n",
       "      <td>No internet service</td>\n",
       "      <td>No internet service</td>\n",
       "      <td>No internet service</td>\n",
       "      <td>One year</td>\n",
       "      <td>No</td>\n",
       "      <td>Mailed check</td>\n",
       "      <td>19.65</td>\n",
       "      <td>332.65</td>\n",
       "      <td>0</td>\n",
       "    </tr>\n",
       "    <tr>\n",
       "      <th>2</th>\n",
       "      <td>6479</td>\n",
       "      <td>Female</td>\n",
       "      <td>0</td>\n",
       "      <td>Yes</td>\n",
       "      <td>No</td>\n",
       "      <td>60.00</td>\n",
       "      <td>Yes</td>\n",
       "      <td>Yes</td>\n",
       "      <td>Fiber optic</td>\n",
       "      <td>No</td>\n",
       "      <td>Yes</td>\n",
       "      <td>Yes</td>\n",
       "      <td>Yes</td>\n",
       "      <td>Yes</td>\n",
       "      <td>Yes</td>\n",
       "      <td>Two year</td>\n",
       "      <td>Yes</td>\n",
       "      <td>Credit card (automatic)</td>\n",
       "      <td>110.80</td>\n",
       "      <td>6640.7</td>\n",
       "      <td>0</td>\n",
       "    </tr>\n",
       "    <tr>\n",
       "      <th>3</th>\n",
       "      <td>6861</td>\n",
       "      <td>Female</td>\n",
       "      <td>0</td>\n",
       "      <td>No</td>\n",
       "      <td>No</td>\n",
       "      <td>37.00</td>\n",
       "      <td>Yes</td>\n",
       "      <td>Yes</td>\n",
       "      <td>Fiber optic</td>\n",
       "      <td>No</td>\n",
       "      <td>Yes</td>\n",
       "      <td>Yes</td>\n",
       "      <td>No</td>\n",
       "      <td>Yes</td>\n",
       "      <td>Yes</td>\n",
       "      <td>Month-to-month</td>\n",
       "      <td>Yes</td>\n",
       "      <td>Bank transfer (automatic)</td>\n",
       "      <td>101.90</td>\n",
       "      <td>3545.35</td>\n",
       "      <td>1</td>\n",
       "    </tr>\n",
       "    <tr>\n",
       "      <th>4</th>\n",
       "      <td>3266</td>\n",
       "      <td>Male</td>\n",
       "      <td>0</td>\n",
       "      <td>Yes</td>\n",
       "      <td>Yes</td>\n",
       "      <td>29.00</td>\n",
       "      <td>Yes</td>\n",
       "      <td>No</td>\n",
       "      <td>Fiber optic</td>\n",
       "      <td>No</td>\n",
       "      <td>No</td>\n",
       "      <td>No</td>\n",
       "      <td>No</td>\n",
       "      <td>No</td>\n",
       "      <td>No</td>\n",
       "      <td>Month-to-month</td>\n",
       "      <td>Yes</td>\n",
       "      <td>Electronic check</td>\n",
       "      <td>70.75</td>\n",
       "      <td>1974.8</td>\n",
       "      <td>1</td>\n",
       "    </tr>\n",
       "  </tbody>\n",
       "</table>\n",
       "</div>"
      ],
      "text/plain": [
       "     id  gender  SeniorCitizen Partner Dependents  tenure PhoneService  \\\n",
       "0  4030  Female              0      No         No   56.00           No   \n",
       "1  6731    Male              0     Yes        Yes     NaN          Yes   \n",
       "2  6479  Female              0     Yes         No   60.00          Yes   \n",
       "3  6861  Female              0      No         No   37.00          Yes   \n",
       "4  3266    Male              0     Yes        Yes   29.00          Yes   \n",
       "\n",
       "      MultipleLines InternetService       OnlineSecurity         OnlineBackup  \\\n",
       "0  No phone service             DSL                  Yes                  Yes   \n",
       "1                No              No  No internet service  No internet service   \n",
       "2               Yes     Fiber optic                   No                  Yes   \n",
       "3               Yes     Fiber optic                   No                  Yes   \n",
       "4                No     Fiber optic                   No                   No   \n",
       "\n",
       "      DeviceProtection          TechSupport          StreamingTV  \\\n",
       "0                  Yes                  Yes                   No   \n",
       "1  No internet service  No internet service  No internet service   \n",
       "2                  Yes                  Yes                  Yes   \n",
       "3                  Yes                   No                  Yes   \n",
       "4                   No                   No                   No   \n",
       "\n",
       "       StreamingMovies        Contract PaperlessBilling  \\\n",
       "0                   No        Two year               No   \n",
       "1  No internet service        One year               No   \n",
       "2                  Yes        Two year              Yes   \n",
       "3                  Yes  Month-to-month              Yes   \n",
       "4                   No  Month-to-month              Yes   \n",
       "\n",
       "               PaymentMethod  MonthlyCharges TotalCharges  Churn  \n",
       "0                        NaN           45.05       2560.1      0  \n",
       "1               Mailed check           19.65       332.65      0  \n",
       "2    Credit card (automatic)          110.80       6640.7      0  \n",
       "3  Bank transfer (automatic)          101.90      3545.35      1  \n",
       "4           Electronic check           70.75       1974.8      1  "
      ]
     },
     "execution_count": 2,
     "metadata": {},
     "output_type": "execute_result"
    }
   ],
   "source": [
    "# Lendo os dados\n",
    "df_customers = pd.read_csv(\"./data/raw data/train.csv\")\n",
    "df_customers.head()"
   ]
  },
  {
   "cell_type": "code",
   "execution_count": 3,
   "id": "1816935e-05cf-4174-9de9-edff77d8df49",
   "metadata": {},
   "outputs": [
    {
     "data": {
      "text/plain": [
       "Index(['id', 'gender', 'SeniorCitizen', 'Partner', 'Dependents', 'tenure',\n",
       "       'PhoneService', 'MultipleLines', 'InternetService', 'OnlineSecurity',\n",
       "       'OnlineBackup', 'DeviceProtection', 'TechSupport', 'StreamingTV',\n",
       "       'StreamingMovies', 'Contract', 'PaperlessBilling', 'PaymentMethod',\n",
       "       'MonthlyCharges', 'TotalCharges', 'Churn'],\n",
       "      dtype='object')"
      ]
     },
     "execution_count": 3,
     "metadata": {},
     "output_type": "execute_result"
    }
   ],
   "source": [
    "# Visualizando as colunas do dataframe\n",
    "df_customers.columns"
   ]
  },
  {
   "cell_type": "markdown",
   "id": "a7eafede-eff7-4187-9e4c-0ddcda5e35da",
   "metadata": {},
   "source": [
    "Cada linha representa uma instância de dados, que nesse caso corresponde a um cliente. Dessa forma, todos os ID's são únicos."
   ]
  },
  {
   "cell_type": "code",
   "execution_count": 4,
   "id": "dcef1c90-a1a0-437b-98d2-21e9261fb689",
   "metadata": {},
   "outputs": [
    {
     "data": {
      "text/plain": [
       "True"
      ]
     },
     "execution_count": 4,
     "metadata": {},
     "output_type": "execute_result"
    }
   ],
   "source": [
    "# Verificando a afirmativa acima\n",
    "df_customers['id'].is_unique"
   ]
  },
  {
   "cell_type": "markdown",
   "id": "9ddc34b3-a7ce-4d9f-b43d-3bd674c4680e",
   "metadata": {},
   "source": [
    "## <a> Dicionário de Dados </a>"
   ]
  },
  {
   "attachments": {
    "62ff2c45-064a-4a36-9d78-10590afaf03a.png": {
     "image/png": "[encoded data removed]"
    }
   },
   "cell_type": "markdown",
   "id": "13ee5f36-2398-4f98-ad06-01652878f8e2",
   "metadata": {},
   "source": [
    "![image.png](attachment:62ff2c45-064a-4a36-9d78-10590afaf03a.png)"
   ]
  },
  {
   "cell_type": "markdown",
   "id": "f570f0d8-a0ae-4aa2-9de0-6e5fdfc2d7c0",
   "metadata": {},
   "source": [
    "## <a> Manipulação de Dados Inicial </a>"
   ]
  },
  {
   "cell_type": "code",
   "execution_count": 5,
   "id": "dba66b4b-b70d-4efc-8f09-2c6ade00db87",
   "metadata": {},
   "outputs": [
    {
     "data": {
      "text/html": [
       "<div>\n",
       "<style scoped>\n",
       "    .dataframe tbody tr th:only-of-type {\n",
       "        vertical-align: middle;\n",
       "    }\n",
       "\n",
       "    .dataframe tbody tr th {\n",
       "        vertical-align: top;\n",
       "    }\n",
       "\n",
       "    .dataframe thead th {\n",
       "        text-align: right;\n",
       "    }\n",
       "</style>\n",
       "<table border=\"1\" class=\"dataframe\">\n",
       "  <thead>\n",
       "    <tr style=\"text-align: right;\">\n",
       "      <th></th>\n",
       "      <th>id</th>\n",
       "      <th>gender</th>\n",
       "      <th>SeniorCitizen</th>\n",
       "      <th>Partner</th>\n",
       "      <th>Dependents</th>\n",
       "      <th>tenure</th>\n",
       "      <th>PhoneService</th>\n",
       "      <th>MultipleLines</th>\n",
       "      <th>InternetService</th>\n",
       "      <th>OnlineSecurity</th>\n",
       "      <th>OnlineBackup</th>\n",
       "      <th>DeviceProtection</th>\n",
       "      <th>TechSupport</th>\n",
       "      <th>StreamingTV</th>\n",
       "      <th>StreamingMovies</th>\n",
       "      <th>Contract</th>\n",
       "      <th>PaperlessBilling</th>\n",
       "      <th>PaymentMethod</th>\n",
       "      <th>MonthlyCharges</th>\n",
       "      <th>TotalCharges</th>\n",
       "      <th>Churn</th>\n",
       "    </tr>\n",
       "  </thead>\n",
       "  <tbody>\n",
       "    <tr>\n",
       "      <th>0</th>\n",
       "      <td>4030</td>\n",
       "      <td>Female</td>\n",
       "      <td>0</td>\n",
       "      <td>No</td>\n",
       "      <td>No</td>\n",
       "      <td>56.00</td>\n",
       "      <td>No</td>\n",
       "      <td>No phone service</td>\n",
       "      <td>DSL</td>\n",
       "      <td>Yes</td>\n",
       "      <td>Yes</td>\n",
       "      <td>Yes</td>\n",
       "      <td>Yes</td>\n",
       "      <td>No</td>\n",
       "      <td>No</td>\n",
       "      <td>Two year</td>\n",
       "      <td>No</td>\n",
       "      <td>NaN</td>\n",
       "      <td>45.05</td>\n",
       "      <td>2560.1</td>\n",
       "      <td>0</td>\n",
       "    </tr>\n",
       "    <tr>\n",
       "      <th>1</th>\n",
       "      <td>6731</td>\n",
       "      <td>Male</td>\n",
       "      <td>0</td>\n",
       "      <td>Yes</td>\n",
       "      <td>Yes</td>\n",
       "      <td>NaN</td>\n",
       "      <td>Yes</td>\n",
       "      <td>No</td>\n",
       "      <td>No</td>\n",
       "      <td>No internet service</td>\n",
       "      <td>No internet service</td>\n",
       "      <td>No internet service</td>\n",
       "      <td>No internet service</td>\n",
       "      <td>No internet service</td>\n",
       "      <td>No internet service</td>\n",
       "      <td>One year</td>\n",
       "      <td>No</td>\n",
       "      <td>Mailed check</td>\n",
       "      <td>19.65</td>\n",
       "      <td>332.65</td>\n",
       "      <td>0</td>\n",
       "    </tr>\n",
       "    <tr>\n",
       "      <th>2</th>\n",
       "      <td>6479</td>\n",
       "      <td>Female</td>\n",
       "      <td>0</td>\n",
       "      <td>Yes</td>\n",
       "      <td>No</td>\n",
       "      <td>60.00</td>\n",
       "      <td>Yes</td>\n",
       "      <td>Yes</td>\n",
       "      <td>Fiber optic</td>\n",
       "      <td>No</td>\n",
       "      <td>Yes</td>\n",
       "      <td>Yes</td>\n",
       "      <td>Yes</td>\n",
       "      <td>Yes</td>\n",
       "      <td>Yes</td>\n",
       "      <td>Two year</td>\n",
       "      <td>Yes</td>\n",
       "      <td>Credit card (automatic)</td>\n",
       "      <td>110.80</td>\n",
       "      <td>6640.7</td>\n",
       "      <td>0</td>\n",
       "    </tr>\n",
       "    <tr>\n",
       "      <th>3</th>\n",
       "      <td>6861</td>\n",
       "      <td>Female</td>\n",
       "      <td>0</td>\n",
       "      <td>No</td>\n",
       "      <td>No</td>\n",
       "      <td>37.00</td>\n",
       "      <td>Yes</td>\n",
       "      <td>Yes</td>\n",
       "      <td>Fiber optic</td>\n",
       "      <td>No</td>\n",
       "      <td>Yes</td>\n",
       "      <td>Yes</td>\n",
       "      <td>No</td>\n",
       "      <td>Yes</td>\n",
       "      <td>Yes</td>\n",
       "      <td>Month-to-month</td>\n",
       "      <td>Yes</td>\n",
       "      <td>Bank transfer (automatic)</td>\n",
       "      <td>101.90</td>\n",
       "      <td>3545.35</td>\n",
       "      <td>1</td>\n",
       "    </tr>\n",
       "    <tr>\n",
       "      <th>4</th>\n",
       "      <td>3266</td>\n",
       "      <td>Male</td>\n",
       "      <td>0</td>\n",
       "      <td>Yes</td>\n",
       "      <td>Yes</td>\n",
       "      <td>29.00</td>\n",
       "      <td>Yes</td>\n",
       "      <td>No</td>\n",
       "      <td>Fiber optic</td>\n",
       "      <td>No</td>\n",
       "      <td>No</td>\n",
       "      <td>No</td>\n",
       "      <td>No</td>\n",
       "      <td>No</td>\n",
       "      <td>No</td>\n",
       "      <td>Month-to-month</td>\n",
       "      <td>Yes</td>\n",
       "      <td>Electronic check</td>\n",
       "      <td>70.75</td>\n",
       "      <td>1974.8</td>\n",
       "      <td>1</td>\n",
       "    </tr>\n",
       "  </tbody>\n",
       "</table>\n",
       "</div>"
      ],
      "text/plain": [
       "     id  gender  SeniorCitizen Partner Dependents  tenure PhoneService  \\\n",
       "0  4030  Female              0      No         No   56.00           No   \n",
       "1  6731    Male              0     Yes        Yes     NaN          Yes   \n",
       "2  6479  Female              0     Yes         No   60.00          Yes   \n",
       "3  6861  Female              0      No         No   37.00          Yes   \n",
       "4  3266    Male              0     Yes        Yes   29.00          Yes   \n",
       "\n",
       "      MultipleLines InternetService       OnlineSecurity         OnlineBackup  \\\n",
       "0  No phone service             DSL                  Yes                  Yes   \n",
       "1                No              No  No internet service  No internet service   \n",
       "2               Yes     Fiber optic                   No                  Yes   \n",
       "3               Yes     Fiber optic                   No                  Yes   \n",
       "4                No     Fiber optic                   No                   No   \n",
       "\n",
       "      DeviceProtection          TechSupport          StreamingTV  \\\n",
       "0                  Yes                  Yes                   No   \n",
       "1  No internet service  No internet service  No internet service   \n",
       "2                  Yes                  Yes                  Yes   \n",
       "3                  Yes                   No                  Yes   \n",
       "4                   No                   No                   No   \n",
       "\n",
       "       StreamingMovies        Contract PaperlessBilling  \\\n",
       "0                   No        Two year               No   \n",
       "1  No internet service        One year               No   \n",
       "2                  Yes        Two year              Yes   \n",
       "3                  Yes  Month-to-month              Yes   \n",
       "4                   No  Month-to-month              Yes   \n",
       "\n",
       "               PaymentMethod  MonthlyCharges TotalCharges  Churn  \n",
       "0                        NaN           45.05       2560.1      0  \n",
       "1               Mailed check           19.65       332.65      0  \n",
       "2    Credit card (automatic)          110.80       6640.7      0  \n",
       "3  Bank transfer (automatic)          101.90      3545.35      1  \n",
       "4           Electronic check           70.75       1974.8      1  "
      ]
     },
     "execution_count": 5,
     "metadata": {},
     "output_type": "execute_result"
    }
   ],
   "source": [
    "# Visualizando os dados (coluna id pode ser utilizada como índice)\n",
    "df_customers.head()"
   ]
  },
  {
   "cell_type": "code",
   "execution_count": 6,
   "id": "3a676c07-b005-4e7f-831c-7c07362a4dd1",
   "metadata": {},
   "outputs": [
    {
     "data": {
      "text/html": [
       "<div>\n",
       "<style scoped>\n",
       "    .dataframe tbody tr th:only-of-type {\n",
       "        vertical-align: middle;\n",
       "    }\n",
       "\n",
       "    .dataframe tbody tr th {\n",
       "        vertical-align: top;\n",
       "    }\n",
       "\n",
       "    .dataframe thead th {\n",
       "        text-align: right;\n",
       "    }\n",
       "</style>\n",
       "<table border=\"1\" class=\"dataframe\">\n",
       "  <thead>\n",
       "    <tr style=\"text-align: right;\">\n",
       "      <th></th>\n",
       "      <th>gender</th>\n",
       "      <th>SeniorCitizen</th>\n",
       "      <th>Partner</th>\n",
       "      <th>Dependents</th>\n",
       "      <th>tenure</th>\n",
       "      <th>PhoneService</th>\n",
       "      <th>MultipleLines</th>\n",
       "      <th>InternetService</th>\n",
       "      <th>OnlineSecurity</th>\n",
       "      <th>OnlineBackup</th>\n",
       "      <th>DeviceProtection</th>\n",
       "      <th>TechSupport</th>\n",
       "      <th>StreamingTV</th>\n",
       "      <th>StreamingMovies</th>\n",
       "      <th>Contract</th>\n",
       "      <th>PaperlessBilling</th>\n",
       "      <th>PaymentMethod</th>\n",
       "      <th>MonthlyCharges</th>\n",
       "      <th>TotalCharges</th>\n",
       "      <th>Churn</th>\n",
       "    </tr>\n",
       "    <tr>\n",
       "      <th>id</th>\n",
       "      <th></th>\n",
       "      <th></th>\n",
       "      <th></th>\n",
       "      <th></th>\n",
       "      <th></th>\n",
       "      <th></th>\n",
       "      <th></th>\n",
       "      <th></th>\n",
       "      <th></th>\n",
       "      <th></th>\n",
       "      <th></th>\n",
       "      <th></th>\n",
       "      <th></th>\n",
       "      <th></th>\n",
       "      <th></th>\n",
       "      <th></th>\n",
       "      <th></th>\n",
       "      <th></th>\n",
       "      <th></th>\n",
       "      <th></th>\n",
       "    </tr>\n",
       "  </thead>\n",
       "  <tbody>\n",
       "    <tr>\n",
       "      <th>4030</th>\n",
       "      <td>Female</td>\n",
       "      <td>0</td>\n",
       "      <td>No</td>\n",
       "      <td>No</td>\n",
       "      <td>56.00</td>\n",
       "      <td>No</td>\n",
       "      <td>No phone service</td>\n",
       "      <td>DSL</td>\n",
       "      <td>Yes</td>\n",
       "      <td>Yes</td>\n",
       "      <td>Yes</td>\n",
       "      <td>Yes</td>\n",
       "      <td>No</td>\n",
       "      <td>No</td>\n",
       "      <td>Two year</td>\n",
       "      <td>No</td>\n",
       "      <td>NaN</td>\n",
       "      <td>45.05</td>\n",
       "      <td>2560.1</td>\n",
       "      <td>0</td>\n",
       "    </tr>\n",
       "    <tr>\n",
       "      <th>6731</th>\n",
       "      <td>Male</td>\n",
       "      <td>0</td>\n",
       "      <td>Yes</td>\n",
       "      <td>Yes</td>\n",
       "      <td>NaN</td>\n",
       "      <td>Yes</td>\n",
       "      <td>No</td>\n",
       "      <td>No</td>\n",
       "      <td>No internet service</td>\n",
       "      <td>No internet service</td>\n",
       "      <td>No internet service</td>\n",
       "      <td>No internet service</td>\n",
       "      <td>No internet service</td>\n",
       "      <td>No internet service</td>\n",
       "      <td>One year</td>\n",
       "      <td>No</td>\n",
       "      <td>Mailed check</td>\n",
       "      <td>19.65</td>\n",
       "      <td>332.65</td>\n",
       "      <td>0</td>\n",
       "    </tr>\n",
       "    <tr>\n",
       "      <th>6479</th>\n",
       "      <td>Female</td>\n",
       "      <td>0</td>\n",
       "      <td>Yes</td>\n",
       "      <td>No</td>\n",
       "      <td>60.00</td>\n",
       "      <td>Yes</td>\n",
       "      <td>Yes</td>\n",
       "      <td>Fiber optic</td>\n",
       "      <td>No</td>\n",
       "      <td>Yes</td>\n",
       "      <td>Yes</td>\n",
       "      <td>Yes</td>\n",
       "      <td>Yes</td>\n",
       "      <td>Yes</td>\n",
       "      <td>Two year</td>\n",
       "      <td>Yes</td>\n",
       "      <td>Credit card (automatic)</td>\n",
       "      <td>110.80</td>\n",
       "      <td>6640.7</td>\n",
       "      <td>0</td>\n",
       "    </tr>\n",
       "    <tr>\n",
       "      <th>6861</th>\n",
       "      <td>Female</td>\n",
       "      <td>0</td>\n",
       "      <td>No</td>\n",
       "      <td>No</td>\n",
       "      <td>37.00</td>\n",
       "      <td>Yes</td>\n",
       "      <td>Yes</td>\n",
       "      <td>Fiber optic</td>\n",
       "      <td>No</td>\n",
       "      <td>Yes</td>\n",
       "      <td>Yes</td>\n",
       "      <td>No</td>\n",
       "      <td>Yes</td>\n",
       "      <td>Yes</td>\n",
       "      <td>Month-to-month</td>\n",
       "      <td>Yes</td>\n",
       "      <td>Bank transfer (automatic)</td>\n",
       "      <td>101.90</td>\n",
       "      <td>3545.35</td>\n",
       "      <td>1</td>\n",
       "    </tr>\n",
       "    <tr>\n",
       "      <th>3266</th>\n",
       "      <td>Male</td>\n",
       "      <td>0</td>\n",
       "      <td>Yes</td>\n",
       "      <td>Yes</td>\n",
       "      <td>29.00</td>\n",
       "      <td>Yes</td>\n",
       "      <td>No</td>\n",
       "      <td>Fiber optic</td>\n",
       "      <td>No</td>\n",
       "      <td>No</td>\n",
       "      <td>No</td>\n",
       "      <td>No</td>\n",
       "      <td>No</td>\n",
       "      <td>No</td>\n",
       "      <td>Month-to-month</td>\n",
       "      <td>Yes</td>\n",
       "      <td>Electronic check</td>\n",
       "      <td>70.75</td>\n",
       "      <td>1974.8</td>\n",
       "      <td>1</td>\n",
       "    </tr>\n",
       "  </tbody>\n",
       "</table>\n",
       "</div>"
      ],
      "text/plain": [
       "      gender  SeniorCitizen Partner Dependents  tenure PhoneService  \\\n",
       "id                                                                    \n",
       "4030  Female              0      No         No   56.00           No   \n",
       "6731    Male              0     Yes        Yes     NaN          Yes   \n",
       "6479  Female              0     Yes         No   60.00          Yes   \n",
       "6861  Female              0      No         No   37.00          Yes   \n",
       "3266    Male              0     Yes        Yes   29.00          Yes   \n",
       "\n",
       "         MultipleLines InternetService       OnlineSecurity  \\\n",
       "id                                                            \n",
       "4030  No phone service             DSL                  Yes   \n",
       "6731                No              No  No internet service   \n",
       "6479               Yes     Fiber optic                   No   \n",
       "6861               Yes     Fiber optic                   No   \n",
       "3266                No     Fiber optic                   No   \n",
       "\n",
       "             OnlineBackup     DeviceProtection          TechSupport  \\\n",
       "id                                                                    \n",
       "4030                  Yes                  Yes                  Yes   \n",
       "6731  No internet service  No internet service  No internet service   \n",
       "6479                  Yes                  Yes                  Yes   \n",
       "6861                  Yes                  Yes                   No   \n",
       "3266                   No                   No                   No   \n",
       "\n",
       "              StreamingTV      StreamingMovies        Contract  \\\n",
       "id                                                               \n",
       "4030                   No                   No        Two year   \n",
       "6731  No internet service  No internet service        One year   \n",
       "6479                  Yes                  Yes        Two year   \n",
       "6861                  Yes                  Yes  Month-to-month   \n",
       "3266                   No                   No  Month-to-month   \n",
       "\n",
       "     PaperlessBilling              PaymentMethod  MonthlyCharges TotalCharges  \\\n",
       "id                                                                              \n",
       "4030               No                        NaN           45.05       2560.1   \n",
       "6731               No               Mailed check           19.65       332.65   \n",
       "6479              Yes    Credit card (automatic)          110.80       6640.7   \n",
       "6861              Yes  Bank transfer (automatic)          101.90      3545.35   \n",
       "3266              Yes           Electronic check           70.75       1974.8   \n",
       "\n",
       "      Churn  \n",
       "id           \n",
       "4030      0  \n",
       "6731      0  \n",
       "6479      0  \n",
       "6861      1  \n",
       "3266      1  "
      ]
     },
     "execution_count": 6,
     "metadata": {},
     "output_type": "execute_result"
    }
   ],
   "source": [
    "# Setando a coluna 'id' como índice do DataFrame\n",
    "df_customers = df_customers.set_index('id')\n",
    "df_customers.head()"
   ]
  },
  {
   "cell_type": "code",
   "execution_count": 7,
   "id": "32ead9a9-2b5f-481f-989b-8bc8d76170dd",
   "metadata": {},
   "outputs": [],
   "source": [
    "# Criando função para mostrar dimensões, tipos de coluna e demais informações do DataFrame\n",
    "def informacao(dataframe):\n",
    "    print(f\"As dimensões do DataFrame são: {(dataframe.shape[0])} linhas e {(dataframe.shape[1])} colunas\")\n",
    "    print(\"\\n\")\n",
    "    print(f\"As colunas do DataFrame e seus tipos são:\\n\\n{dataframe.dtypes}\")\n",
    "    print(\"\\n\")\n",
    "    print(\"Demais informações sobre o DataFrame: \\n\")\n",
    "    dataframe.info()"
   ]
  },
  {
   "cell_type": "code",
   "execution_count": 8,
   "id": "4b88b997-7b40-4e0b-87f3-a07803b3fb68",
   "metadata": {},
   "outputs": [
    {
     "name": "stdout",
     "output_type": "stream",
     "text": [
      "As dimensões do DataFrame são: 5634 linhas e 20 colunas\n",
      "\n",
      "\n",
      "As colunas do DataFrame e seus tipos são:\n",
      "\n",
      "gender               object\n",
      "SeniorCitizen         int64\n",
      "Partner              object\n",
      "Dependents           object\n",
      "tenure              float64\n",
      "PhoneService         object\n",
      "MultipleLines        object\n",
      "InternetService      object\n",
      "OnlineSecurity       object\n",
      "OnlineBackup         object\n",
      "DeviceProtection     object\n",
      "TechSupport          object\n",
      "StreamingTV          object\n",
      "StreamingMovies      object\n",
      "Contract             object\n",
      "PaperlessBilling     object\n",
      "PaymentMethod        object\n",
      "MonthlyCharges      float64\n",
      "TotalCharges         object\n",
      "Churn                 int64\n",
      "dtype: object\n",
      "\n",
      "\n",
      "Demais informações sobre o DataFrame: \n",
      "\n",
      "<class 'pandas.core.frame.DataFrame'>\n",
      "Index: 5634 entries, 4030 to 103\n",
      "Data columns (total 20 columns):\n",
      " #   Column            Non-Null Count  Dtype  \n",
      "---  ------            --------------  -----  \n",
      " 0   gender            5634 non-null   object \n",
      " 1   SeniorCitizen     5634 non-null   int64  \n",
      " 2   Partner           5634 non-null   object \n",
      " 3   Dependents        5416 non-null   object \n",
      " 4   tenure            5173 non-null   float64\n",
      " 5   PhoneService      5634 non-null   object \n",
      " 6   MultipleLines     5634 non-null   object \n",
      " 7   InternetService   5634 non-null   object \n",
      " 8   OnlineSecurity    5634 non-null   object \n",
      " 9   OnlineBackup      5634 non-null   object \n",
      " 10  DeviceProtection  5634 non-null   object \n",
      " 11  TechSupport       5634 non-null   object \n",
      " 12  StreamingTV       5634 non-null   object \n",
      " 13  StreamingMovies   5634 non-null   object \n",
      " 14  Contract          5634 non-null   object \n",
      " 15  PaperlessBilling  5634 non-null   object \n",
      " 16  PaymentMethod     5535 non-null   object \n",
      " 17  MonthlyCharges    5634 non-null   float64\n",
      " 18  TotalCharges      5634 non-null   object \n",
      " 19  Churn             5634 non-null   int64  \n",
      "dtypes: float64(2), int64(2), object(16)\n",
      "memory usage: 924.3+ KB\n"
     ]
    }
   ],
   "source": [
    "# Chamando a função\n",
    "informacao(df_customers)"
   ]
  },
  {
   "cell_type": "code",
   "execution_count": 9,
   "id": "2a538741-d8fd-49b4-a24d-28f72dfcf607",
   "metadata": {},
   "outputs": [
    {
     "data": {
      "text/plain": [
       "dtype('O')"
      ]
     },
     "execution_count": 9,
     "metadata": {},
     "output_type": "execute_result"
    }
   ],
   "source": [
    "# A feature 'TotalCharges' possui tipo 'object', mas deveria possuir tipo 'float'\n",
    "df_customers['TotalCharges'].dtype"
   ]
  },
  {
   "cell_type": "code",
   "execution_count": 10,
   "id": "ac18c0f0-90b3-493d-8758-b0a6c44097ed",
   "metadata": {},
   "outputs": [],
   "source": [
    "# Criando função para checar valores das features\n",
    "def valores(feature):\n",
    "    return df_customers[f'{feature}'].value_counts()"
   ]
  },
  {
   "cell_type": "code",
   "execution_count": 11,
   "id": "c3d7c005-b182-4789-a7e3-50d44c94606a",
   "metadata": {},
   "outputs": [
    {
     "data": {
      "text/plain": [
       "TotalCharges\n",
       "20.2     8\n",
       "         8\n",
       "19.55    7\n",
       "19.75    6\n",
       "19.9     6\n",
       "19.45    6\n",
       "19.65    6\n",
       "20.05    6\n",
       "20.25    6\n",
       "45.3     5\n",
       "20.15    5\n",
       "44.4     4\n",
       "69.6     4\n",
       "20.3     4\n",
       "50.15    4\n",
       "19.3     4\n",
       "44       4\n",
       "20.45    4\n",
       "19.2     4\n",
       "69.65    4\n",
       "Name: count, dtype: int64"
      ]
     },
     "execution_count": 11,
     "metadata": {},
     "output_type": "execute_result"
    }
   ],
   "source": [
    "# Chamando a função (20 primeiras saídas)\n",
    "valores('TotalCharges').head(20)"
   ]
  },
  {
   "cell_type": "markdown",
   "id": "7b27d879-9203-4f88-9dc7-e73a739c4832",
   "metadata": {},
   "source": [
    "Há alguns valores em branco, essa pode ser a causa dessa feature estar com tipo 'object'. A fim de tratar este problema, utilizaremos expressões regulares."
   ]
  },
  {
   "cell_type": "code",
   "execution_count": 12,
   "id": "875d3a85-62e6-4e9f-9686-9a9f04822c40",
   "metadata": {},
   "outputs": [],
   "source": [
    "# Atualizando a feature 'TotalCharges' para que os valores com espaços sejam substituídos por um nome 'vazio', tal qual a string \"\".\n",
    "# \\s significa qualquer caractere de espaço, enquanto \\s+ significa um ou mais espaços\n",
    "df_customers['TotalCharges'] = df_customers['TotalCharges'].replace(\"\\s+\", \"\", regex = True)"
   ]
  },
  {
   "cell_type": "code",
   "execution_count": 13,
   "id": "67c17f2c-214a-4033-81bc-9b05c0dfab4d",
   "metadata": {},
   "outputs": [
    {
     "data": {
      "text/plain": [
       "TotalCharges\n",
       "20.2     8\n",
       "         8\n",
       "19.55    7\n",
       "19.75    6\n",
       "19.9     6\n",
       "19.45    6\n",
       "19.65    6\n",
       "20.05    6\n",
       "20.25    6\n",
       "45.3     5\n",
       "20.15    5\n",
       "44.4     4\n",
       "69.6     4\n",
       "20.3     4\n",
       "50.15    4\n",
       "19.3     4\n",
       "44       4\n",
       "20.45    4\n",
       "19.2     4\n",
       "69.65    4\n",
       "Name: count, dtype: int64"
      ]
     },
     "execution_count": 13,
     "metadata": {},
     "output_type": "execute_result"
    }
   ],
   "source": [
    "# Chamando a função novamente\n",
    "valores('TotalCharges').head(20)"
   ]
  },
  {
   "cell_type": "code",
   "execution_count": 14,
   "id": "58312663-f1d0-4d84-a97a-fd6ae37e6ad8",
   "metadata": {},
   "outputs": [
    {
     "data": {
      "text/plain": [
       "dtype('O')"
      ]
     },
     "execution_count": 14,
     "metadata": {},
     "output_type": "execute_result"
    }
   ],
   "source": [
    "# Verificando novamente o tipo da feature\n",
    "df_customers['TotalCharges'].dtype"
   ]
  },
  {
   "cell_type": "markdown",
   "id": "190e1a7f-430a-441f-a8a5-c6115c7119f4",
   "metadata": {},
   "source": [
    "Os valores continuam ali, mas foram substituídos por uma string vazia \"\". No entanto, ainda é necessário converter tais valores para 'float'.\n",
    "\n",
    "Como os valores que queremos converter são de strings vazias (\"\") para float, o método 'astype()' apresentará erros. Sendo assim, utilizaremos o método 'to_numeric()'."
   ]
  },
  {
   "cell_type": "code",
   "execution_count": 15,
   "id": "a8f4056c-e610-4207-ba95-630675eccd09",
   "metadata": {},
   "outputs": [
    {
     "data": {
      "text/html": [
       "<div>\n",
       "<style scoped>\n",
       "    .dataframe tbody tr th:only-of-type {\n",
       "        vertical-align: middle;\n",
       "    }\n",
       "\n",
       "    .dataframe tbody tr th {\n",
       "        vertical-align: top;\n",
       "    }\n",
       "\n",
       "    .dataframe thead th {\n",
       "        text-align: right;\n",
       "    }\n",
       "</style>\n",
       "<table border=\"1\" class=\"dataframe\">\n",
       "  <thead>\n",
       "    <tr style=\"text-align: right;\">\n",
       "      <th></th>\n",
       "      <th>gender</th>\n",
       "      <th>SeniorCitizen</th>\n",
       "      <th>Partner</th>\n",
       "      <th>Dependents</th>\n",
       "      <th>tenure</th>\n",
       "      <th>PhoneService</th>\n",
       "      <th>MultipleLines</th>\n",
       "      <th>InternetService</th>\n",
       "      <th>OnlineSecurity</th>\n",
       "      <th>OnlineBackup</th>\n",
       "      <th>DeviceProtection</th>\n",
       "      <th>TechSupport</th>\n",
       "      <th>StreamingTV</th>\n",
       "      <th>StreamingMovies</th>\n",
       "      <th>Contract</th>\n",
       "      <th>PaperlessBilling</th>\n",
       "      <th>PaymentMethod</th>\n",
       "      <th>MonthlyCharges</th>\n",
       "      <th>TotalCharges</th>\n",
       "      <th>Churn</th>\n",
       "    </tr>\n",
       "    <tr>\n",
       "      <th>id</th>\n",
       "      <th></th>\n",
       "      <th></th>\n",
       "      <th></th>\n",
       "      <th></th>\n",
       "      <th></th>\n",
       "      <th></th>\n",
       "      <th></th>\n",
       "      <th></th>\n",
       "      <th></th>\n",
       "      <th></th>\n",
       "      <th></th>\n",
       "      <th></th>\n",
       "      <th></th>\n",
       "      <th></th>\n",
       "      <th></th>\n",
       "      <th></th>\n",
       "      <th></th>\n",
       "      <th></th>\n",
       "      <th></th>\n",
       "      <th></th>\n",
       "    </tr>\n",
       "  </thead>\n",
       "  <tbody>\n",
       "    <tr>\n",
       "      <th>6755</th>\n",
       "      <td>Male</td>\n",
       "      <td>0</td>\n",
       "      <td>No</td>\n",
       "      <td>Yes</td>\n",
       "      <td>0.00</td>\n",
       "      <td>Yes</td>\n",
       "      <td>Yes</td>\n",
       "      <td>DSL</td>\n",
       "      <td>Yes</td>\n",
       "      <td>Yes</td>\n",
       "      <td>No</td>\n",
       "      <td>Yes</td>\n",
       "      <td>No</td>\n",
       "      <td>No</td>\n",
       "      <td>Two year</td>\n",
       "      <td>Yes</td>\n",
       "      <td>Bank transfer (automatic)</td>\n",
       "      <td>61.90</td>\n",
       "      <td></td>\n",
       "      <td>0</td>\n",
       "    </tr>\n",
       "    <tr>\n",
       "      <th>5219</th>\n",
       "      <td>Male</td>\n",
       "      <td>0</td>\n",
       "      <td>Yes</td>\n",
       "      <td>Yes</td>\n",
       "      <td>0.00</td>\n",
       "      <td>Yes</td>\n",
       "      <td>No</td>\n",
       "      <td>No</td>\n",
       "      <td>No internet service</td>\n",
       "      <td>No internet service</td>\n",
       "      <td>No internet service</td>\n",
       "      <td>No internet service</td>\n",
       "      <td>No internet service</td>\n",
       "      <td>No internet service</td>\n",
       "      <td>One year</td>\n",
       "      <td>Yes</td>\n",
       "      <td>Mailed check</td>\n",
       "      <td>19.70</td>\n",
       "      <td></td>\n",
       "      <td>0</td>\n",
       "    </tr>\n",
       "    <tr>\n",
       "      <th>6671</th>\n",
       "      <td>Female</td>\n",
       "      <td>0</td>\n",
       "      <td>Yes</td>\n",
       "      <td>Yes</td>\n",
       "      <td>0.00</td>\n",
       "      <td>Yes</td>\n",
       "      <td>Yes</td>\n",
       "      <td>DSL</td>\n",
       "      <td>No</td>\n",
       "      <td>Yes</td>\n",
       "      <td>Yes</td>\n",
       "      <td>Yes</td>\n",
       "      <td>Yes</td>\n",
       "      <td>No</td>\n",
       "      <td>Two year</td>\n",
       "      <td>No</td>\n",
       "      <td>Mailed check</td>\n",
       "      <td>73.35</td>\n",
       "      <td></td>\n",
       "      <td>0</td>\n",
       "    </tr>\n",
       "    <tr>\n",
       "      <th>937</th>\n",
       "      <td>Female</td>\n",
       "      <td>0</td>\n",
       "      <td>Yes</td>\n",
       "      <td>Yes</td>\n",
       "      <td>0.00</td>\n",
       "      <td>Yes</td>\n",
       "      <td>No</td>\n",
       "      <td>DSL</td>\n",
       "      <td>Yes</td>\n",
       "      <td>Yes</td>\n",
       "      <td>Yes</td>\n",
       "      <td>No</td>\n",
       "      <td>Yes</td>\n",
       "      <td>Yes</td>\n",
       "      <td>Two year</td>\n",
       "      <td>No</td>\n",
       "      <td>Mailed check</td>\n",
       "      <td>80.85</td>\n",
       "      <td></td>\n",
       "      <td>0</td>\n",
       "    </tr>\n",
       "    <tr>\n",
       "      <th>3827</th>\n",
       "      <td>Male</td>\n",
       "      <td>0</td>\n",
       "      <td>Yes</td>\n",
       "      <td>Yes</td>\n",
       "      <td>0.00</td>\n",
       "      <td>Yes</td>\n",
       "      <td>Yes</td>\n",
       "      <td>No</td>\n",
       "      <td>No internet service</td>\n",
       "      <td>No internet service</td>\n",
       "      <td>No internet service</td>\n",
       "      <td>No internet service</td>\n",
       "      <td>No internet service</td>\n",
       "      <td>No internet service</td>\n",
       "      <td>Two year</td>\n",
       "      <td>No</td>\n",
       "      <td>Mailed check</td>\n",
       "      <td>25.35</td>\n",
       "      <td></td>\n",
       "      <td>0</td>\n",
       "    </tr>\n",
       "    <tr>\n",
       "      <th>1083</th>\n",
       "      <td>Male</td>\n",
       "      <td>0</td>\n",
       "      <td>Yes</td>\n",
       "      <td>Yes</td>\n",
       "      <td>0.00</td>\n",
       "      <td>Yes</td>\n",
       "      <td>Yes</td>\n",
       "      <td>No</td>\n",
       "      <td>No internet service</td>\n",
       "      <td>No internet service</td>\n",
       "      <td>No internet service</td>\n",
       "      <td>No internet service</td>\n",
       "      <td>No internet service</td>\n",
       "      <td>No internet service</td>\n",
       "      <td>Two year</td>\n",
       "      <td>No</td>\n",
       "      <td>Mailed check</td>\n",
       "      <td>25.75</td>\n",
       "      <td></td>\n",
       "      <td>0</td>\n",
       "    </tr>\n",
       "    <tr>\n",
       "      <th>3332</th>\n",
       "      <td>Male</td>\n",
       "      <td>0</td>\n",
       "      <td>Yes</td>\n",
       "      <td>Yes</td>\n",
       "      <td>0.00</td>\n",
       "      <td>Yes</td>\n",
       "      <td>No</td>\n",
       "      <td>No</td>\n",
       "      <td>No internet service</td>\n",
       "      <td>No internet service</td>\n",
       "      <td>No internet service</td>\n",
       "      <td>No internet service</td>\n",
       "      <td>No internet service</td>\n",
       "      <td>No internet service</td>\n",
       "      <td>Two year</td>\n",
       "      <td>No</td>\n",
       "      <td>Mailed check</td>\n",
       "      <td>19.85</td>\n",
       "      <td></td>\n",
       "      <td>0</td>\n",
       "    </tr>\n",
       "    <tr>\n",
       "      <th>1341</th>\n",
       "      <td>Female</td>\n",
       "      <td>0</td>\n",
       "      <td>Yes</td>\n",
       "      <td>Yes</td>\n",
       "      <td>0.00</td>\n",
       "      <td>No</td>\n",
       "      <td>No phone service</td>\n",
       "      <td>DSL</td>\n",
       "      <td>Yes</td>\n",
       "      <td>Yes</td>\n",
       "      <td>Yes</td>\n",
       "      <td>Yes</td>\n",
       "      <td>Yes</td>\n",
       "      <td>No</td>\n",
       "      <td>Two year</td>\n",
       "      <td>No</td>\n",
       "      <td>Credit card (automatic)</td>\n",
       "      <td>56.05</td>\n",
       "      <td></td>\n",
       "      <td>0</td>\n",
       "    </tr>\n",
       "  </tbody>\n",
       "</table>\n",
       "</div>"
      ],
      "text/plain": [
       "      gender  SeniorCitizen Partner Dependents  tenure PhoneService  \\\n",
       "id                                                                    \n",
       "6755    Male              0      No        Yes    0.00          Yes   \n",
       "5219    Male              0     Yes        Yes    0.00          Yes   \n",
       "6671  Female              0     Yes        Yes    0.00          Yes   \n",
       "937   Female              0     Yes        Yes    0.00          Yes   \n",
       "3827    Male              0     Yes        Yes    0.00          Yes   \n",
       "1083    Male              0     Yes        Yes    0.00          Yes   \n",
       "3332    Male              0     Yes        Yes    0.00          Yes   \n",
       "1341  Female              0     Yes        Yes    0.00           No   \n",
       "\n",
       "         MultipleLines InternetService       OnlineSecurity  \\\n",
       "id                                                            \n",
       "6755               Yes             DSL                  Yes   \n",
       "5219                No              No  No internet service   \n",
       "6671               Yes             DSL                   No   \n",
       "937                 No             DSL                  Yes   \n",
       "3827               Yes              No  No internet service   \n",
       "1083               Yes              No  No internet service   \n",
       "3332                No              No  No internet service   \n",
       "1341  No phone service             DSL                  Yes   \n",
       "\n",
       "             OnlineBackup     DeviceProtection          TechSupport  \\\n",
       "id                                                                    \n",
       "6755                  Yes                   No                  Yes   \n",
       "5219  No internet service  No internet service  No internet service   \n",
       "6671                  Yes                  Yes                  Yes   \n",
       "937                   Yes                  Yes                   No   \n",
       "3827  No internet service  No internet service  No internet service   \n",
       "1083  No internet service  No internet service  No internet service   \n",
       "3332  No internet service  No internet service  No internet service   \n",
       "1341                  Yes                  Yes                  Yes   \n",
       "\n",
       "              StreamingTV      StreamingMovies  Contract PaperlessBilling  \\\n",
       "id                                                                          \n",
       "6755                   No                   No  Two year              Yes   \n",
       "5219  No internet service  No internet service  One year              Yes   \n",
       "6671                  Yes                   No  Two year               No   \n",
       "937                   Yes                  Yes  Two year               No   \n",
       "3827  No internet service  No internet service  Two year               No   \n",
       "1083  No internet service  No internet service  Two year               No   \n",
       "3332  No internet service  No internet service  Two year               No   \n",
       "1341                  Yes                   No  Two year               No   \n",
       "\n",
       "                  PaymentMethod  MonthlyCharges TotalCharges  Churn  \n",
       "id                                                                   \n",
       "6755  Bank transfer (automatic)           61.90                   0  \n",
       "5219               Mailed check           19.70                   0  \n",
       "6671               Mailed check           73.35                   0  \n",
       "937                Mailed check           80.85                   0  \n",
       "3827               Mailed check           25.35                   0  \n",
       "1083               Mailed check           25.75                   0  \n",
       "3332               Mailed check           19.85                   0  \n",
       "1341    Credit card (automatic)           56.05                   0  "
      ]
     },
     "execution_count": 15,
     "metadata": {},
     "output_type": "execute_result"
    }
   ],
   "source": [
    "# Filtrando as linhas em que a feature 'TotalCharges' é uma string vazia e não pode ser convertida para float\n",
    "df_customers.loc[df_customers['TotalCharges'] == \"\", :]"
   ]
  },
  {
   "cell_type": "code",
   "execution_count": 16,
   "id": "b1192e0d-afc3-4ab1-9255-c43f0caa8f4b",
   "metadata": {},
   "outputs": [
    {
     "data": {
      "text/plain": [
       "id\n",
       "4030   2560.10\n",
       "6731    332.65\n",
       "6479   6640.70\n",
       "6861   3545.35\n",
       "3266   1974.80\n",
       "6368   3442.80\n",
       "5830   1848.80\n",
       "4476     61.05\n",
       "1508   1008.70\n",
       "2921   6155.40\n",
       "3145    110.15\n",
       "333    4422.95\n",
       "2140    458.10\n",
       "3427     69.80\n",
       "3379   6033.10\n",
       "3163   1394.55\n",
       "6471    345.50\n",
       "2350   6565.85\n",
       "3756    318.90\n",
       "305    3141.70\n",
       "Name: TotalCharges, dtype: float64"
      ]
     },
     "execution_count": 16,
     "metadata": {},
     "output_type": "execute_result"
    }
   ],
   "source": [
    "# É interessante utilizar o método 'to_numeric()' pois podemos utilizar o parâmetro 'errors' como 'coerce' a fim de forçar a barra pra converter as\n",
    "# strings vazias em float\n",
    "pd.to_numeric(df_customers['TotalCharges'], errors = 'coerce').head(20)"
   ]
  },
  {
   "cell_type": "code",
   "execution_count": 17,
   "id": "8bd90f53-4b5b-4366-bbcc-2ac258b2fd0b",
   "metadata": {},
   "outputs": [
    {
     "data": {
      "text/plain": [
       "id\n",
       "6755   NaN\n",
       "5219   NaN\n",
       "6671   NaN\n",
       "937    NaN\n",
       "3827   NaN\n",
       "1083   NaN\n",
       "3332   NaN\n",
       "1341   NaN\n",
       "Name: TotalCharges, dtype: float64"
      ]
     },
     "execution_count": 17,
     "metadata": {},
     "output_type": "execute_result"
    }
   ],
   "source": [
    "# Selecionando os índices de onde o valor de 'TotalCharges' é uma string vazia \n",
    "indice_totalcharges_vazio = df_customers.loc[df_customers['TotalCharges'] == \"\", :].index\n",
    "indice_totalcharges_vazio\n",
    "\n",
    "# Visualizando como o método 'to_numeric()' converteria as linhas em que o valor de 'TotalCharges' era uma string vazia\n",
    "pd.to_numeric(df_customers['TotalCharges'], errors = 'coerce')[indice_totalcharges_vazio]"
   ]
  },
  {
   "cell_type": "markdown",
   "id": "1a415666-0744-4f81-8698-c34bef88cc69",
   "metadata": {},
   "source": [
    "Já tendo verificado como as mudanças ficariam, é hora de converter, de fato, a feature 'TotalCharges' para float"
   ]
  },
  {
   "cell_type": "code",
   "execution_count": 18,
   "id": "856e4f49-61bd-4211-99cf-9146c083dbc2",
   "metadata": {},
   "outputs": [
    {
     "data": {
      "text/html": [
       "<div>\n",
       "<style scoped>\n",
       "    .dataframe tbody tr th:only-of-type {\n",
       "        vertical-align: middle;\n",
       "    }\n",
       "\n",
       "    .dataframe tbody tr th {\n",
       "        vertical-align: top;\n",
       "    }\n",
       "\n",
       "    .dataframe thead th {\n",
       "        text-align: right;\n",
       "    }\n",
       "</style>\n",
       "<table border=\"1\" class=\"dataframe\">\n",
       "  <thead>\n",
       "    <tr style=\"text-align: right;\">\n",
       "      <th></th>\n",
       "      <th>gender</th>\n",
       "      <th>SeniorCitizen</th>\n",
       "      <th>Partner</th>\n",
       "      <th>Dependents</th>\n",
       "      <th>tenure</th>\n",
       "      <th>PhoneService</th>\n",
       "      <th>MultipleLines</th>\n",
       "      <th>InternetService</th>\n",
       "      <th>OnlineSecurity</th>\n",
       "      <th>OnlineBackup</th>\n",
       "      <th>DeviceProtection</th>\n",
       "      <th>TechSupport</th>\n",
       "      <th>StreamingTV</th>\n",
       "      <th>StreamingMovies</th>\n",
       "      <th>Contract</th>\n",
       "      <th>PaperlessBilling</th>\n",
       "      <th>PaymentMethod</th>\n",
       "      <th>MonthlyCharges</th>\n",
       "      <th>TotalCharges</th>\n",
       "      <th>Churn</th>\n",
       "    </tr>\n",
       "    <tr>\n",
       "      <th>id</th>\n",
       "      <th></th>\n",
       "      <th></th>\n",
       "      <th></th>\n",
       "      <th></th>\n",
       "      <th></th>\n",
       "      <th></th>\n",
       "      <th></th>\n",
       "      <th></th>\n",
       "      <th></th>\n",
       "      <th></th>\n",
       "      <th></th>\n",
       "      <th></th>\n",
       "      <th></th>\n",
       "      <th></th>\n",
       "      <th></th>\n",
       "      <th></th>\n",
       "      <th></th>\n",
       "      <th></th>\n",
       "      <th></th>\n",
       "      <th></th>\n",
       "    </tr>\n",
       "  </thead>\n",
       "  <tbody>\n",
       "  </tbody>\n",
       "</table>\n",
       "</div>"
      ],
      "text/plain": [
       "Empty DataFrame\n",
       "Columns: [gender, SeniorCitizen, Partner, Dependents, tenure, PhoneService, MultipleLines, InternetService, OnlineSecurity, OnlineBackup, DeviceProtection, TechSupport, StreamingTV, StreamingMovies, Contract, PaperlessBilling, PaymentMethod, MonthlyCharges, TotalCharges, Churn]\n",
       "Index: []"
      ]
     },
     "execution_count": 18,
     "metadata": {},
     "output_type": "execute_result"
    }
   ],
   "source": [
    "# Convertendo para 'NaN' (Not a number)\n",
    "df_customers['TotalCharges'] = pd.to_numeric(df_customers['TotalCharges'], errors = 'coerce')\n",
    "\n",
    "# Visualizando se há alguma linha em que a string vazia permanece na feature 'TotalCharges'\n",
    "df_customers.loc[df_customers['TotalCharges'] == \"\", :]"
   ]
  },
  {
   "cell_type": "code",
   "execution_count": 19,
   "id": "14e2c004-5222-409c-9202-3851219e5ef1",
   "metadata": {},
   "outputs": [
    {
     "data": {
      "text/plain": [
       "TotalCharges\n",
       "20.20    8\n",
       "19.55    7\n",
       "20.25    6\n",
       "19.65    6\n",
       "19.90    6\n",
       "19.45    6\n",
       "20.05    6\n",
       "19.75    6\n",
       "45.30    5\n",
       "20.15    5\n",
       "44.40    4\n",
       "20.30    4\n",
       "50.15    4\n",
       "19.30    4\n",
       "44.00    4\n",
       "69.60    4\n",
       "20.45    4\n",
       "19.20    4\n",
       "69.65    4\n",
       "74.35    3\n",
       "Name: count, dtype: int64"
      ]
     },
     "execution_count": 19,
     "metadata": {},
     "output_type": "execute_result"
    }
   ],
   "source": [
    "# Chamando a função mais uma vez\n",
    "valores('TotalCharges').head(20)"
   ]
  },
  {
   "cell_type": "code",
   "execution_count": 20,
   "id": "6eb29725-dbb5-4bca-b80b-bcc9ab17ba3d",
   "metadata": {},
   "outputs": [
    {
     "data": {
      "text/plain": [
       "gender               object\n",
       "SeniorCitizen         int64\n",
       "Partner              object\n",
       "Dependents           object\n",
       "tenure              float64\n",
       "PhoneService         object\n",
       "MultipleLines        object\n",
       "InternetService      object\n",
       "OnlineSecurity       object\n",
       "OnlineBackup         object\n",
       "DeviceProtection     object\n",
       "TechSupport          object\n",
       "StreamingTV          object\n",
       "StreamingMovies      object\n",
       "Contract             object\n",
       "PaperlessBilling     object\n",
       "PaymentMethod        object\n",
       "MonthlyCharges      float64\n",
       "TotalCharges        float64\n",
       "Churn                 int64\n",
       "dtype: object"
      ]
     },
     "execution_count": 20,
     "metadata": {},
     "output_type": "execute_result"
    }
   ],
   "source": [
    "# Verificando o tipo de todas as features novamente. 'TotalCharges' está como 'float' \n",
    "df_customers.dtypes"
   ]
  },
  {
   "cell_type": "markdown",
   "id": "c5c59f65-940c-46d4-b07a-9a0605348b5d",
   "metadata": {},
   "source": [
    "## <a> Análise Exploratória de Dados </a>"
   ]
  },
  {
   "cell_type": "markdown",
   "id": "510a1cd8-2c07-4f23-a718-63a39c0e0a20",
   "metadata": {},
   "source": [
    "Algumas perguntas podem ser respondidas por meio de uma análise exploratória bem construída. Além disso, é a partir desta que é possível escolher os melhores modelos para aplicar aos dados.\n",
    "\n",
    "Durante essa seção, serão mostradas medidas de tendência central, distribuições e mais."
   ]
  },
  {
   "cell_type": "code",
   "execution_count": 21,
   "id": "100343a3-4f46-4b0e-b724-6cf2374095b2",
   "metadata": {},
   "outputs": [
    {
     "data": {
      "text/html": [
       "<div>\n",
       "<style scoped>\n",
       "    .dataframe tbody tr th:only-of-type {\n",
       "        vertical-align: middle;\n",
       "    }\n",
       "\n",
       "    .dataframe tbody tr th {\n",
       "        vertical-align: top;\n",
       "    }\n",
       "\n",
       "    .dataframe thead th {\n",
       "        text-align: right;\n",
       "    }\n",
       "</style>\n",
       "<table border=\"1\" class=\"dataframe\">\n",
       "  <thead>\n",
       "    <tr style=\"text-align: right;\">\n",
       "      <th></th>\n",
       "      <th>SeniorCitizen</th>\n",
       "      <th>tenure</th>\n",
       "      <th>MonthlyCharges</th>\n",
       "      <th>TotalCharges</th>\n",
       "      <th>Churn</th>\n",
       "    </tr>\n",
       "  </thead>\n",
       "  <tbody>\n",
       "    <tr>\n",
       "      <th>count</th>\n",
       "      <td>5634.00</td>\n",
       "      <td>5173.00</td>\n",
       "      <td>5634.00</td>\n",
       "      <td>5626.00</td>\n",
       "      <td>5634.00</td>\n",
       "    </tr>\n",
       "    <tr>\n",
       "      <th>mean</th>\n",
       "      <td>0.16</td>\n",
       "      <td>32.33</td>\n",
       "      <td>64.63</td>\n",
       "      <td>2273.51</td>\n",
       "      <td>0.27</td>\n",
       "    </tr>\n",
       "    <tr>\n",
       "      <th>std</th>\n",
       "      <td>0.37</td>\n",
       "      <td>24.46</td>\n",
       "      <td>30.02</td>\n",
       "      <td>2258.38</td>\n",
       "      <td>0.44</td>\n",
       "    </tr>\n",
       "    <tr>\n",
       "      <th>min</th>\n",
       "      <td>0.00</td>\n",
       "      <td>0.00</td>\n",
       "      <td>18.25</td>\n",
       "      <td>18.80</td>\n",
       "      <td>0.00</td>\n",
       "    </tr>\n",
       "    <tr>\n",
       "      <th>25%</th>\n",
       "      <td>0.00</td>\n",
       "      <td>9.00</td>\n",
       "      <td>35.46</td>\n",
       "      <td>401.59</td>\n",
       "      <td>0.00</td>\n",
       "    </tr>\n",
       "    <tr>\n",
       "      <th>50%</th>\n",
       "      <td>0.00</td>\n",
       "      <td>29.00</td>\n",
       "      <td>70.25</td>\n",
       "      <td>1396.12</td>\n",
       "      <td>0.00</td>\n",
       "    </tr>\n",
       "    <tr>\n",
       "      <th>75%</th>\n",
       "      <td>0.00</td>\n",
       "      <td>55.00</td>\n",
       "      <td>89.80</td>\n",
       "      <td>3764.29</td>\n",
       "      <td>1.00</td>\n",
       "    </tr>\n",
       "    <tr>\n",
       "      <th>max</th>\n",
       "      <td>1.00</td>\n",
       "      <td>72.00</td>\n",
       "      <td>118.75</td>\n",
       "      <td>8684.80</td>\n",
       "      <td>1.00</td>\n",
       "    </tr>\n",
       "  </tbody>\n",
       "</table>\n",
       "</div>"
      ],
      "text/plain": [
       "       SeniorCitizen  tenure  MonthlyCharges  TotalCharges   Churn\n",
       "count        5634.00 5173.00         5634.00       5626.00 5634.00\n",
       "mean            0.16   32.33           64.63       2273.51    0.27\n",
       "std             0.37   24.46           30.02       2258.38    0.44\n",
       "min             0.00    0.00           18.25         18.80    0.00\n",
       "25%             0.00    9.00           35.46        401.59    0.00\n",
       "50%             0.00   29.00           70.25       1396.12    0.00\n",
       "75%             0.00   55.00           89.80       3764.29    1.00\n",
       "max             1.00   72.00          118.75       8684.80    1.00"
      ]
     },
     "execution_count": 21,
     "metadata": {},
     "output_type": "execute_result"
    }
   ],
   "source": [
    "# Analisando algumas estatísticas descritivas\n",
    "df_customers.describe()"
   ]
  },
  {
   "cell_type": "markdown",
   "id": "1bcfe2bc-5861-4db3-846c-8249d75643c8",
   "metadata": {},
   "source": [
    "Desconsiderando as variáveis 'SeniorCitizen' e 'Churn', que são discretas, é possível perceber que:\n",
    "* A média de tempo que os clientes permanecem na empresa é de 32.33 meses\n",
    "* O tempo máximo de permanência na empresa foi de 72 meses\n",
    "* Apenas 25% dos clientes gastam mais de 89.90 dólares por mês\n",
    "* A média de gastos por mês é de 64.63 dólares"
   ]
  },
  {
   "cell_type": "markdown",
   "id": "0dd8dd47-3dca-43e8-a228-25213804a58f",
   "metadata": {},
   "source": [
    "Para conhecer a distribuição dos dados de forma mais clara, é importante utilizar a análise gráfica"
   ]
  },
  {
   "cell_type": "code",
   "execution_count": 22,
   "id": "a56b135d-12fa-474b-9291-c094fc178f5d",
   "metadata": {},
   "outputs": [],
   "source": [
    "# Criando função para visualização gráfica\n",
    "def histograma(dados, var, legenda):\n",
    "    '''\n",
    "    Utiliza-se dos argumentos 'dados' (referente ao DataFrame),\n",
    "    'var' (referente a feature do DataFrame) e 'legenda' (referente a legenda do eixo x e ao título, nessa ordem)\n",
    "    para criar um histograma a fim de facilitar a análise gráfica da distribuição\n",
    "    '''\n",
    "    \n",
    "    sns.set_style(\"white\") # Setando estilo do seaborn \n",
    "    plt.figure(figsize=(8,4)) # Definindo tamanho do objeto figure\n",
    "    sns.histplot(data = dados, x = f'{var}', color = 'midnightblue') # Plotando o gráfico\n",
    "    sns.despine(bottom = True, left = True) # Retirando bordas\n",
    "    plt.ylabel(\"Quantidade\", color = 'grey', fontsize = 10, labelpad = 15) # Colocando legenda \n",
    "    plt.tick_params(axis = 'y', labelsize = 9, color = 'grey') # e ajustando eixo y\n",
    "    plt.xlabel(f\"{legenda[0]}\", color = 'grey', fontsize = 10, labelpad = 15) # Colocando legenda \n",
    "    plt.tick_params(axis = 'x', labelsize = 9, color = 'grey') # e ajustando o eixo x\n",
    "    \n",
    "    # Colocando titulo\n",
    "    plt.title(f\"{legenda[1]}\", color = 'k', pad = 20, fontsize = 15, fontweight = 'bold')\n",
    "    \n",
    "    # Mostrando \n",
    "    plt.show()"
   ]
  },
  {
   "cell_type": "code",
   "execution_count": 23,
   "id": "5b53f8a5-3e23-4885-9fdf-51c2217ebd20",
   "metadata": {},
   "outputs": [
    {
     "data": {
      "image/png": "[encoded data removed]",
      "text/plain": [
       "<Figure size 800x400 with 1 Axes>"
      ]
     },
     "metadata": {},
     "output_type": "display_data"
    }
   ],
   "source": [
    "# Observando a distribuição da variável 'tenure' referente ao tempo de permanência dos clientes na empresa\n",
    "histograma(df_customers, 'tenure', ('Tempo (em meses)', 'Permanência de Clientes na Empresa'))"
   ]
  },
  {
   "cell_type": "markdown",
   "id": "9fe90c6e-6edd-4e55-8c45-f448cad4627f",
   "metadata": {},
   "source": [
    "Aqui existem dois cenários:\n",
    "1) Primeiramente, é interessante notar que há muitos valores próximos de 0. Isso não significa necessariamente que os clientes estão ficando pouco tempo na empresa, uma vez que este fenômeno pode ocorrer devido a uma possível entrada de muitos clientes na organização. Levando em consideração que a base de dados utilizada representa uma Cross-Section (um recorte no tempo), deve-se ter em mente tais considerações.\n",
    "2) Existem muitos valores considerados como o tempo de permanência máximo, que, como foi mostrado, corresponde a 72 meses (6 anos). Isso não significa que este é, de fato, o tempo máximo de permanência na empresa, já que existe a possibilidade da coleta dos dados utilizados ter começado há 6 anos e os clientes mais antigos estarem todos representados na última faixa (bin) do histograma, quando, na verdade, deveriam estar distribuídos entre outras faixas de tempo de permanência (de 72 meses pra cima).\n",
    "\n",
    "Em razão disso, é importante checar os valores mais profundamente"
   ]
  },
  {
   "cell_type": "code",
   "execution_count": 24,
   "id": "1800540e-95ee-4ab8-9699-b0d9aef973c3",
   "metadata": {},
   "outputs": [
    {
     "data": {
      "text/plain": [
       "992"
      ]
     },
     "execution_count": 24,
     "metadata": {},
     "output_type": "execute_result"
    }
   ],
   "source": [
    "# Analisando quantidade de clientes com permanência menor ou igual a 5 meses \n",
    "len(df_customers.loc[df_customers['tenure'] <= 5])"
   ]
  },
  {
   "cell_type": "code",
   "execution_count": 25,
   "id": "268937c2-b5f6-4527-988f-eb4800769dc6",
   "metadata": {},
   "outputs": [
    {
     "name": "stdout",
     "output_type": "stream",
     "text": [
      "17.61% dos clientes estão na empresa há 5 meses ou menos\n"
     ]
    }
   ],
   "source": [
    "# Calculando percentual dos clientes com permanência menor ou igual a 5 meses\n",
    "percentual = (len(df_customers.loc[df_customers['tenure'] <= 5])/df_customers.shape[0]) * 100\n",
    "\n",
    "# Mostrando\n",
    "print(f\"{percentual:.2f}% dos clientes estão na empresa há 5 meses ou menos\")"
   ]
  },
  {
   "cell_type": "markdown",
   "id": "bd143aa8-77b9-4bd9-9996-1e7104afea7f",
   "metadata": {},
   "source": [
    "Uma grande parcela de clientes está na empresa há pouco tempo, o que pode ser, de fato, um indicativo de crescimento "
   ]
  },
  {
   "cell_type": "markdown",
   "id": "f31ac399-7c48-42a7-95c9-7480727cd5b5",
   "metadata": {},
   "source": [
    "A fim de examinar o cenário 2 descrito acima, é possível dividir o total de consumo dos clientes (durante toda permanência na empresa) pelas despesas mensais, estimando, dessa forma, o tempo que estão na organização de telecomunicações"
   ]
  },
  {
   "cell_type": "code",
   "execution_count": 26,
   "id": "cfbe7baf-0a3b-4001-98aa-d1c811f9e304",
   "metadata": {},
   "outputs": [
    {
     "data": {
      "text/html": [
       "<div>\n",
       "<style scoped>\n",
       "    .dataframe tbody tr th:only-of-type {\n",
       "        vertical-align: middle;\n",
       "    }\n",
       "\n",
       "    .dataframe tbody tr th {\n",
       "        vertical-align: top;\n",
       "    }\n",
       "\n",
       "    .dataframe thead th {\n",
       "        text-align: right;\n",
       "    }\n",
       "</style>\n",
       "<table border=\"1\" class=\"dataframe\">\n",
       "  <thead>\n",
       "    <tr style=\"text-align: right;\">\n",
       "      <th></th>\n",
       "      <th>meses</th>\n",
       "    </tr>\n",
       "    <tr>\n",
       "      <th>id</th>\n",
       "      <th></th>\n",
       "    </tr>\n",
       "  </thead>\n",
       "  <tbody>\n",
       "    <tr>\n",
       "      <th>4030</th>\n",
       "      <td>56.83</td>\n",
       "    </tr>\n",
       "    <tr>\n",
       "      <th>6731</th>\n",
       "      <td>16.93</td>\n",
       "    </tr>\n",
       "    <tr>\n",
       "      <th>6479</th>\n",
       "      <td>59.93</td>\n",
       "    </tr>\n",
       "    <tr>\n",
       "      <th>6861</th>\n",
       "      <td>34.79</td>\n",
       "    </tr>\n",
       "    <tr>\n",
       "      <th>3266</th>\n",
       "      <td>27.91</td>\n",
       "    </tr>\n",
       "  </tbody>\n",
       "</table>\n",
       "</div>"
      ],
      "text/plain": [
       "      meses\n",
       "id         \n",
       "4030  56.83\n",
       "6731  16.93\n",
       "6479  59.93\n",
       "6861  34.79\n",
       "3266  27.91"
      ]
     },
     "execution_count": 26,
     "metadata": {},
     "output_type": "execute_result"
    }
   ],
   "source": [
    "# Calculando a divisão dos gastos totais pelos gastos mensais\n",
    "divisao = df_customers['TotalCharges']/df_customers['MonthlyCharges']\n",
    "\n",
    "# Transformando em um Pandas DataFrame\n",
    "df = pd.DataFrame(divisao, columns=['meses'])\n",
    "\n",
    "# Visualizando\n",
    "df.head()"
   ]
  },
  {
   "cell_type": "code",
   "execution_count": 27,
   "id": "443fa0de-b047-4218-96f5-182b7a148627",
   "metadata": {},
   "outputs": [
    {
     "name": "stdout",
     "output_type": "stream",
     "text": [
      "De acordo com a estimativa calculada, 3.51% dos clientes estão na empresa há mais de 6 anos\n"
     ]
    }
   ],
   "source": [
    "# Calculando quantos clientes estão na empresa há mais de 6 anos\n",
    "len(df.loc[df['meses'] > 72])\n",
    "\n",
    "# Calculando percentual \n",
    "p = ((len(df.loc[df['meses'] > 72])/df.shape[0])*100)\n",
    "print(f\"De acordo com a estimativa calculada, {p:.2f}% dos clientes estão na empresa há mais de 6 anos\")"
   ]
  },
  {
   "cell_type": "code",
   "execution_count": 28,
   "id": "5f6ec320-95a9-4ce8-9828-a1f2ddda9f8b",
   "metadata": {},
   "outputs": [
    {
     "data": {
      "text/html": [
       "<div>\n",
       "<style scoped>\n",
       "    .dataframe tbody tr th:only-of-type {\n",
       "        vertical-align: middle;\n",
       "    }\n",
       "\n",
       "    .dataframe tbody tr th {\n",
       "        vertical-align: top;\n",
       "    }\n",
       "\n",
       "    .dataframe thead th {\n",
       "        text-align: right;\n",
       "    }\n",
       "</style>\n",
       "<table border=\"1\" class=\"dataframe\">\n",
       "  <thead>\n",
       "    <tr style=\"text-align: right;\">\n",
       "      <th></th>\n",
       "      <th>SeniorCitizen</th>\n",
       "      <th>tenure</th>\n",
       "      <th>MonthlyCharges</th>\n",
       "      <th>TotalCharges</th>\n",
       "      <th>Churn</th>\n",
       "    </tr>\n",
       "  </thead>\n",
       "  <tbody>\n",
       "    <tr>\n",
       "      <th>count</th>\n",
       "      <td>5634.00</td>\n",
       "      <td>5173.00</td>\n",
       "      <td>5634.00</td>\n",
       "      <td>5626.00</td>\n",
       "      <td>5634.00</td>\n",
       "    </tr>\n",
       "    <tr>\n",
       "      <th>mean</th>\n",
       "      <td>0.16</td>\n",
       "      <td>32.33</td>\n",
       "      <td>64.63</td>\n",
       "      <td>2273.51</td>\n",
       "      <td>0.27</td>\n",
       "    </tr>\n",
       "    <tr>\n",
       "      <th>std</th>\n",
       "      <td>0.37</td>\n",
       "      <td>24.46</td>\n",
       "      <td>30.02</td>\n",
       "      <td>2258.38</td>\n",
       "      <td>0.44</td>\n",
       "    </tr>\n",
       "    <tr>\n",
       "      <th>min</th>\n",
       "      <td>0.00</td>\n",
       "      <td>0.00</td>\n",
       "      <td>18.25</td>\n",
       "      <td>18.80</td>\n",
       "      <td>0.00</td>\n",
       "    </tr>\n",
       "    <tr>\n",
       "      <th>0%</th>\n",
       "      <td>0.00</td>\n",
       "      <td>0.00</td>\n",
       "      <td>18.25</td>\n",
       "      <td>18.80</td>\n",
       "      <td>0.00</td>\n",
       "    </tr>\n",
       "    <tr>\n",
       "      <th>10%</th>\n",
       "      <td>0.00</td>\n",
       "      <td>2.00</td>\n",
       "      <td>20.05</td>\n",
       "      <td>85.50</td>\n",
       "      <td>0.00</td>\n",
       "    </tr>\n",
       "    <tr>\n",
       "      <th>20%</th>\n",
       "      <td>0.00</td>\n",
       "      <td>6.00</td>\n",
       "      <td>25.10</td>\n",
       "      <td>267.00</td>\n",
       "      <td>0.00</td>\n",
       "    </tr>\n",
       "    <tr>\n",
       "      <th>30%</th>\n",
       "      <td>0.00</td>\n",
       "      <td>12.00</td>\n",
       "      <td>45.80</td>\n",
       "      <td>550.98</td>\n",
       "      <td>0.00</td>\n",
       "    </tr>\n",
       "    <tr>\n",
       "      <th>40%</th>\n",
       "      <td>0.00</td>\n",
       "      <td>20.00</td>\n",
       "      <td>58.60</td>\n",
       "      <td>939.80</td>\n",
       "      <td>0.00</td>\n",
       "    </tr>\n",
       "    <tr>\n",
       "      <th>50%</th>\n",
       "      <td>0.00</td>\n",
       "      <td>29.00</td>\n",
       "      <td>70.25</td>\n",
       "      <td>1396.12</td>\n",
       "      <td>0.00</td>\n",
       "    </tr>\n",
       "    <tr>\n",
       "      <th>60%</th>\n",
       "      <td>0.00</td>\n",
       "      <td>39.00</td>\n",
       "      <td>78.90</td>\n",
       "      <td>2065.40</td>\n",
       "      <td>0.00</td>\n",
       "    </tr>\n",
       "    <tr>\n",
       "      <th>70%</th>\n",
       "      <td>0.00</td>\n",
       "      <td>50.00</td>\n",
       "      <td>85.40</td>\n",
       "      <td>3100.22</td>\n",
       "      <td>0.00</td>\n",
       "    </tr>\n",
       "    <tr>\n",
       "      <th>80%</th>\n",
       "      <td>0.00</td>\n",
       "      <td>60.00</td>\n",
       "      <td>94.10</td>\n",
       "      <td>4445.30</td>\n",
       "      <td>1.00</td>\n",
       "    </tr>\n",
       "    <tr>\n",
       "      <th>90%</th>\n",
       "      <td>1.00</td>\n",
       "      <td>69.00</td>\n",
       "      <td>102.10</td>\n",
       "      <td>5975.60</td>\n",
       "      <td>1.00</td>\n",
       "    </tr>\n",
       "    <tr>\n",
       "      <th>100%</th>\n",
       "      <td>1.00</td>\n",
       "      <td>72.00</td>\n",
       "      <td>118.75</td>\n",
       "      <td>8684.80</td>\n",
       "      <td>1.00</td>\n",
       "    </tr>\n",
       "    <tr>\n",
       "      <th>max</th>\n",
       "      <td>1.00</td>\n",
       "      <td>72.00</td>\n",
       "      <td>118.75</td>\n",
       "      <td>8684.80</td>\n",
       "      <td>1.00</td>\n",
       "    </tr>\n",
       "  </tbody>\n",
       "</table>\n",
       "</div>"
      ],
      "text/plain": [
       "       SeniorCitizen  tenure  MonthlyCharges  TotalCharges   Churn\n",
       "count        5634.00 5173.00         5634.00       5626.00 5634.00\n",
       "mean            0.16   32.33           64.63       2273.51    0.27\n",
       "std             0.37   24.46           30.02       2258.38    0.44\n",
       "min             0.00    0.00           18.25         18.80    0.00\n",
       "0%              0.00    0.00           18.25         18.80    0.00\n",
       "10%             0.00    2.00           20.05         85.50    0.00\n",
       "20%             0.00    6.00           25.10        267.00    0.00\n",
       "30%             0.00   12.00           45.80        550.98    0.00\n",
       "40%             0.00   20.00           58.60        939.80    0.00\n",
       "50%             0.00   29.00           70.25       1396.12    0.00\n",
       "60%             0.00   39.00           78.90       2065.40    0.00\n",
       "70%             0.00   50.00           85.40       3100.22    0.00\n",
       "80%             0.00   60.00           94.10       4445.30    1.00\n",
       "90%             1.00   69.00          102.10       5975.60    1.00\n",
       "100%            1.00   72.00          118.75       8684.80    1.00\n",
       "max             1.00   72.00          118.75       8684.80    1.00"
      ]
     },
     "execution_count": 28,
     "metadata": {},
     "output_type": "execute_result"
    }
   ],
   "source": [
    "# Visualizando as estatísticas descritivas com maior profundidade\n",
    "df_customers.describe(percentiles = np.linspace(0,1,11))"
   ]
  },
  {
   "cell_type": "markdown",
   "id": "4d5719df-c536-4c15-8f3d-d14083c861ee",
   "metadata": {},
   "source": [
    "De fato é possível observar que:\n",
    "* 30% dos clientes estão na empresa há 1 ano ou menos\n",
    "* Apenas 20% dos clientes estão na empresa há 5 anos ou mais"
   ]
  },
  {
   "cell_type": "markdown",
   "id": "b4cf1f1a-f37e-42eb-8e23-4e937ade9c0d",
   "metadata": {},
   "source": [
    "Agora, serão analisadas as depesas mensais dos clientes"
   ]
  },
  {
   "cell_type": "code",
   "execution_count": 29,
   "id": "fb866f3b-bc47-49e8-93af-1969e42cc5ba",
   "metadata": {},
   "outputs": [
    {
     "data": {
      "image/png": "[encoded data removed]",
      "text/plain": [
       "<Figure size 800x400 with 1 Axes>"
      ]
     },
     "metadata": {},
     "output_type": "display_data"
    }
   ],
   "source": [
    "# Observando a distribuição da variável 'MonthlyCharges'\n",
    "histograma(df_customers, 'MonthlyCharges', (\"Despesas (em dólares)\", \"Despesa Mensal nos Serviços da Empresa\"))"
   ]
  },
  {
   "cell_type": "markdown",
   "id": "b365221a-2beb-4ec4-b009-2924b60efd42",
   "metadata": {},
   "source": [
    "Como fica claro a partir da visualização do histograma, os dados revelam que a maioria dos clientes gasta de 20 a 25 dólares por mês, o que pode ser reflexo de um determinado perfil de consumidor (que possui poucos serviços ativos na empresa)"
   ]
  },
  {
   "cell_type": "markdown",
   "id": "9f584aca-2162-4683-9ffd-ac9ef4e4e223",
   "metadata": {},
   "source": [
    "Agora, analisando as depesas totais, temos:"
   ]
  },
  {
   "cell_type": "code",
   "execution_count": 30,
   "id": "fccc42bc-4f9c-4a37-9fab-83b787d23376",
   "metadata": {},
   "outputs": [
    {
     "data": {
      "image/png": "[encoded data removed]",
      "text/plain": [
       "<Figure size 800x400 with 1 Axes>"
      ]
     },
     "metadata": {},
     "output_type": "display_data"
    }
   ],
   "source": [
    "# Observando a distribuição da variável 'TotalCharges'\n",
    "histograma(df_customers, 'TotalCharges', (\"Despesas (em dólares)\", \"Despesa Total nos Serviços da Empresa\"))"
   ]
  },
  {
   "cell_type": "markdown",
   "id": "44377eb5-a4ad-4190-8c22-70c6b201cae5",
   "metadata": {},
   "source": [
    "De forma similar às despesas mensais, é possível observar que há uma grande parcela de clientes com despesas totais relativamente baixas. No entanto, este pode ser um indicativo dos clientes que estão há pouco tempo na empresa.\n",
    "\n",
    "Além disso, também é nítido que há poucos clientes com despesas totais altas. Levando em consideração que as despesas totais aumentam com o tempo de permanência, a estimativa calculada, de que menos de 4% dos clientes estão na empresa há mais de 6 anos, ajuda a compreender esse aspecto da distribuição."
   ]
  },
  {
   "cell_type": "code",
   "execution_count": 31,
   "id": "3a429734-d924-49dc-955b-4315acc67f8f",
   "metadata": {},
   "outputs": [],
   "source": [
    "# Criando novo DataFrame com apenas informações de sexo e churn\n",
    "churn_sexo = df_customers.loc[:,['gender', 'Churn']]\n",
    "\n",
    "# Criando novo DataFrame com informações de sexo e Churn = 1\n",
    "churn_sexo_1 = df_customers.loc[df_customers['Churn'] == 1, ['gender', 'Churn']]"
   ]
  },
  {
   "cell_type": "code",
   "execution_count": 32,
   "id": "f6063278-dd56-4dbd-b158-135453063488",
   "metadata": {},
   "outputs": [],
   "source": [
    "def countplot(dados, var, legenda):\n",
    "    '''\n",
    "    Utiliza-se dos argumentos 'dados' (referente ao DataFrame),\n",
    "    'var' (referente a feature do DataFrame) e 'legenda' (referente a legenda do eixo x e ao título, nessa ordem)\n",
    "    para criar um countplot a fim de facilitar a análise gráfica \n",
    "    '''\n",
    "    color = ['#800080', '#FFFF00'] # Definindo cores para a paleta\n",
    "    sns.set_style(\"white\") # Setando estilo do seaborn \n",
    "    plt.figure(figsize=(8,4)) # Definindo tamanho do objeto figure\n",
    "    sns.countplot(data = dados, x = f'{var}', palette = color) # Plotando o gráfico\n",
    "    sns.despine(bottom = True, left = True) # Retirando bordas\n",
    "    plt.ylabel(\"Quantidade\", color = 'grey', fontsize = 10, labelpad = 15) # Colocando legenda \n",
    "    plt.tick_params(axis = 'y', labelsize = 9, color = 'grey') # e ajustando eixo y\n",
    "    plt.xlabel(f\"{legenda[0]}\", color = 'grey', fontsize = 10, labelpad = 15) # Colocando legenda \n",
    "    plt.tick_params(axis = 'x', labelsize = 9, color = 'grey') # e ajustando o eixo x\n",
    "    \n",
    "    # Colocando titulo\n",
    "    plt.title(f\"{legenda[1]}\", color = 'k', pad = 20, fontsize = 15, fontweight = 'bold')\n",
    "    \n",
    "    # Mostrando \n",
    "    plt.show()"
   ]
  },
  {
   "cell_type": "code",
   "execution_count": 33,
   "id": "be31aa63-8cc4-4b5d-b102-be6114c5c2a1",
   "metadata": {},
   "outputs": [
    {
     "data": {
      "image/png": "[encoded data removed]",
      "text/plain": [
       "<Figure size 800x400 with 1 Axes>"
      ]
     },
     "metadata": {},
     "output_type": "display_data"
    }
   ],
   "source": [
    "# Analisando Churn por Sexo\n",
    "countplot(churn_sexo_1, 'gender', ('Sexo', 'Churn por Sexo'))"
   ]
  },
  {
   "cell_type": "markdown",
   "id": "a89c26af-5d86-4357-9679-b4cf5be73603",
   "metadata": {},
   "source": [
    "A quantidade de Churn entre os sexos é bem parecida. Apesar disso, ainda é interessante utilizar o teste chi-quadrado a fim de observar se as variáveis são ou não associadas."
   ]
  },
  {
   "cell_type": "code",
   "execution_count": 34,
   "id": "8cdb8182-bc0c-4d01-8e1a-15ba883aa3a9",
   "metadata": {},
   "outputs": [],
   "source": [
    "# Criando tabela de contingência para cálculo do teste chi-quadrado\n",
    "def chi_quadrado(dados, var1, var2):\n",
    "    '''\n",
    "    Utiliza-se dos argumentos 'dados' (referente ao DataFrame), 'var1' (referente a variável 1)\n",
    "    e 'var2' (referente a variável 2) para construir a tabela de contingência, e assim, calcular\n",
    "    a estatística de teste e o p-valor associado a ela.\n",
    "    '''\n",
    "    tabela_contingencia = pd.crosstab(dados[var1], dados[var2])\n",
    "    chi2, p_value, graus_lib, tabela_conting = chi2_contingency(tabela_contingencia)\n",
    "    print(f\"A estatística de teste calculada foi: {chi2}\")\n",
    "    print(f\"O p-value calculado foi: {p_value}\")"
   ]
  },
  {
   "cell_type": "code",
   "execution_count": 35,
   "id": "c1c3fc91-a551-455f-8c9d-34a581d1d8ec",
   "metadata": {},
   "outputs": [
    {
     "name": "stdout",
     "output_type": "stream",
     "text": [
      "A estatística de teste calculada foi: 0.0008792143067695747\n",
      "O p-value calculado foi: 0.9763449538995617\n"
     ]
    }
   ],
   "source": [
    "# Calculando o teste chi-quadrado para independência de variáveis\n",
    "chi_quadrado(churn_sexo, 'gender', 'Churn')"
   ]
  },
  {
   "cell_type": "markdown",
   "id": "0cd1de0a-021e-4250-99f1-5f3b7c1d8d03",
   "metadata": {},
   "source": [
    "Levando em consideração as hipóteses do teste chi-quadrado para independência:\n",
    "\n",
    "H0: Não há relações significativas entre as variáveis \n",
    "\n",
    "H1: Há relações significativas entre as variáveis \n",
    "\n",
    "E tendo como base o cálculo do p-valor, é possível identificar que, para um nível de significância de 5%, não há evidências suficientes (de acordo com os dados) para rejeitar a hipótese nula. Dessa forma, o teste indica que as variáveis sexo e churn são independentes."
   ]
  },
  {
   "cell_type": "code",
   "execution_count": 36,
   "id": "51e380b7-ccb3-4996-b55e-987625d141b1",
   "metadata": {},
   "outputs": [],
   "source": [
    "# Criando novo DataFrame com apenas informações de SeniorCitizen e churn\n",
    "churn_senior = df_customers.loc[:,['SeniorCitizen', 'Churn']]"
   ]
  },
  {
   "cell_type": "code",
   "execution_count": 37,
   "id": "b7866130-c85c-4337-963e-8529af496fd4",
   "metadata": {},
   "outputs": [],
   "source": [
    "# Criando função para calcular taxa de churn por meio da tabela de contingência\n",
    "def taxa_churn(dados, var1, var2):\n",
    "    '''Cria uma tabela de contingência por meio dos argumentos 'dados' (que se refere ao DataFrame),\n",
    "    'var1' (que se refere a primeira variável) e 'var2' (que se refere a segunda variável). Após isso, adiciona\n",
    "    os percentuais referentes as classes e a variável 2 (que deve ser 'Churn' para o propósito de plot dos gráficos)\n",
    "    '''\n",
    "    # Criando tabela\n",
    "    tabela = pd.crosstab(dados[var1], dados[var2])\n",
    "\n",
    "    # Adicionando percentual\n",
    "    tabela['Percentual'] = ((tabela[1][0]/(tabela[1][0] + tabela[0][0])) * 100), ((tabela[1][1]/(tabela[1][1] + tabela[0][1])) * 100 )\n",
    "    return tabela"
   ]
  },
  {
   "cell_type": "code",
   "execution_count": 38,
   "id": "38e6b764-5ede-4310-9586-1ef8b84bd0dc",
   "metadata": {},
   "outputs": [
    {
     "data": {
      "text/html": [
       "<div>\n",
       "<style scoped>\n",
       "    .dataframe tbody tr th:only-of-type {\n",
       "        vertical-align: middle;\n",
       "    }\n",
       "\n",
       "    .dataframe tbody tr th {\n",
       "        vertical-align: top;\n",
       "    }\n",
       "\n",
       "    .dataframe thead th {\n",
       "        text-align: right;\n",
       "    }\n",
       "</style>\n",
       "<table border=\"1\" class=\"dataframe\">\n",
       "  <thead>\n",
       "    <tr style=\"text-align: right;\">\n",
       "      <th>Churn</th>\n",
       "      <th>0</th>\n",
       "      <th>1</th>\n",
       "      <th>Percentual</th>\n",
       "    </tr>\n",
       "    <tr>\n",
       "      <th>SeniorCitizen</th>\n",
       "      <th></th>\n",
       "      <th></th>\n",
       "      <th></th>\n",
       "    </tr>\n",
       "  </thead>\n",
       "  <tbody>\n",
       "    <tr>\n",
       "      <th>0</th>\n",
       "      <td>3629</td>\n",
       "      <td>1111</td>\n",
       "      <td>23.44</td>\n",
       "    </tr>\n",
       "    <tr>\n",
       "      <th>1</th>\n",
       "      <td>510</td>\n",
       "      <td>384</td>\n",
       "      <td>42.95</td>\n",
       "    </tr>\n",
       "  </tbody>\n",
       "</table>\n",
       "</div>"
      ],
      "text/plain": [
       "Churn             0     1  Percentual\n",
       "SeniorCitizen                        \n",
       "0              3629  1111       23.44\n",
       "1               510   384       42.95"
      ]
     },
     "execution_count": 38,
     "metadata": {},
     "output_type": "execute_result"
    }
   ],
   "source": [
    "# Vendo a taxa de Churn por Grupo Etário\n",
    "taxa_grupo_etario = taxa_churn(churn_senior, 'SeniorCitizen', 'Churn')\n",
    "taxa_grupo_etario"
   ]
  },
  {
   "cell_type": "code",
   "execution_count": 39,
   "id": "e269cb62-bc47-4625-9f2b-3e7422acc40b",
   "metadata": {},
   "outputs": [
    {
     "name": "stdout",
     "output_type": "stream",
     "text": [
      "23.44% dos não idosos saíram da empresa\n",
      "42.95% dos idosos saíram da empresa\n"
     ]
    }
   ],
   "source": [
    "# Resultados\n",
    "print(f\"{taxa_grupo_etario['Percentual'][0]:.2f}% dos não idosos saíram da empresa\")\n",
    "print(f\"{taxa_grupo_etario['Percentual'][1]:.2f}% dos idosos saíram da empresa\")"
   ]
  },
  {
   "cell_type": "code",
   "execution_count": 40,
   "id": "8bacc230-ccaf-4a71-b26d-d5cb7b13edb2",
   "metadata": {},
   "outputs": [],
   "source": [
    "# Criando função para mostrar Taxa de Churn por grupos\n",
    "def barplot(dados, legenda):\n",
    "    '''Utiliza-se da tabela de contingência criada no argumento 'dados' para criar\n",
    "    um barplot com os percentuais de churn por grupo. O argumento 'legenda' auxilia a \n",
    "    visualização gráfica e deve ser composto por duas strings, nesta ordem: \n",
    "    1) Legenda para o eixo x\n",
    "    2) Título do Gráfico\n",
    "    '''\n",
    "    # Definindo cores para a paleta\n",
    "    color = ['#800080', '#FFFF00'] \n",
    "    \n",
    "    # Setando estilo do seaborn \n",
    "    sns.set_style(\"white\") \n",
    "    \n",
    "    # Definindo tamanho do objeto figure\n",
    "    plt.figure(figsize=(8,6)) \n",
    "    \n",
    "    # Plotando gráfico\n",
    "    sns.barplot(data = dados, x = dados.index, y = dados['Percentual'], palette = color)\n",
    "    sns.despine(bottom = True, left = True) # Retirando bordas\n",
    "    plt.ylabel(\"Taxa de Churn (%)\", color = 'grey', fontsize = 10, labelpad = 15) # Colocando legenda \n",
    "    plt.tick_params(axis = 'y', labelsize = 9, color = 'grey') # e ajustando eixo y\n",
    "    plt.xlabel(f\"{legenda[0]}\", color = 'grey', fontsize = 10, labelpad = 15) # Colocando legenda \n",
    "    plt.tick_params(axis = 'x', labelsize = 9, color = 'grey') # e ajustando o eixo x\n",
    "    plt.title(f\"{legenda[1]}\", color = 'k', pad = 20, fontsize = 15, fontweight = 'bold') # Colocando título\n",
    "    \n",
    "    # Mostrnado\n",
    "    plt.show()"
   ]
  },
  {
   "cell_type": "code",
   "execution_count": 41,
   "id": "8feb17b4-68db-44de-a95f-c9400b33b9e6",
   "metadata": {},
   "outputs": [
    {
     "data": {
      "image/png": "[encoded data removed]",
      "text/plain": [
       "<Figure size 800x600 with 1 Axes>"
      ]
     },
     "metadata": {},
     "output_type": "display_data"
    }
   ],
   "source": [
    "# Visualizando a taxa de churn por grupo etário (idosos e não idosos)\n",
    "barplot(taxa_grupo_etario, ('Grupos Etários (0: Não Idosos, 1: Idosos)', 'Taxa de Churn por Grupo Etário'))"
   ]
  },
  {
   "cell_type": "markdown",
   "id": "a0f73f57-e702-42e3-beb9-d639e348dcf4",
   "metadata": {},
   "source": [
    "Como foi mostrado, o percentual de churn entre idosos é quase o dobro do percentual de churn entre não idosos."
   ]
  },
  {
   "cell_type": "markdown",
   "id": "f88e31b2-d0a2-40d7-a11b-1498e4c4325d",
   "metadata": {},
   "source": [
    "Agora, resta realizar o teste chi-quadrado:"
   ]
  },
  {
   "cell_type": "code",
   "execution_count": 42,
   "id": "10c46a0b-dedf-4c41-9ec2-812285a055ab",
   "metadata": {},
   "outputs": [
    {
     "name": "stdout",
     "output_type": "stream",
     "text": [
      "A estatística de teste calculada foi: 145.92633570191973\n",
      "O p-value calculado foi: 1.347240916789517e-33\n"
     ]
    }
   ],
   "source": [
    "# Calculando o teste chi-quadrado para independência de variáveis\n",
    "chi_quadrado(churn_senior, 'SeniorCitizen', 'Churn')"
   ]
  },
  {
   "cell_type": "markdown",
   "id": "e03edfe0-713e-4310-b487-02a9d7d5fd12",
   "metadata": {},
   "source": [
    "A partir da estatística de teste e do p-valor, é possível rejeitar a hipótese nula (a 5% de significância), concluindo que há evidências de que existe relação entre os idosos e a variável de saída churn."
   ]
  },
  {
   "cell_type": "code",
   "execution_count": 43,
   "id": "14b0bd46-08df-4174-b006-82205c7d464c",
   "metadata": {},
   "outputs": [],
   "source": [
    "# Criando novo DataFrame com apenas informações de Dependents e churn\n",
    "churn_dependents = df_customers.loc[:,['Dependents', 'Churn']]"
   ]
  },
  {
   "cell_type": "code",
   "execution_count": 44,
   "id": "300b59ee-aed5-4293-9ce7-e7d36b731f79",
   "metadata": {},
   "outputs": [
    {
     "data": {
      "text/html": [
       "<div>\n",
       "<style scoped>\n",
       "    .dataframe tbody tr th:only-of-type {\n",
       "        vertical-align: middle;\n",
       "    }\n",
       "\n",
       "    .dataframe tbody tr th {\n",
       "        vertical-align: top;\n",
       "    }\n",
       "\n",
       "    .dataframe thead th {\n",
       "        text-align: right;\n",
       "    }\n",
       "</style>\n",
       "<table border=\"1\" class=\"dataframe\">\n",
       "  <thead>\n",
       "    <tr style=\"text-align: right;\">\n",
       "      <th>Churn</th>\n",
       "      <th>0</th>\n",
       "      <th>1</th>\n",
       "      <th>Percentual</th>\n",
       "    </tr>\n",
       "    <tr>\n",
       "      <th>Dependents</th>\n",
       "      <th></th>\n",
       "      <th></th>\n",
       "      <th></th>\n",
       "    </tr>\n",
       "  </thead>\n",
       "  <tbody>\n",
       "    <tr>\n",
       "      <th>No</th>\n",
       "      <td>2615</td>\n",
       "      <td>1178</td>\n",
       "      <td>31.06</td>\n",
       "    </tr>\n",
       "    <tr>\n",
       "      <th>Yes</th>\n",
       "      <td>1376</td>\n",
       "      <td>247</td>\n",
       "      <td>15.22</td>\n",
       "    </tr>\n",
       "  </tbody>\n",
       "</table>\n",
       "</div>"
      ],
      "text/plain": [
       "Churn          0     1  Percentual\n",
       "Dependents                        \n",
       "No          2615  1178       31.06\n",
       "Yes         1376   247       15.22"
      ]
     },
     "execution_count": 44,
     "metadata": {},
     "output_type": "execute_result"
    }
   ],
   "source": [
    "# Usando a função que calcula a taxa de churn\n",
    "taxa_dependentes = taxa_churn(churn_dependents, 'Dependents', 'Churn')\n",
    "taxa_dependentes"
   ]
  },
  {
   "cell_type": "code",
   "execution_count": 45,
   "id": "e3958aab-2213-469f-bd90-7ef7c4585cd3",
   "metadata": {},
   "outputs": [
    {
     "name": "stdout",
     "output_type": "stream",
     "text": [
      "31.06% dos clientes que não possuem dependentes saíram da empresa\n",
      "15.22% dos clientes que possuem dependentes saíram da empresa\n"
     ]
    }
   ],
   "source": [
    "# Resultados\n",
    "print(f\"{taxa_dependentes['Percentual'][0]:.2f}% dos clientes que não possuem dependentes saíram da empresa\")\n",
    "print(f\"{taxa_dependentes['Percentual'][1]:.2f}% dos clientes que possuem dependentes saíram da empresa\")"
   ]
  },
  {
   "cell_type": "code",
   "execution_count": 46,
   "id": "6d53f8ae-ec96-44ab-8b02-312d34cae8b1",
   "metadata": {},
   "outputs": [
    {
     "data": {
      "image/png": "[encoded data removed]",
      "text/plain": [
       "<Figure size 800x600 with 1 Axes>"
      ]
     },
     "metadata": {},
     "output_type": "display_data"
    }
   ],
   "source": [
    "# Utilizando a função barplot para mostrar as taxas de churn por clientes que possuem dependentes\n",
    "barplot(taxa_dependentes, ('Possuem Dependentes', 'Taxa de Churn por Dependentes'))"
   ]
  },
  {
   "cell_type": "markdown",
   "id": "a79af565-cd5e-42e5-ba90-07b2f31b0dd9",
   "metadata": {},
   "source": [
    "Os clientes que não possuem dependentes tem taxa de churn superior, o que pode ser um indicativo de que deveria haver algum incentivo para estes consumidores a fim de retê-los na empresa.\n",
    "\n",
    "No entanto, para tomar qualquer decisão é necessário testar se essas variáveis ('Dependents' e 'Churn') estão associadas. Para isso, utilizamos o teste chi-quadrado para independência:"
   ]
  },
  {
   "cell_type": "code",
   "execution_count": 47,
   "id": "ebe1ccd6-dff0-4ee0-a21f-6d6d20a4236d",
   "metadata": {},
   "outputs": [
    {
     "name": "stdout",
     "output_type": "stream",
     "text": [
      "A estatística de teste calculada foi: 146.24959511579357\n",
      "O p-value calculado foi: 1.1449228963616061e-33\n"
     ]
    }
   ],
   "source": [
    "# Cálculo do teste chi-quadrado\n",
    "chi_quadrado(churn_dependents, 'Dependents', 'Churn')"
   ]
  },
  {
   "cell_type": "markdown",
   "id": "75820a57-47ee-4d22-8867-e41b16e68ba4",
   "metadata": {},
   "source": [
    "Foi possível observar, pelo cálculo do p-valor, que, a um nível de 5% de significância, as duas variáveis ('Dependents'e 'Churn') não são independentes. Isso pode reforçar a narrativa de que, de fato, o grupo de clientes que não possui dependentes é mais propenso a deixar os serviços da empresa. Com base nisso, é válido destacar que estes consumidores devem ser incentivados a ficar na empresa por meio de bonificações e/ou promoções."
   ]
  }
 ],
 "metadata": {
  "kernelspec": {
   "display_name": "Python 3 (ipykernel)",
   "language": "python",
   "name": "python3"
  },
  "language_info": {
   "codemirror_mode": {
    "name": "ipython",
    "version": 3
   },
   "file_extension": ".py",
   "mimetype": "text/x-python",
   "name": "python",
   "nbconvert_exporter": "python",
   "pygments_lexer": "ipython3",
   "version": "3.11.4"
  }
 },
 "nbformat": 4,
 "nbformat_minor": 5
}
